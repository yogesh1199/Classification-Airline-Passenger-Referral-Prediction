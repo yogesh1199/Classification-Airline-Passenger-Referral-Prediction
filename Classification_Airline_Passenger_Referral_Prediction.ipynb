{
  "nbformat": 4,
  "nbformat_minor": 0,
  "metadata": {
    "colab": {
      "private_outputs": true,
      "provenance": [],
      "collapsed_sections": [
        "bqVZBxrvPD8n",
        "mDgbUHAGgjLW",
        "nA9Y7ga8ng1Z",
        "0wOQAZs5pc--",
        "K5QZ13OEpz2H",
        "lQ7QKXXCp7Bj",
        "448CDAPjqfQr",
        "xJivPyE8q_2k",
        "azX1PEddq_20",
        "iyKleWeyq_20",
        "8-UX51ofq_21",
        "Of3PJYNbrGff",
        "w8bcvZxarGfg",
        "HZ6txCBBrGfh",
        "jbkhcZqdrGfh",
        "riLp7y9brHca",
        "Uw0GT_uHrHcb",
        "qTEiGUKorHcc",
        "1Qw8mtL3rHcd",
        "xnMZvg2orIPt",
        "mwHQVoIQrIPu",
        "Kwy5hImkrIPu",
        "0sjxqkK0rIPv",
        "y7avNpR9HL5z",
        "Z5yPuW4iHL50",
        "3vIdo55JHL50",
        "IlhlbgNBHL51",
        "oQ-pHCWMHO92",
        "DEMFeE18HO92",
        "MR3eS7xTHO93",
        "JmI1Y4YbHO93",
        "XGShqbS2HSAY",
        "B4XxyvTzHSAZ",
        "Mal1wQlpHSAZ",
        "BgP_e3WlHSAZ",
        "I3aNiIh9fKqZ",
        "hTF1e9PwfKqa",
        "1xrBLU6IfKqa",
        "yiLHMWFSfKqb",
        "NC_X3p0fY2L0",
        "UV0SzAkaZNRQ",
        "YPEH6qLeZNRQ",
        "q29F0dvdveiT",
        "EXh0U9oCveiU",
        "22aHeOlLveiV",
        "g-ATYxFrGrvw",
        "Yfr_Vlr8HBkt",
        "8yEUt7NnHlrM",
        "tEA2Xm5dHt1r",
        "I79__PHVH19G",
        "Ou-I18pAyIpj",
        "fF3858GYyt-u",
        "jLrtcv83OEmf",
        "5djnGilGOEmg",
        "DADo_qtwOEmg",
        "0VL2QIwzOEmh",
        "69qjvWOxOEmh",
        "FqZJ_xAgOH3o",
        "pE65w-N1OH3p",
        "OISwWHvhOH3p",
        "rheC10M4OH3q",
        "-CtoKDX7OH3q",
        "yLjJCtPM0KBk",
        "xiyOF9F70UgQ",
        "7wuGOrhz0itI",
        "id1riN9m0vUs",
        "578E2V7j08f6",
        "89xtkJwZ18nB",
        "67NQN5KX2AMe",
        "Iwf50b-R2tYG",
        "GMQiZwjn3iu7",
        "WVIkgGqN3qsr",
        "XkPnILGE3zoT",
        "Hlsf0x5436Go",
        "mT9DMSJo4nBL",
        "c49ITxTc407N",
        "OeJFEK0N496M",
        "9ExmJH0g5HBk",
        "cJNqERVU536h",
        "k5UmGsbsOxih",
        "T0VqWOYE6DLQ",
        "qBMux9mC6MCf",
        "-oLEiFgy-5Pf",
        "C74aWNz2AliB",
        "2DejudWSA-a0",
        "pEMng2IbBLp7",
        "TNVZ9zx19K6k",
        "nqoHp30x9hH9",
        "rMDnDkt2B6du",
        "yiiVWRdJDDil",
        "1UUpS68QDMuG",
        "kexQrXU-DjzY",
        "T5CmagL3EC8N",
        "BhH2vgX9EjGr",
        "qjKvONjwE8ra",
        "TIqpNgepFxVj",
        "VfCC591jGiD4",
        "peAK6Cc_HQeo",
        "khncImPpHcol",
        "wTe8K5rdYGV1",
        "yyzM232tatvC",
        "OMC09DFCbrEm",
        "dJ2tPlVmpsJ0",
        "JWYfwnehpsJ1",
        "-jK_YjpMpsJ2",
        "HAih1iBOpsJ2",
        "zVGeBEFhpsJ2",
        "Fze-IPXLpx6K",
        "7AN1z2sKpx6M",
        "9PIHJqyupx6M",
        "_-qAgymDpx6N",
        "Z-hykwinpx6N",
        "h_CCil-SKHpo",
        "cBFFvTBNJzUa",
        "HvGl1hHyA_VK",
        "gCX9965dhzqZ",
        "gIfDvo9L0UH2"
      ],
      "include_colab_link": true
    },
    "kernelspec": {
      "name": "python3",
      "display_name": "Python 3"
    },
    "language_info": {
      "name": "python"
    }
  },
  "cells": [
    {
      "cell_type": "markdown",
      "metadata": {
        "id": "view-in-github",
        "colab_type": "text"
      },
      "source": [
        "<a href=\"https://colab.research.google.com/github/yogesh1199/Classification-Airline-Passenger-Referral-Prediction/blob/main/Classification_Airline_Passenger_Referral_Prediction.ipynb\" target=\"_parent\"><img src=\"https://colab.research.google.com/assets/colab-badge.svg\" alt=\"Open In Colab\"/></a>"
      ]
    },
    {
      "cell_type": "markdown",
      "source": [
        "# **Project Name**    -  **Airline Passenger Referral Prediction**\n",
        "\n"
      ],
      "metadata": {
        "id": "ILM16xV1PD8m"
      }
    },
    {
      "cell_type": "markdown",
      "source": [
        "##### **Project Type**    - Classification\n",
        "##### **Contribution**    - Individual\n"
      ],
      "metadata": {
        "id": "bqVZBxrvPD8n"
      }
    },
    {
      "cell_type": "markdown",
      "source": [
        "# **Problem Statement**\n"
      ],
      "metadata": {
        "id": "yQaldy8SH6Dl"
      }
    },
    {
      "cell_type": "markdown",
      "source": [
        "**BUSINESS PROBLEM OVERVIEW**\n",
        "\n",
        "\n",
        "Air transport or aviation plays a very important role in the current transport infrastructure of the world and is definitely considered as the gift of the 20th century to the world. In today's fast paced world, air transport is a boon to all because of its speed. This mode of transportation is very useful for getting products quickly and safely to those who need them with short delivery times, but also allows the tourism industry in each country to grow steadily, reducing the distance between all the people living in the world.\n",
        "\n",
        "Here, I have a dataset related to customer service ratings by various airlines. The main objective of this project is to understand how passengers will recommend airlines to others. Here the dataset is very large which initially had 131895 rows and 17 columns. On checking the data information, it was found that the dataset basically had two different types of data, 7 columns of floats 64, 10 columns of data types with object types. Coming to the null values ​​and missing values ​​in the dataset, it was observed that non-null counts do not match which clearly states that a large number of missing and null values ​​are present in the dataset.\n",
        "\n",
        "The main objective is to predict whether passengers will refer the airline to them or not"
      ],
      "metadata": {
        "id": "jivUA-ONOwse"
      }
    },
    {
      "cell_type": "markdown",
      "source": [
        "# **General Guidelines** : -  "
      ],
      "metadata": {
        "id": "mDgbUHAGgjLW"
      }
    },
    {
      "cell_type": "markdown",
      "source": [
        "1.   Well-structured, formatted, and commented code is required.\n",
        "2.   Exception Handling, Production Grade Code & Deployment Ready Code will be a plus. Those students will be awarded some additional credits.\n",
        "     \n",
        "     The additional credits will have advantages over other students during Star Student selection.\n",
        "       \n",
        "             [ Note: - Deployment Ready Code is defined as, the whole .ipynb notebook should be executable in one go\n",
        "                       without a single error logged. ]\n",
        "\n",
        "3.   Each and every logic should have proper comments.\n",
        "4. You may add as many number of charts you want. Make Sure for each and every chart the following format should be answered.\n",
        "        \n",
        "\n",
        "```\n",
        "# Chart visualization code\n",
        "```\n",
        "            \n",
        "\n",
        "*   Why did you pick the specific chart?\n",
        "*   What is/are the insight(s) found from the chart?\n",
        "* Will the gained insights help creating a positive business impact?\n",
        "Are there any insights that lead to negative growth? Justify with specific reason.\n",
        "\n",
        "5. You have to create at least 15 logical & meaningful charts having important insights.\n",
        "\n",
        "\n",
        "[ Hints : - Do the Vizualization in  a structured way while following \"UBM\" Rule.\n",
        "\n",
        "U - Univariate Analysis,\n",
        "\n",
        "B - Bivariate Analysis (Numerical - Categorical, Numerical - Numerical, Categorical - Categorical)\n",
        "\n",
        "M - Multivariate Analysis\n",
        " ]\n",
        "\n",
        "\n",
        "\n",
        "\n",
        "\n",
        "6. You may add more ml algorithms for model creation. Make sure for each and every algorithm, the following format should be answered.\n",
        "\n",
        "\n",
        "*   Explain the ML Model used and it's performance using Evaluation metric Score Chart.\n",
        "\n",
        "\n",
        "*   Cross- Validation & Hyperparameter Tuning\n",
        "\n",
        "*   Have you seen any improvement? Note down the improvement with updates Evaluation metric Score Chart.\n",
        "\n",
        "*   Explain each evaluation metric's indication towards business and the business impact pf the ML model used.\n",
        "\n",
        "\n",
        "\n",
        "\n",
        "\n",
        "\n",
        "\n",
        "\n",
        "\n",
        "\n",
        "\n",
        "\n",
        "\n",
        "\n",
        "\n",
        "\n",
        "\n",
        "\n"
      ],
      "metadata": {
        "id": "ZrxVaUj-hHfC"
      }
    },
    {
      "cell_type": "markdown",
      "source": [
        "# ***Let's Begin !***"
      ],
      "metadata": {
        "id": "O_i_v8NEhb9l"
      }
    },
    {
      "cell_type": "markdown",
      "source": [
        "## ***1. Know Your Data***"
      ],
      "metadata": {
        "id": "HhfV-JJviCcP"
      }
    },
    {
      "cell_type": "markdown",
      "source": [
        "### Import Libraries"
      ],
      "metadata": {
        "id": "Y3lxredqlCYt"
      }
    },
    {
      "cell_type": "code",
      "source": [
        "# Import Libraries\n",
        "import numpy as np\n",
        "import pandas as pd\n",
        "from numpy import math\n",
        "from numpy import loadtxt\n",
        "import seaborn as sns\n",
        "import matplotlib.pyplot as plt\n",
        "\n",
        "import seaborn as sns\n",
        "from scipy.stats import *\n",
        "\n",
        "from statsmodels.stats.outliers_influence import variance_inflation_factor\n",
        "from sklearn.preprocessing import StandardScaler\n",
        "from sklearn.model_selection import train_test_split\n",
        "from imblearn.over_sampling import SMOTE\n",
        "from sklearn.linear_model import LogisticRegression\n",
        "from sklearn.ensemble import RandomForestClassifier\n",
        "from sklearn.metrics import accuracy_score, confusion_matrix\n",
        "from sklearn import metrics\n",
        "from sklearn.metrics import roc_curve\n",
        "from sklearn.model_selection import GridSearchCV\n",
        "from sklearn.model_selection import RepeatedStratifiedKFold\n",
        "from xgboost import XGBClassifier\n",
        "from xgboost import XGBRFClassifier\n",
        "from sklearn.tree import export_graphviz\n",
        "\n",
        "import warnings\n",
        "warnings.filterwarnings('ignore')"
      ],
      "metadata": {
        "id": "M8Vqi-pPk-HR"
      },
      "execution_count": null,
      "outputs": []
    },
    {
      "cell_type": "markdown",
      "source": [
        "### Dataset Loading"
      ],
      "metadata": {
        "id": "3RnN4peoiCZX"
      }
    },
    {
      "cell_type": "code",
      "source": [
        "# Load Dataset\n",
        "url = \"https://github.com/yogesh1199/Classification-Airline-Passenger-Referral-Prediction/raw/main/data_airline_reviews.xlsx\"\n",
        "\n",
        "airline_df = pd.read_excel(url)\n"
      ],
      "metadata": {
        "id": "4CkvbW_SlZ_R"
      },
      "execution_count": null,
      "outputs": []
    },
    {
      "cell_type": "code",
      "source": [],
      "metadata": {
        "id": "CEhiayUv1809"
      },
      "execution_count": null,
      "outputs": []
    },
    {
      "cell_type": "markdown",
      "source": [
        "### Dataset First View"
      ],
      "metadata": {
        "id": "x71ZqKXriCWQ"
      }
    },
    {
      "cell_type": "code",
      "source": [
        "# Dataset First\n",
        "airline_df.head()"
      ],
      "metadata": {
        "id": "LWNFOSvLl09H"
      },
      "execution_count": null,
      "outputs": []
    },
    {
      "cell_type": "code",
      "source": [
        "airline_df.tail()"
      ],
      "metadata": {
        "id": "ppMlX2UaWmeW"
      },
      "execution_count": null,
      "outputs": []
    },
    {
      "cell_type": "markdown",
      "source": [
        "### Dataset Rows & Columns count"
      ],
      "metadata": {
        "id": "7hBIi_osiCS2"
      }
    },
    {
      "cell_type": "code",
      "source": [
        "# Dataset Rows & Columns\n",
        "airline_df.shape"
      ],
      "metadata": {
        "id": "Kllu7SJgmLij"
      },
      "execution_count": null,
      "outputs": []
    },
    {
      "cell_type": "markdown",
      "source": [
        "### Dataset Information"
      ],
      "metadata": {
        "id": "JlHwYmJAmNHm"
      }
    },
    {
      "cell_type": "code",
      "source": [
        "# Dataset Info\n",
        "airline_df.info()"
      ],
      "metadata": {
        "id": "e9hRXRi6meOf"
      },
      "execution_count": null,
      "outputs": []
    },
    {
      "cell_type": "markdown",
      "source": [
        "#### Duplicate Values"
      ],
      "metadata": {
        "id": "35m5QtbWiB9F"
      }
    },
    {
      "cell_type": "code",
      "source": [
        "# Dataset Duplicate Value Count\n",
        "len(airline_df[airline_df.duplicated()])"
      ],
      "metadata": {
        "id": "1sLdpKYkmox0"
      },
      "execution_count": null,
      "outputs": []
    },
    {
      "cell_type": "code",
      "source": [
        "airline_df.drop_duplicates(inplace = True)"
      ],
      "metadata": {
        "id": "dd_P-72lYzHG"
      },
      "execution_count": null,
      "outputs": []
    },
    {
      "cell_type": "code",
      "source": [
        "len(airline_df[airline_df.duplicated()])"
      ],
      "metadata": {
        "id": "Ty3X1vLJY2Ka"
      },
      "execution_count": null,
      "outputs": []
    },
    {
      "cell_type": "markdown",
      "source": [
        "#### Missing Values/Null Values"
      ],
      "metadata": {
        "id": "PoPl-ycgm1ru"
      }
    },
    {
      "cell_type": "code",
      "source": [
        "# Missing Values/Null Values Count\n",
        "print(airline_df.isnull().sum())"
      ],
      "metadata": {
        "id": "GgHWkxvamxVg"
      },
      "execution_count": null,
      "outputs": []
    },
    {
      "cell_type": "code",
      "source": [
        "# Visualizing the missing values\n",
        "# Checking Null Value by plotting Heatmap\n",
        "###sns.heatmap(airline_df.isnull())\n",
        "\n",
        "plt.figure(figsize=(10, 6))\n",
        "plt.imshow(airline_df.isnull(), cmap='viridis', aspect='auto')\n",
        "plt.xticks(range(len(airline_df.columns)), airline_df.columns, rotation=90)\n",
        "plt.colorbar(label='Missing Values')\n",
        "plt.title('Missing Value Heatmap')\n",
        "\n",
        "plt.show()"
      ],
      "metadata": {
        "id": "3q5wnI3om9sJ"
      },
      "execution_count": null,
      "outputs": []
    },
    {
      "cell_type": "markdown",
      "source": [
        "### What did you know about your dataset?"
      ],
      "metadata": {
        "id": "H0kj-8xxnORC"
      }
    },
    {
      "cell_type": "markdown",
      "source": [
        "The dataset given is a dataset from Airline industry\n",
        "\n",
        "Here the dataset is very large which initially had 131895 rows and 17 columns. On checking the data information, it was found that the dataset basically had two different types of data, 7 columns of floats 64, 10 columns of data types with object types. Coming to the null values ​​and missing values ​​in the dataset, it was observed that non-null counts do not match which clearly states that a large number of missing and null values ​​are present in the dataset."
      ],
      "metadata": {
        "id": "gfoNAAC-nUe_"
      }
    },
    {
      "cell_type": "markdown",
      "source": [
        "## ***2. Understanding Your Variables***"
      ],
      "metadata": {
        "id": "nA9Y7ga8ng1Z"
      }
    },
    {
      "cell_type": "code",
      "source": [
        "# Dataset Columns\n",
        "airline_df.columns"
      ],
      "metadata": {
        "id": "n87BaXA_42-R"
      },
      "execution_count": null,
      "outputs": []
    },
    {
      "cell_type": "code",
      "source": [
        "# Dataset Describe\n",
        "airline_df.describe(include='all')"
      ],
      "metadata": {
        "id": "DnOaZdaE5Q5t"
      },
      "execution_count": null,
      "outputs": []
    },
    {
      "cell_type": "markdown",
      "source": [
        "### Variables Description"
      ],
      "metadata": {
        "id": "PBTbrJXOngz2"
      }
    },
    {
      "cell_type": "markdown",
      "source": [
        "**airline**: The name of the airline being reviewed.\n",
        "\n",
        "**overall**: The overall rating given by the customer, representing their overall satisfaction with the airline experience.\n",
        "\n",
        "**author**: The author or person who wrote the customer review.\n",
        "\n",
        "**review_date**: The date when the review was posted by the customer.\n",
        "\n",
        "**customer_review**: The actual text of the customer**s review expressing their opinions and feedback about the airline.\n",
        "\n",
        "**aircraft**: The type or model of the aircraft used for the flight.\n",
        "\n",
        "**traveller_type**: The type of traveler, indicating whether the customer is a business traveler, leisure traveler, etc.\n",
        "\n",
        "**cabin**: The cabin class in which the customer traveled (e.g., economy, business, first class).\n",
        "\n",
        "**route**: The route or flight path taken by the airline for the reviewed journey.\n",
        "\n",
        "**date_flown**: The date when the flight was taken by the customer.\n",
        "\n",
        "**seat_comfort**: The rating given by the customer for the comfort of the seat during the flight.\n",
        "\n",
        "**cabin_service**: The rating given by the customer for the service provided in the cabin.\n",
        "\n",
        "**food_bev**: The rating given by the customer for the quality of food and beverages provided during the flight.\n",
        "\n",
        "**entertainment**: The rating given by the customer for the in-flight entertainment options.\n",
        "\n",
        "**ground_service**: The rating given by the customer for the overall ground services (e.g., check-in, baggage handling).\n",
        "\n",
        "**value_for_money**: The rating given by the customer for the perceived value for money in relation to the overall experience.\n",
        "\n",
        "**recommended**: A binary indicator (1 or 0) indicating whether the customer would recommend the airline based on their experience."
      ],
      "metadata": {
        "id": "aJV4KIxSnxay"
      }
    },
    {
      "cell_type": "markdown",
      "source": [
        "### Check Unique Values for each variable."
      ],
      "metadata": {
        "id": "u3PMJOP6ngxN"
      }
    },
    {
      "cell_type": "code",
      "source": [
        "# Check Unique Values for each variable.\n",
        "for i in airline_df.columns.tolist():\n",
        "  print(\"No. of unique values in \",i,\"is\",airline_df[i].nunique(),\".\")"
      ],
      "metadata": {
        "id": "zms12Yq5n-jE"
      },
      "execution_count": null,
      "outputs": []
    },
    {
      "cell_type": "markdown",
      "source": [
        "## ***3. Data Vizualization, Storytelling & Experimenting with charts : Understand the relationships between variables***"
      ],
      "metadata": {
        "id": "GF8Ens_Soomf"
      }
    },
    {
      "cell_type": "markdown",
      "source": [
        "#### Chart - 1 - Pie Chart on Dependant Variable i.e., Churn (Univariate)"
      ],
      "metadata": {
        "id": "0wOQAZs5pc--"
      }
    },
    {
      "cell_type": "code",
      "source": [
        "# Chart - 1 visualization code\n",
        "# Dependant Column Value Counts\n",
        "print(dataset.Churn.value_counts())\n",
        "print(\" \")\n",
        "# Dependant Variable Column Visualization\n",
        "dataset['Churn'].value_counts().plot(kind='pie',\n",
        "                              figsize=(15,6),\n",
        "                               autopct=\"%1.1f%%\",\n",
        "                               startangle=90,\n",
        "                               shadow=True,\n",
        "                               labels=['Not Churn(%)','Churn(%)'],\n",
        "                               colors=['skyblue','red'],\n",
        "                               explode=[0,0]\n",
        "                              )"
      ],
      "metadata": {
        "id": "7v_ESjsspbW7"
      },
      "execution_count": null,
      "outputs": []
    },
    {
      "cell_type": "markdown",
      "source": [
        "##### 1. Why did you pick the specific chart?"
      ],
      "metadata": {
        "id": "K5QZ13OEpz2H"
      }
    },
    {
      "cell_type": "markdown",
      "source": [
        "A pie chart expresses a part-to-whole relationship in your data. It's easy to explain the percentage comparison through area covered in a circle with different colors. Where differenet percentage comparison comes into action pie chart is used frequently. So, I used Pie chart and which helped me to get the percentage comparision of the dependant variable."
      ],
      "metadata": {
        "id": "XESiWehPqBRc"
      }
    },
    {
      "cell_type": "markdown",
      "source": [
        "##### 2. What is/are the insight(s) found from the chart?"
      ],
      "metadata": {
        "id": "lQ7QKXXCp7Bj"
      }
    },
    {
      "cell_type": "markdown",
      "source": [
        "From the above chart I got to know that, there are 2850 customers which are not churned which is 85.5% of the whole customers data given in the dataset. In other hand, 483 customers are churned which is 14.%% of the whold customers data given in the dataset.\n",
        "\n",
        "\n",
        "14.5% customers are churned which might look like a small number, but once upon a time the 14.5% was 1.45% which has grown upto 14.5%. So, Immediate action should be taken.\n"
      ],
      "metadata": {
        "id": "C_j1G7yiqdRP"
      }
    },
    {
      "cell_type": "markdown",
      "source": [
        "##### 3. Will the gained insights help creating a positive business impact?\n",
        "Are there any insights that lead to negative growth? Justify with specific reason."
      ],
      "metadata": {
        "id": "448CDAPjqfQr"
      }
    },
    {
      "cell_type": "markdown",
      "source": [
        "Customer churn is often referred to as customer attrition, or customer defection which is the rate at which the customers are lost. Telecom companies often use customer churn as a key business metrics to predict the number of customers that will leave a telecom service provider. Churn is significant in the telecommunication industry because it directly affects the competitiveness of the service provider.\n",
        "\n",
        "It's easy to loss customers but too difficult to aquire one. One churned cutomer will make 3-4 customers away those might be acquired by your teleservice provider\n",
        "with \"POWER OF WORDS\".\n",
        "\n",
        "When Jio provided free internnet services to everyone, and started acquiring maximum number of customers, so cutomer churn rate for other teleservice providers increased and customers from other teleservice providers those who converted to JIO spread the benefit of JIO to their relatives and friends and they also converted too easily. So, \"POWER OF WORDS\" also comes into action that wrong and bad reviews spread first."
      ],
      "metadata": {
        "id": "3cspy4FjqxJW"
      }
    },
    {
      "cell_type": "markdown",
      "source": [
        "#### Chart - 2 - State Vs. Average True Churn Percentage (Bivariate with Categorical - Numerical)"
      ],
      "metadata": {
        "id": "xJivPyE8q_2k"
      }
    },
    {
      "cell_type": "code",
      "source": [
        "# Chart - 2 visualization code\n",
        "# Showing Average True Churn Percentage state wise\n",
        "# Showing top 10 churned state\n",
        "print((dataset.groupby(['State'])['Churn'].mean()*100).sort_values(ascending = False).reset_index(name=\"Average True CHurn %\").head(10))\n",
        "print(\" \")\n",
        "\n",
        "# State vs. average true churn percantage visualization code\n",
        "# Vizualizing top 10 churned state\n",
        "plt.rcParams['figure.figsize'] = (12, 7)\n",
        "color = plt.cm.copper(np.linspace(0, 0.5, 20))\n",
        "((dataset.groupby(['State'])['Churn'].mean())*100).sort_values(ascending = False).head(10).plot.bar(color = ['violet','indigo','b','g','y','orange','r'])\n",
        "plt.title(\" State with most churn percentage\", fontsize = 20)\n",
        "plt.xlabel('state', fontsize = 15)\n",
        "plt.ylabel('percentage', fontsize = 15)\n",
        "plt.show()"
      ],
      "metadata": {
        "id": "NTkxmIkWq_20"
      },
      "execution_count": null,
      "outputs": []
    },
    {
      "cell_type": "code",
      "source": [
        "# Showing Average True Churn Percentage state wise\n",
        "# Showing top 10 churned state\n",
        "print((dataset.groupby(['State'])['Churn'].mean()*100).sort_values(ascending = True).reset_index(name=\"Average True CHurn %\").head(10))\n",
        "print(\" \")\n",
        "\n",
        "\n",
        "\n",
        "# State vs. average true churn percantage visualization code\n",
        "# Vizualizing bottom 10 churned state\n",
        "plt.rcParams['figure.figsize'] = (12, 7)\n",
        "color = plt.cm.copper(np.linspace(0, 0.5, 20))\n",
        "((dataset.groupby(['State'])['Churn'].mean())*100).sort_values(ascending = True).head(10).plot.bar(color = ['violet','indigo','b','g','y','orange','r'])\n",
        "plt.title(\" State with most churn percentage\", fontsize = 20)\n",
        "plt.xlabel('state', fontsize = 15)\n",
        "plt.ylabel('percentage', fontsize = 15)\n",
        "plt.show()"
      ],
      "metadata": {
        "id": "QAgGhW9H2CLP"
      },
      "execution_count": null,
      "outputs": []
    },
    {
      "cell_type": "markdown",
      "source": [
        "##### 1. Why did you pick the specific chart?"
      ],
      "metadata": {
        "id": "azX1PEddq_20"
      }
    },
    {
      "cell_type": "markdown",
      "source": [
        "Bar charts show the frequency counts of values for the different levels of a categorical or nominal variable. Sometimes, bar charts show other statistics, such as percentages.\n",
        "\n",
        "To show the average percentage of true churn with respect to states, I have used Bar Chart."
      ],
      "metadata": {
        "id": "QTXVnJ-fq_20"
      }
    },
    {
      "cell_type": "markdown",
      "source": [
        "##### 2. What is/are the insight(s) found from the chart?"
      ],
      "metadata": {
        "id": "iyKleWeyq_20"
      }
    },
    {
      "cell_type": "markdown",
      "source": [
        "There are 51 states having different churn rates .\n",
        "\n",
        "**CA, NJ ,TX , MD ,SC ,MI, MS, NV, WA, ME**  are the ones who have higher churn rate more then 21.74% which is more than 50% of average churn rate.\n",
        "\n",
        "Under the Data wrangling, I have defined a hypothetical logic for some states with poor network region and some states where service needs to be maintained or new installations required. So, here states\n",
        "**[ ' NV ', ' NJ ' ]** are common which are in top 10 churned states."
      ],
      "metadata": {
        "id": "DwesNe8zq_21"
      }
    },
    {
      "cell_type": "markdown",
      "source": [
        "##### 3. Will the gained insights help creating a positive business impact?\n",
        "Are there any insights that lead to negative growth? Justify with specific reason."
      ],
      "metadata": {
        "id": "8-UX51ofq_21"
      }
    },
    {
      "cell_type": "markdown",
      "source": [
        "Yes, the data of state wise churning depicts that 10% of a large state is same as 20% of a smaller state. So, we can't neglect the churn rates and will have to sagreggate based on the area covereage in respective states. Still, priotizing to actionable tasks we should try to figure out the issues in top 10 churning states first.\n",
        "\n",
        "The issue might be poor network coverage or negligible maintaince on existing antenna, or total area coverage & no. of mobile tower or users is low or new towers needs to be installed to coverage additional areas."
      ],
      "metadata": {
        "id": "nW7-bqD0q_21"
      }
    },
    {
      "cell_type": "markdown",
      "source": [
        "#### Chart - 3 - Account Length with Churn Wise (Univariate)"
      ],
      "metadata": {
        "id": "Of3PJYNbrGff"
      }
    },
    {
      "cell_type": "code",
      "source": [
        "# Chart - 3 visualization code\n",
        "# One Digit Account Length\n",
        "print(dataset[dataset['Account length']<=9].loc[:,['Churn']].value_counts())\n",
        "print(\" \")\n",
        "\n",
        "# Visualizing One Digit Account Length Based on Churn percentage\n",
        "dataset[dataset['Account length']<=9].loc[:,['Churn']].value_counts().plot(kind='pie',\n",
        "                              figsize=(15,6),\n",
        "                               autopct=\"%1.1f%%\",\n",
        "                               startangle=90,\n",
        "                               shadow=True,\n",
        "                               labels=['No','Yes'],\n",
        "                               colors=['skyblue','red'],\n",
        "                               explode=[0,0]\n",
        "                              )"
      ],
      "metadata": {
        "id": "tnFltgWlrGfg"
      },
      "execution_count": null,
      "outputs": []
    },
    {
      "cell_type": "code",
      "source": [
        "# Two Digit Account Length\n",
        "print(dataset[(dataset['Account length']<=99) & (dataset['Account length']>=10)].loc[:,['Churn']].value_counts())\n",
        "print(\" \")\n",
        "\n",
        "# Visualizing Two Digit Account Length Based on Churn percentage\n",
        "dataset[(dataset['Account length']<=99) & (dataset['Account length']>=10)].loc[:,['Churn']].value_counts().plot(kind='pie',\n",
        "                              figsize=(15,6),\n",
        "                               autopct=\"%1.1f%%\",\n",
        "                               startangle=90,\n",
        "                               shadow=True,\n",
        "                               labels=['No','Yes'],\n",
        "                               colors=['skyblue','red'],\n",
        "                               explode=[0,0]\n",
        "                              )"
      ],
      "metadata": {
        "id": "Fdz8HrS44VH8"
      },
      "execution_count": null,
      "outputs": []
    },
    {
      "cell_type": "code",
      "source": [
        "# Three Digit Account Length\n",
        "print(dataset[(dataset['Account length']<=dataset['Account length'].max()) & (dataset['Account length']>=100)].loc[:,['Churn']].value_counts())\n",
        "print(\" \")\n",
        "\n",
        "# Visualizing Three Digit Account Length Based on Churn percentage\n",
        "dataset[(dataset['Account length']<=dataset['Account length'].max()) & (dataset['Account length']>=100)].loc[:,['Churn']].value_counts().plot(kind='pie',\n",
        "                              figsize=(15,6),\n",
        "                               autopct=\"%1.1f%%\",\n",
        "                               startangle=90,\n",
        "                               shadow=True,\n",
        "                               labels=['No','Yes'],\n",
        "                               colors=['skyblue','red'],\n",
        "                               explode=[0,0]\n",
        "                              )"
      ],
      "metadata": {
        "id": "qWsbjPvz4lXx"
      },
      "execution_count": null,
      "outputs": []
    },
    {
      "cell_type": "code",
      "source": [
        "# Box Plot for Account Length attribute\n",
        "dataset.boxplot(column='Account length',by='Churn')"
      ],
      "metadata": {
        "id": "yAwxZ3sO6DRC"
      },
      "execution_count": null,
      "outputs": []
    },
    {
      "cell_type": "markdown",
      "source": [
        "##### 1. Why did you pick the specific chart?"
      ],
      "metadata": {
        "id": "w8bcvZxarGfg"
      }
    },
    {
      "cell_type": "markdown",
      "source": [
        "A pie chart expresses a part-to-whole relationship in your data. It's easy to explain the percentage comparison through area covered in a circle with different colors. Where differenet percentage comparison comes into action pie chart is used frequently. So, I used Pie chart and which helped me to get the percentage comparision of the churn percentage account length wise.\n",
        "\n",
        "Box plots are used to show distributions of numeric data values, especially when you want to compare them between multiple groups. They are built to provide high-level information at a glance, offering general information about a group of data's symmetry, skew, variance, and outliers. So, I used box plot to get the maximum and minimum value with well sagreggated outliers with well defined mean and median as shown in the box plot graph."
      ],
      "metadata": {
        "id": "9-GBsMEqrGfg"
      }
    },
    {
      "cell_type": "markdown",
      "source": [
        "##### 2. What is/are the insight(s) found from the chart?"
      ],
      "metadata": {
        "id": "HZ6txCBBrGfh"
      }
    },
    {
      "cell_type": "markdown",
      "source": [
        "**Account Length**\n",
        "\n",
        "We can catagories Account Length into three catagories like\n",
        "\n",
        "**One Digit Length**\n",
        "\n",
        " Churn True -8.3%\n",
        "\n",
        " No. of Churn True-2\n",
        "\n",
        "\n",
        "\n",
        " Churn False-91.7%\n",
        "\n",
        "**Two Digit Length**\n",
        "\n",
        "Churn True -14.0%\n",
        "\n",
        "No. of Churn True-225\n",
        "\n",
        "\n",
        "\n",
        "Churn False-86.0%\n",
        "\n",
        "\n",
        "**Three Digit Length**\n",
        "\n",
        "Churn True -15.0%\n",
        "\n",
        "No. of Churn True-256\n",
        "\n",
        "\n",
        "\n",
        "Churn False-85.0%\n",
        "\n",
        "\n",
        "\n",
        "\n",
        "**REMARK**\n",
        "\n",
        "\n",
        "AS from the above  record, we can see that Two digit Account Length customers are churning with a number of 225\n",
        "And Three digit Account Length customers are churning with a number of 256\n",
        "\n",
        "\n",
        "\n"
      ],
      "metadata": {
        "id": "9X7Ff9HFrGfh"
      }
    },
    {
      "cell_type": "markdown",
      "source": [
        "##### 3. Will the gained insights help creating a positive business impact?\n",
        "Are there any insights that lead to negative growth? Justify with specific reason."
      ],
      "metadata": {
        "id": "jbkhcZqdrGfh"
      }
    },
    {
      "cell_type": "markdown",
      "source": [
        "Accoun length is the no. of days the customers are active. So for the new customers those churning rate is too low around 8.3% in percentage and number is 2. They might be just using the telecom service to experience the benefits and they might not be satisfied with the service provided and churned.\n",
        "\n",
        "Those people whose account length are between 10 to 99 are having a churning rate of 15%. The customers below 50 might be treated as new customers and more than 55 and less than 99 they mightn't be geting benefits from plan taken.\n",
        "\n",
        "Those people whise account length are more than 100 are like of old customers and they might be churning due to no additional offers given to them like power plus plan or other benefits.\n",
        "\n",
        "So, Yes Account Length is also depicting a clear view of churing reasons and inaights."
      ],
      "metadata": {
        "id": "sZjMyjAHrGfh"
      }
    },
    {
      "cell_type": "markdown",
      "source": [
        "#### Chart - 4 - Area Code (Bivariate)"
      ],
      "metadata": {
        "id": "riLp7y9brHca"
      }
    },
    {
      "cell_type": "code",
      "source": [
        "# Chart - 4 visualization code\n",
        "# Area Code wise average churn Percentage\n",
        "print(dataset.groupby('Area code')['Churn'].mean()*100)\n",
        "print(\" \")\n",
        "\n",
        "# Visualizing code for Area Code wise average churn percentage\n",
        "a1= list(['408','415' , '510'])\n",
        "b1= dataset.groupby('Area code')['Churn'].mean()*100\n",
        "plt.bar(a1,b1, color=['r','b','g'])\n",
        "\n",
        "plt.rcParams['figure.figsize'] = (6, 5)\n",
        "\n",
        "\n",
        "plt.xlabel('Area code', fontsize = 15)\n",
        "plt.ylabel('churn percentage', fontsize = 15)\n",
        "plt.show()"
      ],
      "metadata": {
        "id": "QQ-DWHW5rHca"
      },
      "execution_count": null,
      "outputs": []
    },
    {
      "cell_type": "markdown",
      "source": [
        "##### 1. Why did you pick the specific chart?"
      ],
      "metadata": {
        "id": "Uw0GT_uHrHcb"
      }
    },
    {
      "cell_type": "markdown",
      "source": [
        "Bar charts show the frequency counts of values for the different levels of a categorical or nominal variable. Sometimes, bar charts show other statistics, such as percentages.\n",
        "\n",
        "To show the average percentage of true churn with respect to Area Code, I have used Bar Chart."
      ],
      "metadata": {
        "id": "R7c_a-IXrHcb"
      }
    },
    {
      "cell_type": "markdown",
      "source": [
        "##### 2. What is/are the insight(s) found from the chart?"
      ],
      "metadata": {
        "id": "qTEiGUKorHcc"
      }
    },
    {
      "cell_type": "markdown",
      "source": [
        "All Area Code have around 14% Churn rate. So, Area Code doesn't matter."
      ],
      "metadata": {
        "id": "a3rmtW3vrHcc"
      }
    },
    {
      "cell_type": "markdown",
      "source": [
        "##### 3. Will the gained insights help creating a positive business impact?\n",
        "Are there any insights that lead to negative growth? Justify with specific reason."
      ],
      "metadata": {
        "id": "1Qw8mtL3rHcd"
      }
    },
    {
      "cell_type": "markdown",
      "source": [
        "No, Area Code doesn't have any contribution to churn rate for 14% churn rate is same for all the area codes. But while furthur sagreggating the area codes with respective states in those area code, it can be analysed the states in which the issue is happeing. So, it has been defined above.\n",
        "\n",
        "So, here Area code won't help to create business impact but the respective states wise analysis can help."
      ],
      "metadata": {
        "id": "t7dguLynrHcd"
      }
    },
    {
      "cell_type": "markdown",
      "source": [
        "#### Chart - 5 - International Plan (Univariate + Bivariate)"
      ],
      "metadata": {
        "id": "xnMZvg2orIPt"
      }
    },
    {
      "cell_type": "code",
      "source": [
        "# Chart - 5 visualization code\n",
        "# Visualizing Percentage of customers taken international plan\n",
        "dataset['International plan'].value_counts().plot(kind='pie',\n",
        "                              figsize=(15,6),\n",
        "                               autopct=\"%1.1f%%\",\n",
        "                               startangle=90,\n",
        "                               shadow=True,\n",
        "                               labels=['No','Yes'],\n",
        "                               colors=['skyblue','red'],\n",
        "                               explode=[0,0]\n",
        "                              )"
      ],
      "metadata": {
        "id": "BIKEKoqErIPu"
      },
      "execution_count": null,
      "outputs": []
    },
    {
      "cell_type": "code",
      "source": [
        "# Assigning values for furthur charts\n",
        "i1 = dataset['International plan'].unique()\n",
        "i2 = dataset.groupby('International plan')['Churn'].mean()*100\n",
        "i3 = dataset.groupby(['International plan'])['Total intl charge'].mean()\n",
        "i4 = dataset.groupby([\"Churn\"])['Total intl minutes'].mean()"
      ],
      "metadata": {
        "id": "d7qDp535KTt2"
      },
      "execution_count": null,
      "outputs": []
    },
    {
      "cell_type": "code",
      "source": [
        "# Visualizing code for people churning percentage having international plan\n",
        "plt.rcParams['figure.figsize'] = (6, 7)\n",
        "\n",
        "plt.bar(i1,i2 , color=['b','r'])\n",
        "\n",
        "plt.title(\" Percentage of people leaving\", fontsize = 20)\n",
        "plt.xlabel('International plan', fontsize = 15)\n",
        "plt.ylabel('percentage', fontsize = 15)\n",
        "plt.show()"
      ],
      "metadata": {
        "id": "oW9Yv1-HKq7N"
      },
      "execution_count": null,
      "outputs": []
    },
    {
      "cell_type": "code",
      "source": [
        "# Visualizing code for average calling charge of customers having international plan\n",
        "plt.rcParams['figure.figsize'] = (6, 7)\n",
        "\n",
        "plt.bar(i1,i3, color=['b','r'])\n",
        "plt.title(\" Average charge of people\", fontsize = 20)\n",
        "plt.xlabel('International plan', fontsize = 15)\n",
        "plt.ylabel(' charge', fontsize = 15)\n",
        "plt.show()"
      ],
      "metadata": {
        "id": "mqNUqJmZK5Wz"
      },
      "execution_count": null,
      "outputs": []
    },
    {
      "cell_type": "code",
      "source": [
        "# Visualizing code for average minutes takled by customers having international plan\n",
        "plt.rcParams['figure.figsize'] = (6, 7)\n",
        "\n",
        "plt.bar(i1,i4, color=['b','r'])\n",
        "plt.title(\" Average minute people talk\", fontsize = 20)\n",
        "plt.xlabel('International plan', fontsize = 15)\n",
        "plt.ylabel(' Minutes', fontsize = 15)\n",
        "plt.show()"
      ],
      "metadata": {
        "id": "3Fwfpl4aLI89"
      },
      "execution_count": null,
      "outputs": []
    },
    {
      "cell_type": "markdown",
      "source": [
        "##### 1. Why did you pick the specific chart?"
      ],
      "metadata": {
        "id": "mwHQVoIQrIPu"
      }
    },
    {
      "cell_type": "markdown",
      "source": [
        "Pie charts are used to represent the proportional data or relative data in a single chart. The concept of pie slices is used to show the percentage of a particular data from the whole pie.\n",
        "\n",
        "Thus, I used to show the percentage of people taken international plan through pie chart with differentr colored area under a circle.\n",
        "\n",
        "A bar chart is used when you want to show a distribution of data points or perform a comparison of metric values across different subgroups of your data. From a bar chart, we can see which groups are highest or most common, and how other groups compare against the others.\n",
        "\n",
        "Thus, I used bar chart to show the percentage of customers churned having international plan and the avergae calling charge as well as conversation average minutes of customers those have international plan."
      ],
      "metadata": {
        "id": "_OS83_DorIPu"
      }
    },
    {
      "cell_type": "markdown",
      "source": [
        "##### 2. What is/are the insight(s) found from the chart?"
      ],
      "metadata": {
        "id": "Kwy5hImkrIPu"
      }
    },
    {
      "cell_type": "markdown",
      "source": [
        "**INTERNATIONAL PLAN**\n",
        "\n",
        "3010 dont have a international plan\n",
        "\n",
        "323 have a international plan\n",
        "\n",
        "Among those who  have a international plan 42.4 % people churn.\n",
        "\n",
        "Whereas among those who dont have a international plan  only 11.4 % people churn.\n",
        "\n",
        "Among those who  have a international plan their average charge is 2.86 and they talk for 10.7 minutes average .\n",
        "\n",
        "Whereas among those who dont have a international plan their average charge is 2.75 and they talk for 10.15 minutes average .\n",
        "\n",
        "The reason why people having international plan might be leaving is that they are [paying same amount of money for international calls as for those customers who dont have a international plan.Hence they arent getting any benefits for having an international plan so they might be unhappy.\n",
        "\n",
        "\n",
        "***Customers with the International Plan tend to churn more frequently ***\n"
      ],
      "metadata": {
        "id": "v29pTB30rIPu"
      }
    },
    {
      "cell_type": "markdown",
      "source": [
        "##### 3. Will the gained insights help creating a positive business impact?\n",
        "Are there any insights that lead to negative growth? Justify with specific reason."
      ],
      "metadata": {
        "id": "0sjxqkK0rIPv"
      }
    },
    {
      "cell_type": "markdown",
      "source": [
        "Yes, the insights found will definitely help for a positive business impact. Thsoe people who  have international plan they are paying some additional charges to get the plan but the talk time value charge is same as those customers having no international plan. That's might be great reason for more churns those having international plan."
      ],
      "metadata": {
        "id": "q3Py5eq2rIPv"
      }
    },
    {
      "cell_type": "markdown",
      "source": [
        "#### Chart - 6 - Voice Mail (Univariate + Bivariate)"
      ],
      "metadata": {
        "id": "y7avNpR9HL5z"
      }
    },
    {
      "cell_type": "code",
      "source": [
        "# Chart - 5 visualization code\n",
        "# vizualizing code for customers percentage having voice mail plan\n",
        "dataset['Voice mail plan'].value_counts().plot(kind='pie',\n",
        "                              figsize=(15,6),\n",
        "                               autopct=\"%1.1f%%\",\n",
        "                               startangle=90,\n",
        "                               shadow=True,\n",
        "                               labels=['No','Yes'],\n",
        "                               colors=['skyblue','red'],\n",
        "                               explode=[0,0]\n",
        "                              )"
      ],
      "metadata": {
        "id": "XupyxJMCHL50"
      },
      "execution_count": null,
      "outputs": []
    },
    {
      "cell_type": "code",
      "source": [
        "# Vizualizing code for customers churning while having voice mail plan\n",
        "plt.rcParams['figure.figsize'] = (6, 7)\n",
        "\n",
        "cc1=list(['no','yes'])\n",
        "cc2=dataset.groupby('Voice mail plan')['Churn'].mean()*100\n",
        "plt.bar(cc1,cc2, color=['b','r'])\n",
        "\n",
        "plt.title(\" Percentage of people leaving\", fontsize = 20)\n",
        "plt.xlabel('Voice mail plan', fontsize = 15)\n",
        "plt.ylabel('percentage', fontsize = 15)\n",
        "plt.show()"
      ],
      "metadata": {
        "id": "QBRu1D9eP37x"
      },
      "execution_count": null,
      "outputs": []
    },
    {
      "cell_type": "markdown",
      "source": [
        "##### 1. Why did you pick the specific chart?"
      ],
      "metadata": {
        "id": "Z5yPuW4iHL50"
      }
    },
    {
      "cell_type": "markdown",
      "source": [
        "Pie chart is a type of graph in which a circle is divided into sectors that each represents a proportion of the whole. Pie charts are a useful way to organize data in order to see the size of components relative to the whole, and are particularly good at showing percentage or proportional data.\n",
        "\n",
        "Thus, I have used pie chart to show the percentage of customers having voice mail plan.\n",
        "\n",
        "The bar graph is used to compare the items between different groups over time. Bar graphs are used to measure the changes over a period of time.\n",
        "\n",
        "Thus, I have used bar chart to show the percentage of customers churned having voice mail plan."
      ],
      "metadata": {
        "id": "e2Vj3xyvHL50"
      }
    },
    {
      "cell_type": "markdown",
      "source": [
        "##### 2. What is/are the insight(s) found from the chart?"
      ],
      "metadata": {
        "id": "3vIdo55JHL50"
      }
    },
    {
      "cell_type": "markdown",
      "source": [
        "**VOICE MAIL**\n",
        "\n",
        "2411 dont have a voice mail plan\n",
        "\n",
        "922 have a voice mail plan\n",
        "\n",
        "Among those who dont have a voice mail 16.7 % people churn.\n",
        "\n",
        "Whereas among those who have a voice mail plan only 8.7 % people churn.\n",
        "\n",
        "**Hypothesis Based on Voice Mail**\n",
        "* Customers sending less number of voicemails either as per their Requirement or There would be less Network Stability at that place for which they won't be able to send the voice message successfully.\n",
        "\n",
        "***Customers  with the Voice Mail Plan tend to churn less frequently ***"
      ],
      "metadata": {
        "id": "_TwmLyT0HL51"
      }
    },
    {
      "cell_type": "markdown",
      "source": [
        "##### 3. Will the gained insights help creating a positive business impact?\n",
        "Are there any insights that lead to negative growth? Justify with specific reason."
      ],
      "metadata": {
        "id": "IlhlbgNBHL51"
      }
    },
    {
      "cell_type": "markdown",
      "source": [
        "Voice mail plan doesn't have that much impact in business untill the hypothesis has been proven. If the hypothesis remains true, we need to take care of the respective states where there is less network stability or the states the towers needs either maintainance or new towers should be installed.\n",
        "\n",
        "yes, voice mail plan might be considered partially."
      ],
      "metadata": {
        "id": "zecN6W5IHL51"
      }
    },
    {
      "cell_type": "markdown",
      "source": [
        "#### Chart - 7- Overall Calls (Bivariate)"
      ],
      "metadata": {
        "id": "oQ-pHCWMHO92"
      }
    },
    {
      "cell_type": "code",
      "source": [
        "# Chart - 7 visualization code\n",
        "# Geeting means of churn vs total day calls, total day minutes, total day charge\n",
        "print(dataset.groupby([\"Churn\"])['Total day calls'].mean())\n",
        "print(\" \")\n",
        "print(dataset.groupby([\"Churn\"])['Total day minutes'].mean())\n",
        "print(\" \")\n",
        "print(dataset.groupby([\"Churn\"])['Total day charge'].mean())\n",
        "\n",
        "# 18% more min    18% more charge    no insight"
      ],
      "metadata": {
        "id": "Eb_s6DRSHO92"
      },
      "execution_count": null,
      "outputs": []
    },
    {
      "cell_type": "code",
      "source": [
        "# Vizualizing Total day minutes vs total day charge\n",
        "cdd = sns.scatterplot(x=\"Total day minutes\", y=\"Total day charge\", hue=\"Churn\", data=dataset)\n"
      ],
      "metadata": {
        "id": "t0PdOrzhWIQ0"
      },
      "execution_count": null,
      "outputs": []
    },
    {
      "cell_type": "code",
      "source": [
        "# Geeting means of churn vs total eve calls, total eve minutes, total evening charge\n",
        "print(dataset.groupby([\"Churn\"])['Total eve calls'].mean())\n",
        "print(\" \")\n",
        "print(dataset.groupby([\"Churn\"])['Total eve minutes'].mean())\n",
        "print(\" \")\n",
        "print(dataset.groupby([\"Churn\"])['Total eve charge'].mean())"
      ],
      "metadata": {
        "id": "Tm1L8efQW8io"
      },
      "execution_count": null,
      "outputs": []
    },
    {
      "cell_type": "code",
      "source": [
        "# Vizualizing total evening minutes vs total evening charge\n",
        "cdd = sns.scatterplot(x=\"Total eve minutes\", y=\"Total eve charge\", hue=\"Churn\", data=dataset)"
      ],
      "metadata": {
        "id": "IULag4EwXLhy"
      },
      "execution_count": null,
      "outputs": []
    },
    {
      "cell_type": "code",
      "source": [
        "# Getting means of churn vs total night calls, total m=night minutes, total night charge\n",
        "print(dataset.groupby([\"Churn\"])['Total night calls'].mean())\n",
        "print(\" \")\n",
        "print(dataset.groupby([\"Churn\"])['Total night minutes'].mean())\n",
        "print(\" \")\n",
        "print(dataset.groupby([\"Churn\"])['Total night charge'].mean())"
      ],
      "metadata": {
        "id": "eKadu2ppYZ10"
      },
      "execution_count": null,
      "outputs": []
    },
    {
      "cell_type": "code",
      "source": [
        "# Vizualizing Total nights minutes vs total night charge\n",
        "cdd = sns.scatterplot(x=\"Total night minutes\", y=\"Total night charge\", hue=\"Churn\", data=dataset)"
      ],
      "metadata": {
        "id": "9GDJxQSqZGez"
      },
      "execution_count": null,
      "outputs": []
    },
    {
      "cell_type": "code",
      "source": [
        "# Import pandas library\n",
        "import pandas as pd\n",
        "\n",
        "# initialize list of lists\n",
        "data1 = [['Total day minutes',175.17 , 206.91], ['Total day charge',29.78, 35.17]]\n",
        "\n",
        "#7.012,6.12,6.86\n",
        "\n",
        "# Create the pandas DataFrame\n",
        "minutes_code1 = pd.DataFrame(data1, columns = ['day', 'dont churn',' churn'])\n",
        "\n",
        "# print dataframe.\n",
        "minutes_code1"
      ],
      "metadata": {
        "id": "OQ6Qw_uvZn7o"
      },
      "execution_count": null,
      "outputs": []
    },
    {
      "cell_type": "code",
      "source": [
        "# Vizualizing code for the above created dataframe\n",
        "plt.rcParams['figure.figsize'] = (8, 6)\n",
        "\n",
        "\n",
        "minutes_code1.plot(kind='bar', x='day',ylabel='mean  ')"
      ],
      "metadata": {
        "id": "V13A3eLlanO8"
      },
      "execution_count": null,
      "outputs": []
    },
    {
      "cell_type": "code",
      "source": [
        "# Import pandas library\n",
        "import pandas as pd\n",
        "\n",
        "# initialize list of lists\n",
        "data2 = [ ['Total eve minutes',199.04, 212.41], ['Total night minutes',200.13,205.23]]\n",
        "\n",
        "#7.012,6.12,6.86\n",
        "\n",
        "# Create the pandas DataFrame\n",
        "minutes_code2 = pd.DataFrame(data2, columns = ['minutes', 'dont churn',' churn'])\n",
        "\n",
        "# print dataframe.\n",
        "minutes_code2"
      ],
      "metadata": {
        "id": "0s1VWK8SbCb4"
      },
      "execution_count": null,
      "outputs": []
    },
    {
      "cell_type": "code",
      "source": [
        "# Vizualizing teh above created dataframe\n",
        "plt.rcParams['figure.figsize'] = (8,6)\n",
        "\n",
        "\n",
        "minutes_code2.plot(kind='bar', x='minutes',xlabel='minutes',ylabel='mean of churn ')"
      ],
      "metadata": {
        "id": "HUmuyd_ObEYq"
      },
      "execution_count": null,
      "outputs": []
    },
    {
      "cell_type": "code",
      "source": [
        "# Import pandas library\n",
        "import pandas as pd\n",
        "\n",
        "# initialize list of lists\n",
        "data3 = [ ['Total eve charge',16.91, 18.05], ['Total night charge',9,9.23]]\n",
        "\n",
        "#7.012,6.12,6.86\n",
        "\n",
        "# Create the pandas DataFrame\n",
        "minutes_code3 = pd.DataFrame(data3, columns = ['charge', 'dont churn',' churn'])\n",
        "\n",
        "# print dataframe.\n",
        "minutes_code3"
      ],
      "metadata": {
        "id": "p-IqLU4UbLcA"
      },
      "execution_count": null,
      "outputs": []
    },
    {
      "cell_type": "code",
      "source": [
        "# Vizualizing code for the above dataset\n",
        "plt.rcParams['figure.figsize'] = (8,6)\n",
        "\n",
        "\n",
        "minutes_code3.plot(kind='bar', x='charge',ylabel='mean charge')"
      ],
      "metadata": {
        "id": "RGjFvhbbbTcQ"
      },
      "execution_count": null,
      "outputs": []
    },
    {
      "cell_type": "markdown",
      "source": [
        "##### 1. Why did you pick the specific chart?"
      ],
      "metadata": {
        "id": "DEMFeE18HO92"
      }
    },
    {
      "cell_type": "markdown",
      "source": [
        "A scatter plot (aka scatter chart, scatter graph) uses dots to represent values for two different numeric variables. The position of each dot on the horizontal and vertical axis indicates values for an individual data point. Scatter plots are used to observe relationships between variables.\n",
        "\n",
        "Thus, I have used the scatter plot to depict the relationship between evening, day &n night calls , minutes and charge.\n",
        "\n",
        "The bar graph is used to compare the items between different groups over time. Bar graphs are used to measure the changes over a period of time. When the changes are larger, a bar graph is the best option to represent the data.\n",
        "\n",
        "Thus, I have used the bar plot to show the evening, night and day manipulated data to depict meaningful insights."
      ],
      "metadata": {
        "id": "zyFFR4BgHO92"
      }
    },
    {
      "cell_type": "markdown",
      "source": [
        "##### 2. What is/are the insight(s) found from the chart?"
      ],
      "metadata": {
        "id": "MR3eS7xTHO93"
      }
    },
    {
      "cell_type": "markdown",
      "source": [
        "**OVERALL CALLS**\n",
        "\n",
        "Churn customers speak more minutes that non-churn customers at day,evening and night. Hence they pay more charge that non-churn customers.\n",
        "\n",
        "We can retain churn customers if we include master plan.\n",
        "In master plan if a customer is talking more minutes then we can charge a little less amount from him or he can get discount or additional few free minutes to talk.\n",
        "\n",
        "This will make customers who are going to churn happy and they will not leave the company."
      ],
      "metadata": {
        "id": "0neckRpZHO93"
      }
    },
    {
      "cell_type": "markdown",
      "source": [
        "##### 3. Will the gained insights help creating a positive business impact?\n",
        "Are there any insights that lead to negative growth? Justify with specific reason."
      ],
      "metadata": {
        "id": "JmI1Y4YbHO93"
      }
    },
    {
      "cell_type": "markdown",
      "source": [
        "For telecom service provider calling and messaging are two essential product plans. Thus, optimizing voice call plans will definitely create a business impact. Those who are using just calling service must be provided som additional offers either in talktime or powerplus plan. Those who use voice call plan for night only, we might offer some exciting plans from midnight 12 to morning 6. For customers those who have higher accout length should be provided exciting offers as they are our loyal customers. churing of higher account length customer will have a negative impact on business.\n"
      ],
      "metadata": {
        "id": "OgeOEDgIHO93"
      }
    },
    {
      "cell_type": "markdown",
      "source": [
        "#### Chart - 8 - Customer Service Calls (Bivariate)"
      ],
      "metadata": {
        "id": "XGShqbS2HSAY"
      }
    },
    {
      "cell_type": "code",
      "source": [
        "# Chart - 8 visualization code\n",
        "# Visualizing churn rate per customer service calls\n",
        "plt.rcParams['figure.figsize'] = (12, 8)\n",
        "\n",
        "\n",
        "s1=list(dataset['Customer service calls'].unique())\n",
        "s2=list(dataset.groupby(['Customer service calls'])['Churn'].mean()*100)\n",
        "plt.bar(s1,s2, color = ['violet','indigo','b','g','y','orange','r'])\n",
        "\n",
        "\n",
        "plt.title(\" Churn rate per service call\", fontsize = 20)\n",
        "plt.xlabel('No of cust service call', fontsize = 15)\n",
        "plt.ylabel(' percentage', fontsize = 15)\n",
        "plt.show()\n"
      ],
      "metadata": {
        "id": "-6GTfuViHSAY"
      },
      "execution_count": null,
      "outputs": []
    },
    {
      "cell_type": "markdown",
      "source": [
        "##### 1. Why did you pick the specific chart?"
      ],
      "metadata": {
        "id": "B4XxyvTzHSAZ"
      }
    },
    {
      "cell_type": "markdown",
      "source": [
        "The bar graph is used to compare the items between different groups over time. Bar graphs are used to measure the changes over a period of time. When the changes are larger, a bar graph is the best option to represent the data.\n",
        "\n",
        "Thus, I have used the bar plot to show the relationship between churn rate per customer service calls."
      ],
      "metadata": {
        "id": "xBXFKddDHSAZ"
      }
    },
    {
      "cell_type": "markdown",
      "source": [
        "##### 2. What is/are the insight(s) found from the chart?"
      ],
      "metadata": {
        "id": "Mal1wQlpHSAZ"
      }
    },
    {
      "cell_type": "markdown",
      "source": [
        "**CUSTOMER SERVICE CALL**\n",
        "\n",
        "The service calls of customers varies from 0 to 9 .\n",
        "\n",
        "Those customers who make more service calls they have a high probability of leaving.\n",
        "\n",
        "As we can see from graph , customers with more then 5 service calls their probability of leaving is more then 50 %.\n",
        "\n",
        "Hence customers who make more then 5 service calls, their queries should be solved immediately and they should be given better service so that they dont leave the company.\n",
        "\n",
        "***Customers with four or more customer service calls churn more than four times as often as do the other customers***"
      ],
      "metadata": {
        "id": "pxwDuAqQHSAZ"
      }
    },
    {
      "cell_type": "markdown",
      "source": [
        "##### 3. Will the gained insights help creating a positive business impact?\n",
        "Are there any insights that lead to negative growth? Justify with specific reason."
      ],
      "metadata": {
        "id": "BgP_e3WlHSAZ"
      }
    },
    {
      "cell_type": "markdown",
      "source": [
        "Customer service is an essential factor for every business. SO definitely good customer service will have a positive impact to the business. We have to look afted the customer calls and customer query report resolution duration. Need to optimize the time period. If one type of issue is coming from more than 5 customers, root cause analysis should be done on that same issue and should be resolved for everyone.\n",
        "Need to reduce the calls for each customer and he should be satisfied in a single call only. The customer service agents should be given great offer or recognition over great performance of customer issue resolution."
      ],
      "metadata": {
        "id": "15jESfbyHSAZ"
      }
    },
    {
      "cell_type": "markdown",
      "source": [
        "#### Chart - 9 - Column wise Histogram & Box Plot Univariate Analysis"
      ],
      "metadata": {
        "id": "I3aNiIh9fKqZ"
      }
    },
    {
      "cell_type": "code",
      "source": [
        "# Chart - 9 visualization code\n",
        "# Visualizing code of hist plot for each columns to know the data distibution\n",
        "for col in dataset.describe().columns:\n",
        "  fig=plt.figure(figsize=(9,6))\n",
        "  ax=fig.gca()\n",
        "  feature= (dataset[col])\n",
        "  sns.distplot(dataset[col])\n",
        "  ax.axvline(feature.mean(),color='magenta', linestyle='dashed', linewidth=2)\n",
        "  ax.axvline(feature.median(),color='cyan', linestyle='dashed', linewidth=2)\n",
        "  ax.set_title(col)\n",
        "plt.show()\n",
        "\n",
        "# Visualizing code of box plot for each columns to know the data distibution\n",
        "for col in dataset.describe().columns:\n",
        "    fig = plt.figure(figsize=(9, 6))\n",
        "    ax = fig.gca()\n",
        "    dataset.boxplot( col, ax = ax)\n",
        "    ax.set_title('Label by ' + col)\n",
        "    #ax.set_ylabel(\"Churn\")\n",
        "plt.show()\n"
      ],
      "metadata": {
        "id": "WPVINT_UfKqa"
      },
      "execution_count": null,
      "outputs": []
    },
    {
      "cell_type": "markdown",
      "source": [
        "##### 1. Why did you pick the specific chart?"
      ],
      "metadata": {
        "id": "hTF1e9PwfKqa"
      }
    },
    {
      "cell_type": "markdown",
      "source": [
        "The histogram is a popular graphing tool. It is used to summarize discrete or continuous data that are measured on an interval scale. It is often used to illustrate the major features of the distribution of the data in a convenient form. It is also useful when dealing with large data sets (greater than 100 observations). It can help detect any unusual observations (outliers) or any gaps in the data.\n",
        "\n",
        "Thus, I used the histogram plot to analysis the variable distributions over the whole dataset whether it's symmetric or not.\n",
        "\n",
        "Box plots are used to show distributions of numeric data values, especially when you want to compare them between multiple groups. They are built to provide high-level information at a glance, offering general information about a group of data's symmetry, skew, variance, and outliers.\n",
        "\n",
        "Thus, for each numerical varibale in the given dataset, I used box plot to analyse the outliers and interquartile range including mean, median, maximum and minimum value."
      ],
      "metadata": {
        "id": "XOYaZpKpfKqa"
      }
    },
    {
      "cell_type": "markdown",
      "source": [
        "##### 2. What is/are the insight(s) found from the chart?"
      ],
      "metadata": {
        "id": "1xrBLU6IfKqa"
      }
    },
    {
      "cell_type": "markdown",
      "source": [
        "Almost all columns are symmetric distributed and mean is nearly same with median for numerical columns. Here Area code will be treated as text values as there are only 3 values in the particular column."
      ],
      "metadata": {
        "id": "rrwjuBlHfKqb"
      }
    },
    {
      "cell_type": "markdown",
      "source": [
        "##### 3. Will the gained insights help creating a positive business impact?\n",
        "Are there any insights that lead to negative growth? Justify with specific reason."
      ],
      "metadata": {
        "id": "yiLHMWFSfKqb"
      }
    },
    {
      "cell_type": "markdown",
      "source": [
        "Just a histogram and box plot cannot define business impact. It's done just to see the distribution of the column data over the dataset."
      ],
      "metadata": {
        "id": "7cTtRDwufKqb"
      }
    },
    {
      "cell_type": "markdown",
      "source": [
        "#### Chart - 10 - Correlation Heatmap"
      ],
      "metadata": {
        "id": "NC_X3p0fY2L0"
      }
    },
    {
      "cell_type": "code",
      "source": [
        "# Correlation Heatmap visualization code\n",
        "corr = dataset.corr()\n",
        "cmap = cmap=sns.diverging_palette(5, 250, as_cmap=True)\n",
        "\n",
        "def magnify():\n",
        "    return [dict(selector=\"th\",\n",
        "                 props=[(\"font-size\", \"7pt\")]),\n",
        "            dict(selector=\"td\",\n",
        "                 props=[('padding', \"0em 0em\")]),\n",
        "            dict(selector=\"th:hover\",\n",
        "                 props=[(\"font-size\", \"12pt\")]),\n",
        "            dict(selector=\"tr:hover td:hover\",\n",
        "                 props=[('max-width', '200px'),\n",
        "                        ('font-size', '12pt')])\n",
        "]\n",
        "\n",
        "corr.style.background_gradient(cmap, axis=1)\\\n",
        "    .set_properties(**{'max-width': '80px', 'font-size': '10pt'})\\\n",
        "    .set_caption(\"Hover to magify\")\\\n",
        "    .set_precision(2)\\\n",
        "    .set_table_styles(magnify())"
      ],
      "metadata": {
        "id": "xyC9zolEZNRQ"
      },
      "execution_count": null,
      "outputs": []
    },
    {
      "cell_type": "markdown",
      "source": [
        "##### 1. Why did you pick the specific chart?"
      ],
      "metadata": {
        "id": "UV0SzAkaZNRQ"
      }
    },
    {
      "cell_type": "markdown",
      "source": [
        "A correlation matrix is a table showing correlation coefficients between variables. Each cell in the table shows the correlation between two variables. A correlation matrix is used to summarize data, as an input into a more advanced analysis, and as a diagnostic for advanced analyses. The range of correlation is [-1,1].\n",
        "\n",
        "Thus to know the correlation between all the variables along with the correlation coeficients, i used correlation heatmap."
      ],
      "metadata": {
        "id": "DVPuT8LYZNRQ"
      }
    },
    {
      "cell_type": "markdown",
      "source": [
        "##### 2. What is/are the insight(s) found from the chart?"
      ],
      "metadata": {
        "id": "YPEH6qLeZNRQ"
      }
    },
    {
      "cell_type": "markdown",
      "source": [
        "From the above correlation heatmap, we can see total day charge & total day minute, total evening charge & total evening minute, total night charge & total night minute are positiveliy highly correlated with a value of 1.\n",
        "\n",
        "Customer service call is positively correlated only with area code and negative correlated with rest variables.\n",
        "\n",
        "Rest all correlation can be depicted from the above chart.\n"
      ],
      "metadata": {
        "id": "bfSqtnDqZNRR"
      }
    },
    {
      "cell_type": "markdown",
      "source": [
        "#### Chart - 11 - Pair Plot"
      ],
      "metadata": {
        "id": "q29F0dvdveiT"
      }
    },
    {
      "cell_type": "code",
      "source": [
        "# Pair Plot visualization code\n",
        "sns.pairplot(dataset, hue=\"Churn\")"
      ],
      "metadata": {
        "id": "o58-TEIhveiU"
      },
      "execution_count": null,
      "outputs": []
    },
    {
      "cell_type": "markdown",
      "source": [
        "##### 1. Why did you pick the specific chart?"
      ],
      "metadata": {
        "id": "EXh0U9oCveiU"
      }
    },
    {
      "cell_type": "markdown",
      "source": [
        "Pair plot is used to understand the best set of features to explain a relationship between two variables or to form the most separated clusters. It also helps to form some simple classification models by drawing some simple lines or make linear separation in our data-set.\n",
        "\n",
        "Thus, I used pair plot to analyse the patterns of data and realationship between the features. It's exactly same as the correlation map but here you will get the graphical representation."
      ],
      "metadata": {
        "id": "eMmPjTByveiU"
      }
    },
    {
      "cell_type": "markdown",
      "source": [
        "##### 2. What is/are the insight(s) found from the chart?"
      ],
      "metadata": {
        "id": "22aHeOlLveiV"
      }
    },
    {
      "cell_type": "markdown",
      "source": [
        "From the above chart I got to know, there are less linear relationship between variables and data poiunts aren't linearly separable. Churned customers data is clusetered and ovearlapped each other. Non churn data are quite symmetrical in nature and churned customer data are quite non symmetric in nature. In this whole pair plot, the importance of area code can be seen and the number of churn with respect to different features are really insightful. Rest insights can be depicted from the above graph."
      ],
      "metadata": {
        "id": "uPQ8RGwHveiV"
      }
    },
    {
      "cell_type": "markdown",
      "source": [
        "## ***5. Hypothesis Testing***"
      ],
      "metadata": {
        "id": "g-ATYxFrGrvw"
      }
    },
    {
      "cell_type": "markdown",
      "source": [
        "### Based on your chart experiments, define three hypothetical statements from the dataset. In the next three questions, perform hypothesis testing to obtain final conclusion about the statements through your code and statistical testing."
      ],
      "metadata": {
        "id": "Yfr_Vlr8HBkt"
      }
    },
    {
      "cell_type": "markdown",
      "source": [
        "1. Customers not churning with Voicemail plan have sent average of at least 30 number of voicemails.\n",
        "2. Customers not churning having  customer care calls average of at most 2.\n",
        "3. Customers churning have total average call minutes including day, evening, night and international calls is 215."
      ],
      "metadata": {
        "id": "-7MS06SUHkB-"
      }
    },
    {
      "cell_type": "code",
      "source": [
        "# Creating Parameter Class\n",
        "class findz:\n",
        "  def proportion(self,sample,hyp,size):\n",
        "    return (sample - hyp)/math.sqrt(hyp*(1-hyp)/size)\n",
        "  def mean(self,hyp,sample,size,std):\n",
        "    return (sample - hyp)*math.sqrt(size)/std\n",
        "  def varience(self,hyp,sample,size):\n",
        "    return (size-1)*sample/hyp\n",
        "\n",
        "variance = lambda x : sum([(i - np.mean(x))**2 for i in x])/(len(x)-1)\n",
        "zcdf = lambda x: norm(0,1).cdf(x)\n",
        "# Creating a function for getting P value\n",
        "def p_value(z,tailed,t,hypothesis_number,df,col):\n",
        "  if t!=\"true\":\n",
        "    z=zcdf(z)\n",
        "    if tailed=='l':\n",
        "      return z\n",
        "    elif tailed == 'r':\n",
        "      return 1-z\n",
        "    elif tailed == 'd':\n",
        "      if z>0.5:\n",
        "        return 2*(1-z)\n",
        "      else:\n",
        "        return 2*z\n",
        "    else:\n",
        "      return np.nan\n",
        "  else:\n",
        "    z,p_value=stats.ttest_1samp(df[col],hypothesis_number)\n",
        "    return p_value\n",
        "\n",
        "\n",
        "\n",
        "\n",
        "# Conclusion about the P - Value\n",
        "def conclusion(p):\n",
        "  significance_level = 0.05\n",
        "  if p>significance_level:\n",
        "    return f\"Failed to reject the Null Hypothesis for p = {p}.\"\n",
        "  else:\n",
        "    return f\"Null Hypothesis rejected Successfully for p = {p}\"\n",
        "\n",
        "# Initializing the class\n",
        "findz = findz()"
      ],
      "metadata": {
        "id": "9C3DDHpRUM7E"
      },
      "execution_count": null,
      "outputs": []
    },
    {
      "cell_type": "markdown",
      "source": [
        "### Hypothetical Statement - 1\n",
        "Customers not churning with Voicemail plan have sent average of at least 30 number of voicemails."
      ],
      "metadata": {
        "id": "8yEUt7NnHlrM"
      }
    },
    {
      "cell_type": "markdown",
      "source": [
        "#### 1. State Your research hypothesis as a null hypothesis and alternate hypothesis."
      ],
      "metadata": {
        "id": "tEA2Xm5dHt1r"
      }
    },
    {
      "cell_type": "markdown",
      "source": [
        "Null Hypothesis: N = 30\n",
        "\n",
        "Alternate Hypothesis : N < 30\n",
        "\n",
        "Test Type: Left Tailed Test\n"
      ],
      "metadata": {
        "id": "HI9ZP0laH0D-"
      }
    },
    {
      "cell_type": "markdown",
      "source": [
        "#### 2. Perform an appropriate statistical test."
      ],
      "metadata": {
        "id": "I79__PHVH19G"
      }
    },
    {
      "cell_type": "code",
      "source": [
        "# Perform Statistical Test to obtain P-Value\n",
        "hypo_1=dataset[(dataset[\"Churn\"]==False) & (dataset[\"Voice mail plan\"]==\"Yes\")]\n",
        "# Getting the required parameter values for hypothesis testing\n",
        "hypothesis_number = 30\n",
        "sample_mean = hypo_1[\"Number vmail messages\"].mean()\n",
        "size = len(hypo_1)\n",
        "std=(variance(hypo_1[\"Number vmail messages\"]))**0.5"
      ],
      "metadata": {
        "id": "oZrfquKtyian"
      },
      "execution_count": null,
      "outputs": []
    },
    {
      "cell_type": "code",
      "source": [
        "# Getting Z value\n",
        "z = findz.mean(hypothesis_number,sample_mean,size,std)\n",
        "# Getting P - Value\n",
        "p = p_value(z=z,tailed='l',t=\"false\",hypothesis_number=hypothesis_number,df=hypo_1,col=\"Number vmail messages\")\n",
        "# Getting Conclusion\n",
        "print(conclusion(p))"
      ],
      "metadata": {
        "id": "kZRQhS2VZ53g"
      },
      "execution_count": null,
      "outputs": []
    },
    {
      "cell_type": "markdown",
      "source": [
        "##### Which statistical test have you done to obtain P-Value?"
      ],
      "metadata": {
        "id": "Ou-I18pAyIpj"
      }
    },
    {
      "cell_type": "markdown",
      "source": [
        "I have used Z-Test as the statistical testing to obtain P-Value and found the result that Null hypothesis has been rejected and Customers not churning with Voicemail plan haven't sent at least 30 number of voicemails. But, we can see a maximum of 50 voice mails sent and sutomers aren't taking benefits of 50 messages although they have taken Voice Mail Plan."
      ],
      "metadata": {
        "id": "s2U0kk00ygSB"
      }
    },
    {
      "cell_type": "markdown",
      "source": [
        "##### Why did you choose the specific statistical test?"
      ],
      "metadata": {
        "id": "fF3858GYyt-u"
      }
    },
    {
      "cell_type": "code",
      "source": [
        "# Visualizing code of hist plot for required columns to know the data distibution\n",
        "\n",
        "fig=plt.figure(figsize=(9,6))\n",
        "ax=fig.gca()\n",
        "feature= (hypo_1[\"Number vmail messages\"])\n",
        "sns.distplot(hypo_1[\"Number vmail messages\"])\n",
        "ax.axvline(feature.mean(),color='magenta', linestyle='dashed', linewidth=2)\n",
        "ax.axvline(feature.median(),color='cyan', linestyle='dashed', linewidth=2)\n",
        "ax.set_title(col)\n",
        "plt.show()"
      ],
      "metadata": {
        "id": "Tz1TkC-_ZdhI"
      },
      "execution_count": null,
      "outputs": []
    },
    {
      "cell_type": "markdown",
      "source": [
        "As shown in the figure the mean is approximately same as the median. Thus, it is a Normal Distribution. That's why I have used Z-Test directly."
      ],
      "metadata": {
        "id": "HO4K0gP5y3B4"
      }
    },
    {
      "cell_type": "markdown",
      "source": [
        "### Hypothetical Statement - 2\n",
        "Customers not churning having customer care calls average of at most 4."
      ],
      "metadata": {
        "id": "jLrtcv83OEmf"
      }
    },
    {
      "cell_type": "markdown",
      "source": [
        "#### 1. State Your research hypothesis as a null hypothesis and alternate hypothesis."
      ],
      "metadata": {
        "id": "5djnGilGOEmg"
      }
    },
    {
      "cell_type": "markdown",
      "source": [
        "Null Hypothesis : N = 4\n",
        "\n",
        "Alternate Hypothesis : N > 4\n",
        "\n",
        "Test Type : Right Tailed Test\n",
        "\n"
      ],
      "metadata": {
        "id": "ps8ZluDUOEmg"
      }
    },
    {
      "cell_type": "markdown",
      "source": [
        "#### 2. Perform an appropriate statistical test."
      ],
      "metadata": {
        "id": "DADo_qtwOEmg"
      }
    },
    {
      "cell_type": "code",
      "source": [
        "# Perform Statistical Test to obtain P-Value\n",
        "hypo_2=dataset[(dataset[\"Churn\"]==False)]\n",
        "# Getting the required parameter values for hypothesis testing\n",
        "hypothesis_number = 2\n",
        "sample_mean = hypo_2[\"Customer service calls\"].mean()\n",
        "size = len(hypo_2)\n",
        "std=(variance(hypo_2[\"Customer service calls\"]))**0.5"
      ],
      "metadata": {
        "id": "0v4QJexjOEmh"
      },
      "execution_count": null,
      "outputs": []
    },
    {
      "cell_type": "code",
      "source": [
        "# Getting Z value\n",
        "z = findz.mean(hypothesis_number,sample_mean,size,std)\n",
        "# Getting P - Value\n",
        "p = p_value(z=z,tailed='r',t=\"false\",hypothesis_number=hypothesis_number,df=hypo_2,col=\"Customer service calls\")\n",
        "# Getting Conclusion\n",
        "print(conclusion(p))"
      ],
      "metadata": {
        "id": "40AHeMyBe-Pr"
      },
      "execution_count": null,
      "outputs": []
    },
    {
      "cell_type": "markdown",
      "source": [
        "##### Which statistical test have you done to obtain P-Value?"
      ],
      "metadata": {
        "id": "0VL2QIwzOEmh"
      }
    },
    {
      "cell_type": "markdown",
      "source": [
        "I have used Z-Test as the statistical testing to obtain P-Value and found the result that Null hypothesis can't be rejected and Customers not churning having customer care calls average of at most 2. So, we can see a clear picture that average of 2-2.5 doesn't lead to customer churn. So, we should keep the customer queries resolution call average in betwwen 2-2.5."
      ],
      "metadata": {
        "id": "9EZtE-psOEmh"
      }
    },
    {
      "cell_type": "markdown",
      "source": [
        "##### Why did you choose the specific statistical test?"
      ],
      "metadata": {
        "id": "69qjvWOxOEmh"
      }
    },
    {
      "cell_type": "code",
      "source": [
        "mean_median_difference=hypo_2[\"Customer service calls\"].mean()- hypo_2[\"Customer service calls\"].median()\n",
        "print(\"Mean Median Difference is :-\",mean_median_difference)"
      ],
      "metadata": {
        "id": "4VWq37ORjNaP"
      },
      "execution_count": null,
      "outputs": []
    },
    {
      "cell_type": "markdown",
      "source": [
        "As shown above the Mean median difference is around 0.4 and nearly zero. Mean is approximately same as the median. Thus, it is a Normal Distribution. That's why I have used Z-Test directly."
      ],
      "metadata": {
        "id": "1WtUDDNROEmh"
      }
    },
    {
      "cell_type": "markdown",
      "source": [
        "### Hypothetical Statement - 3\n",
        "Customers churning have total average call minutes including day, evening, night and international calls is 215."
      ],
      "metadata": {
        "id": "FqZJ_xAgOH3o"
      }
    },
    {
      "cell_type": "markdown",
      "source": [
        "#### 1. State Your research hypothesis as a null hypothesis and alternate hypothesis."
      ],
      "metadata": {
        "id": "pE65w-N1OH3p"
      }
    },
    {
      "cell_type": "markdown",
      "source": [
        "Null Hypothesis : mean = 215\n",
        "\n",
        "Alternate Hypothesise : mean != 215\n",
        "\n",
        "Type of Test : Two Tailed test"
      ],
      "metadata": {
        "id": "9QVaMT2vOH3p"
      }
    },
    {
      "cell_type": "markdown",
      "source": [
        "#### 2. Perform an appropriate statistical test."
      ],
      "metadata": {
        "id": "OISwWHvhOH3p"
      }
    },
    {
      "cell_type": "code",
      "source": [
        "# Perform Statistical Test to obtain P-Value\n",
        "hypo_3=dataset[(dataset[\"Churn\"]==True)]\n",
        "hypo_3[\"total call minutes\"]=hypo_3[\"Total day minutes\"]+hypo_3[\"Total eve minutes\"]+hypo_3[\"Total night minutes\"]+hypo_3[\"Total intl minutes\"]\n",
        "# Getting the required parameter values for hypothesis testing\n",
        "hypothesis_number = 500\n",
        "sample_mean = hypo_3[\"total call minutes\"].mean()\n",
        "size = len(hypo_3)\n",
        "std=(variance(hypo_3[\"total call minutes\"]))**0.5"
      ],
      "metadata": {
        "id": "yOMTknz0OH3p"
      },
      "execution_count": null,
      "outputs": []
    },
    {
      "cell_type": "code",
      "source": [
        "# Getting Z value\n",
        "z = findz.mean(hypothesis_number,sample_mean,size,std)\n",
        "# Getting P - Value\n",
        "p = p_value(z=z,tailed='d',t=\"true\",hypothesis_number=hypothesis_number,df=hypo_3,col=\"total call minutes\")\n",
        "# Getting Conclusion\n",
        "print(conclusion(p))"
      ],
      "metadata": {
        "id": "zZD_V41OmXHo"
      },
      "execution_count": null,
      "outputs": []
    },
    {
      "cell_type": "markdown",
      "source": [
        "##### Which statistical test have you done to obtain P-Value?"
      ],
      "metadata": {
        "id": "rheC10M4OH3q"
      }
    },
    {
      "cell_type": "markdown",
      "source": [
        "I have used T-Test as the statistical testing to obtain P-Value and found the result that Null hypothesis has been rejected and Customers churning haven't total average call minutes including day, evening, night and international calls is 215. It's more than 600."
      ],
      "metadata": {
        "id": "Obd1DMgROH3q"
      }
    },
    {
      "cell_type": "markdown",
      "source": [
        "##### Why did you choose the specific statistical test?"
      ],
      "metadata": {
        "id": "-CtoKDX7OH3q"
      }
    },
    {
      "cell_type": "code",
      "source": [
        "# Visualizing code of hist plot for required columns to know the data distibution\n",
        "\n",
        "fig=plt.figure(figsize=(9,6))\n",
        "ax=fig.gca()\n",
        "feature= (hypo_3[\"total call minutes\"])\n",
        "sns.distplot(hypo_3[\"total call minutes\"])\n",
        "ax.axvline(feature.mean(),color='magenta', linestyle='dashed', linewidth=2)\n",
        "ax.axvline(feature.median(),color='cyan', linestyle='dashed', linewidth=2)\n",
        "ax.set_title(col)\n",
        "plt.show()"
      ],
      "metadata": {
        "id": "yk2FrhmxnQUI"
      },
      "execution_count": null,
      "outputs": []
    },
    {
      "cell_type": "code",
      "source": [
        "mean_median_difference=hypo_3[\"total call minutes\"].median()- hypo_3[\"total call minutes\"].mean()\n",
        "print(\"Mean Median Difference is :-\",mean_median_difference)"
      ],
      "metadata": {
        "id": "8a7kQaT2m054"
      },
      "execution_count": null,
      "outputs": []
    },
    {
      "cell_type": "markdown",
      "source": [
        "From the above chart we can see median is greater than mean over 10. So, the distribution is postively skewed. For a skewed data Z-Test can't be performed.\n",
        "\n",
        "Non-parametric tests are most useful for small studies. Using non-parametric tests in large studies may provide answers to the wrong question, thus confusing readers. For studies with a large sample size, t-tests and their corresponding confidence intervals can and should be used even for heavily skewed data.\n",
        "\n",
        "So, for a skewed data we can use T-test for better result. Thus, I used t - test."
      ],
      "metadata": {
        "id": "f9IOMHYuOH3q"
      }
    },
    {
      "cell_type": "markdown",
      "source": [
        "## ***6. Feature Engineering & Data Pre-processing***"
      ],
      "metadata": {
        "id": "yLjJCtPM0KBk"
      }
    },
    {
      "cell_type": "code",
      "source": [
        "# Creating a copy of the dataset for further feature engineering\n",
        "df=dataset.copy()"
      ],
      "metadata": {
        "id": "nEQ5IKIFtrok"
      },
      "execution_count": null,
      "outputs": []
    },
    {
      "cell_type": "markdown",
      "source": [
        "### 1. Handling Missing Values"
      ],
      "metadata": {
        "id": "xiyOF9F70UgQ"
      }
    },
    {
      "cell_type": "code",
      "source": [
        "# Handling Missing Values & Missing Value Imputation\n",
        "# Missing Values/Null Values Count\n",
        "print(df.isnull().sum())\n",
        "\n",
        "# Visualizing the missing values\n",
        "# Checking Null Value by plotting Heatmap\n",
        "sns.heatmap(df.isnull(), cbar=False)"
      ],
      "metadata": {
        "id": "iRsAHk1K0fpS"
      },
      "execution_count": null,
      "outputs": []
    },
    {
      "cell_type": "markdown",
      "source": [
        "#### What all missing value imputation techniques have you used and why did you use those techniques?"
      ],
      "metadata": {
        "id": "7wuGOrhz0itI"
      }
    },
    {
      "cell_type": "markdown",
      "source": [
        "There are no missing values to handle in the given dataset."
      ],
      "metadata": {
        "id": "1ixusLtI0pqI"
      }
    },
    {
      "cell_type": "markdown",
      "source": [
        "### 2. Handling Outliers"
      ],
      "metadata": {
        "id": "id1riN9m0vUs"
      }
    },
    {
      "cell_type": "code",
      "source": [
        "# Handling Outliers & Outlier treatments\n",
        "# To separate the symmetric distributed features and skew symmetric distributed features\n",
        "df[\"Area code\"]=df[\"Area code\"].astype('str')\n",
        "symmetric_feature=[]\n",
        "non_symmetric_feature=[]\n",
        "for i in df.describe().columns:\n",
        "  if abs(df[i].mean()-df[i].median())<0.2:\n",
        "    symmetric_feature.append(i)\n",
        "  else:\n",
        "    non_symmetric_feature.append(i)\n",
        "\n",
        "# Getting Symmetric Distributed Features\n",
        "print(\"Symmetric Distributed Features : -\",symmetric_feature)\n",
        "\n",
        "# Getting Skew Symmetric Distributed Features\n",
        "print(\"Skew Symmetric Distributed Features : -\",non_symmetric_feature)\n",
        "\n",
        "# Removing Customer Service Calls column from the list as it's an important factor\n",
        "# which can't be treated as outliers here will is already leading to higher churn as we have seen furing analysis.\n",
        "non_symmetric_feature.pop()\n"
      ],
      "metadata": {
        "id": "M6w2CzZf04JK"
      },
      "execution_count": null,
      "outputs": []
    },
    {
      "cell_type": "code",
      "metadata": {
        "id": "VqJ-nKe-7sH1"
      },
      "source": [
        "# For Symmetric features defining upper and lower boundry\n",
        "def outlier_treatment(df,feature):\n",
        "  upper_boundary= df[feature].mean()+3*df[feature].std()\n",
        "  lower_boundary= df[feature].mean()-3*df[feature].std()\n",
        "  return upper_boundary,lower_boundary"
      ],
      "execution_count": null,
      "outputs": []
    },
    {
      "cell_type": "code",
      "metadata": {
        "id": "iu4N8d5i8Jdr"
      },
      "source": [
        "# Restricting the data to lower and upper boundry\n",
        "for feature in symmetric_feature:\n",
        "  df.loc[df[feature]<= outlier_treatment(df=df,feature=feature)[1], feature]=outlier_treatment(df=df,feature=feature)[1]\n",
        "  df.loc[df[feature]>= outlier_treatment(df=df,feature=feature)[0], feature]=outlier_treatment(df=df,feature=feature)[0]"
      ],
      "execution_count": null,
      "outputs": []
    },
    {
      "cell_type": "code",
      "metadata": {
        "id": "atgeFnRY8G1w"
      },
      "source": [
        "# For Skew Symmetric features defining upper and lower boundry\n",
        "#Outer Fence\n",
        "def outlier_treatment_skew(df,feature):\n",
        "  IQR= df[feature].quantile(0.75)- df[feature].quantile(0.25)\n",
        "  lower_bridge =df[feature].quantile(0.25)-3*IQR\n",
        "  upper_bridge =df[feature].quantile(0.25)+3*IQR\n",
        "  return upper_bridge,lower_bridge"
      ],
      "execution_count": null,
      "outputs": []
    },
    {
      "cell_type": "code",
      "metadata": {
        "id": "by9igFMl9evx"
      },
      "source": [
        "# Restricting the data to lower and upper boundry\n",
        "for feature in non_symmetric_feature:\n",
        "  df.loc[df[feature]<= outlier_treatment_skew(df=df,feature=feature)[1], feature]=outlier_treatment_skew(df=df,feature=feature)[1]\n",
        "  df.loc[df[feature]>= outlier_treatment_skew(df=df,feature=feature)[0], feature]=outlier_treatment_skew(df=df,feature=feature)[0]"
      ],
      "execution_count": null,
      "outputs": []
    },
    {
      "cell_type": "code",
      "source": [
        "# After Outlier Treatment showing the dataset distribution using strip plot\n",
        "# Visualising  code for the numerical columns\n",
        "for col in df.describe().columns:\n",
        "  fig=plt.figure(figsize=(9,6))\n",
        "  sns.stripplot(df[col])"
      ],
      "metadata": {
        "id": "56KLPEcOw-MQ"
      },
      "execution_count": null,
      "outputs": []
    },
    {
      "cell_type": "markdown",
      "source": [
        "##### What all outlier treatment techniques have you used and why did you use those techniques?"
      ],
      "metadata": {
        "id": "578E2V7j08f6"
      }
    },
    {
      "cell_type": "markdown",
      "source": [
        "First I changed the Area Code column to sring as it shouldn't be treated as numerical column as there are only three type of values and should be treated as categorical column. Then I separated the skew symmetric and symmetric features and define the upper and lower boundry as defined below. Again, as it is a classification problem I restrict the both bopundaries and I pull down the higher value restricted to the upper limit, i.e., if a person is churning with the value 150 for any column but IQR and upper boundary range is 140, so quite possible that he will also be churned for 140 too and restricting the value to 140 which is upper boundary.\n",
        "\n",
        "Another way to do it is dropping extreme values but I didn't do that due to less no. of datapoints I have."
      ],
      "metadata": {
        "id": "MUP21tsOyJjb"
      }
    },
    {
      "cell_type": "markdown",
      "metadata": {
        "id": "fDVHj6krj3xX"
      },
      "source": [
        "In a Gaussian distribution while it’s the symmetric curve and outlier are present. Then, we can set the boundary by taking standard deviation into action."
      ]
    },
    {
      "cell_type": "markdown",
      "metadata": {
        "id": "LdEiDCi_kAFM"
      },
      "source": [
        "The box plot is a useful graphical display for describing the behavior of the data in the middle as well as at the ends of the distributions. The box plot uses the median and the lower and upper quartiles (defined as the 25th and 75th percentiles). If the lower quartile is Q1 and the upper quartile is Q3, then the difference (Q3 — Q1) is called the interquartile range or IQ. A box plot is constructed by drawing a box between the upper and lower quartiles with a solid line drawn across the box to locate the median. The following quantities (called fences) are needed for identifying extreme values in the tails of the distribution:\n",
        "1.\tlower inner fence: Q1–1.5*IQ\n",
        "2.\tupper inner fence: Q3 + 1.5*IQ\n",
        "3.\tlower outer fence: Q1–3*IQ\n",
        "4.\tupper outer fence: Q3 + 3*IQ\n"
      ]
    },
    {
      "cell_type": "markdown",
      "source": [
        "### 3. Categorical Encoding"
      ],
      "metadata": {
        "id": "89xtkJwZ18nB"
      }
    },
    {
      "cell_type": "code",
      "source": [
        "# Encode your categorical columns\n",
        "# Getting the categorical columns\n",
        "categorical_columns=list(set(df.columns.to_list()).difference(set(df.describe().columns.to_list())))\n",
        "print(\"Categorical Columns are :-\", categorical_columns)"
      ],
      "metadata": {
        "id": "21JmIYMG2hEo"
      },
      "execution_count": null,
      "outputs": []
    },
    {
      "cell_type": "code",
      "source": [
        "# Getting dictionaries for Label Encoding\n",
        "dict1={True:1,False:0}\n",
        "dict2={\"Yes\":1,\"No\":0}\n",
        "area_code_list=sorted(list(df[\"Area code\"].unique()))\n",
        "dict3=dict(zip(area_code_list,range(0,len(area_code_list))))"
      ],
      "metadata": {
        "id": "2cHDDpdnzlqm"
      },
      "execution_count": null,
      "outputs": []
    },
    {
      "cell_type": "code",
      "source": [
        "# Label Encoding in the dataset\n",
        "# df['Churn']=df['Churn'].map(dict1)\n",
        "df['International plan']=df['International plan'].map(dict2)\n",
        "df['Voice mail plan']=df['Voice mail plan'].map(dict2)\n",
        "df['Area code']=df['Area code'].map(dict3)"
      ],
      "metadata": {
        "id": "3tjNK6xp1yxo"
      },
      "execution_count": null,
      "outputs": []
    },
    {
      "cell_type": "code",
      "source": [
        "# One Hot Encoding on State Column\n",
        "df=pd.get_dummies(df,drop_first= True)"
      ],
      "metadata": {
        "id": "axarb3YM1yvY"
      },
      "execution_count": null,
      "outputs": []
    },
    {
      "cell_type": "code",
      "source": [
        "df[\"Churn\"]"
      ],
      "metadata": {
        "id": "Nxij27LicGTM"
      },
      "execution_count": null,
      "outputs": []
    },
    {
      "cell_type": "markdown",
      "source": [
        "#### What all categorical encoding techniques have you used & why did you use those techniques?"
      ],
      "metadata": {
        "id": "67NQN5KX2AMe"
      }
    },
    {
      "cell_type": "markdown",
      "source": [
        "I have used Label Encoding technique for Churn, Area Code, Voice Mail & International Plan column and One Hot Encoding for State Column. As we have seen during analysis, that State date is very very important and we also created some hypothesis based on our logics that there are some states which have poor network issues or maintainence needed there. So, We can ignore the State Column. Thus One hot encoded on that column, and for rest categorical columns, I have used label encoding, because there are only 2-3 unique values in each column which needed to be encoded."
      ],
      "metadata": {
        "id": "UDaue5h32n_G"
      }
    },
    {
      "cell_type": "markdown",
      "source": [
        "### 4. Textual Data Preprocessing\n",
        "(It's mandatory for textual dataset i.e., NLP, Sentiment Analysis, Text Clustering etc.)\n",
        "\n",
        "**There are no text columns in the given dataset which I am working on. So, Skipping this part.**"
      ],
      "metadata": {
        "id": "Iwf50b-R2tYG"
      }
    },
    {
      "cell_type": "markdown",
      "source": [
        "#### 1. Expand Contraction"
      ],
      "metadata": {
        "id": "GMQiZwjn3iu7"
      }
    },
    {
      "cell_type": "code",
      "source": [
        "# Expand Contraction"
      ],
      "metadata": {
        "id": "PTouz10C3oNN"
      },
      "execution_count": null,
      "outputs": []
    },
    {
      "cell_type": "markdown",
      "source": [
        "#### 2. Lower Casing"
      ],
      "metadata": {
        "id": "WVIkgGqN3qsr"
      }
    },
    {
      "cell_type": "code",
      "source": [
        "# Lower Casing"
      ],
      "metadata": {
        "id": "88JnJ1jN3w7j"
      },
      "execution_count": null,
      "outputs": []
    },
    {
      "cell_type": "markdown",
      "source": [
        "#### 3. Removing Punctuations"
      ],
      "metadata": {
        "id": "XkPnILGE3zoT"
      }
    },
    {
      "cell_type": "code",
      "source": [
        "# Remove Punctuations"
      ],
      "metadata": {
        "id": "vqbBqNaA33c0"
      },
      "execution_count": null,
      "outputs": []
    },
    {
      "cell_type": "markdown",
      "source": [
        "#### 4. Removing URLs & Removing words and digits contain digits."
      ],
      "metadata": {
        "id": "Hlsf0x5436Go"
      }
    },
    {
      "cell_type": "code",
      "source": [
        "# Remove URLs & Remove words and digits contain digits"
      ],
      "metadata": {
        "id": "2sxKgKxu4Ip3"
      },
      "execution_count": null,
      "outputs": []
    },
    {
      "cell_type": "markdown",
      "source": [
        "#### 5. Removing Stopwords & Removing White spaces"
      ],
      "metadata": {
        "id": "mT9DMSJo4nBL"
      }
    },
    {
      "cell_type": "code",
      "source": [
        "# Remove Stopwords"
      ],
      "metadata": {
        "id": "T2LSJh154s8W"
      },
      "execution_count": null,
      "outputs": []
    },
    {
      "cell_type": "code",
      "source": [
        "# Remove White spaces"
      ],
      "metadata": {
        "id": "EgLJGffy4vm0"
      },
      "execution_count": null,
      "outputs": []
    },
    {
      "cell_type": "markdown",
      "source": [
        "#### 6. Rephrase Text"
      ],
      "metadata": {
        "id": "c49ITxTc407N"
      }
    },
    {
      "cell_type": "code",
      "source": [
        "# Rephrase Text"
      ],
      "metadata": {
        "id": "foqY80Qu48N2"
      },
      "execution_count": null,
      "outputs": []
    },
    {
      "cell_type": "markdown",
      "source": [
        "#### 7. Tokenization"
      ],
      "metadata": {
        "id": "OeJFEK0N496M"
      }
    },
    {
      "cell_type": "code",
      "source": [
        "# Tokenization"
      ],
      "metadata": {
        "id": "ijx1rUOS5CUU"
      },
      "execution_count": null,
      "outputs": []
    },
    {
      "cell_type": "markdown",
      "source": [
        "#### 8. Text Normalization"
      ],
      "metadata": {
        "id": "9ExmJH0g5HBk"
      }
    },
    {
      "cell_type": "code",
      "source": [
        "# Normalizing Text (i.e., Stemming, Lemmatization etc.)"
      ],
      "metadata": {
        "id": "AIJ1a-Zc5PY8"
      },
      "execution_count": null,
      "outputs": []
    },
    {
      "cell_type": "markdown",
      "source": [
        "##### Which text normalization technique have you used and why?"
      ],
      "metadata": {
        "id": "cJNqERVU536h"
      }
    },
    {
      "cell_type": "markdown",
      "source": [
        "Answer Here."
      ],
      "metadata": {
        "id": "Z9jKVxE06BC1"
      }
    },
    {
      "cell_type": "markdown",
      "source": [
        "#### 9. Part of speech tagging"
      ],
      "metadata": {
        "id": "k5UmGsbsOxih"
      }
    },
    {
      "cell_type": "code",
      "source": [
        "# POS Taging"
      ],
      "metadata": {
        "id": "btT3ZJBAO6Ik"
      },
      "execution_count": null,
      "outputs": []
    },
    {
      "cell_type": "markdown",
      "source": [
        "#### 10. Text Vectorization"
      ],
      "metadata": {
        "id": "T0VqWOYE6DLQ"
      }
    },
    {
      "cell_type": "code",
      "source": [
        "# Vectorizing Text"
      ],
      "metadata": {
        "id": "yBRtdhth6JDE"
      },
      "execution_count": null,
      "outputs": []
    },
    {
      "cell_type": "markdown",
      "source": [
        "##### Which text vectorization technique have you used and why?"
      ],
      "metadata": {
        "id": "qBMux9mC6MCf"
      }
    },
    {
      "cell_type": "markdown",
      "source": [
        "Answer Here."
      ],
      "metadata": {
        "id": "su2EnbCh6UKQ"
      }
    },
    {
      "cell_type": "markdown",
      "source": [
        "### 4. Feature Manipulation & Selection"
      ],
      "metadata": {
        "id": "-oLEiFgy-5Pf"
      }
    },
    {
      "cell_type": "markdown",
      "source": [
        "#### 1. Feature Manipulation"
      ],
      "metadata": {
        "id": "C74aWNz2AliB"
      }
    },
    {
      "cell_type": "code",
      "source": [
        "# Manipulate Features to minimize feature correlation and create new features\n",
        "# Creating call duration column for customers with no international plan\n",
        "df['Days_1call_duration']=df['Total day minutes']/df['Total day calls']\n",
        "df['intern_1call_duration']=df['Total intl minutes']/df['Total intl calls']\n",
        "\n",
        "df['evening_1call_duration']=df['Total eve minutes']/df['Total eve calls']\n",
        "df['night_1call_duration']=df['Total night minutes']/df['Total night calls']\n",
        "\n",
        "# Creating price rate per minute column for customers with international plan\n",
        "df['international_rate_per_min']=df['Total intl charge']/df['Total intl minutes']\n",
        "df['day_rate_per_min']=df['Total day charge']/df['Total day minutes']\n",
        "df['eve_rate_per_min']=df['Total eve charge']/df['Total eve minutes']\n",
        "df['night_rate_per_min']=df['Total night charge']/df['Total night minutes']\n"
      ],
      "metadata": {
        "id": "h1qC4yhBApWC"
      },
      "execution_count": null,
      "outputs": []
    },
    {
      "cell_type": "code",
      "source": [
        "np.isinf(df).values.sum()\n",
        "df.replace([np.inf, -np.inf], 0, inplace=True)"
      ],
      "metadata": {
        "id": "Lo3Wn9FvVsoW"
      },
      "execution_count": null,
      "outputs": []
    },
    {
      "cell_type": "markdown",
      "source": [
        "Created Some new features like Call duration and call charges for all day, evening, night and international calls."
      ],
      "metadata": {
        "id": "3NKywcI3So33"
      }
    },
    {
      "cell_type": "markdown",
      "source": [
        "#### 2. Feature Selection"
      ],
      "metadata": {
        "id": "2DejudWSA-a0"
      }
    },
    {
      "cell_type": "code",
      "source": [
        "# Checking the shape of dataset\n",
        "df.shape"
      ],
      "metadata": {
        "id": "PLWgA-MabkJR"
      },
      "execution_count": null,
      "outputs": []
    },
    {
      "cell_type": "code",
      "source": [
        "# Dropping Constant and Quasi Constant Feature\n",
        "def dropping_constant(data):\n",
        "  from  sklearn.feature_selection import VarianceThreshold\n",
        "  var_thres= VarianceThreshold(threshold=0.05)\n",
        "  var_thres.fit(data)\n",
        "  concol = [column for column in data.columns\n",
        "          if column not in data.columns[var_thres.get_support()]]\n",
        "  if \"Churn\" in concol:\n",
        "    concol.remove(\"Churn\")\n",
        "  else:\n",
        "    pass\n",
        "  df_removed_var=data.drop(concol,axis=1)\n",
        "  return df_removed_var"
      ],
      "metadata": {
        "id": "wXDqOMA7Ym-F"
      },
      "execution_count": null,
      "outputs": []
    },
    {
      "cell_type": "code",
      "source": [
        "# Calling the function\n",
        "df_removed_var=dropping_constant(df)"
      ],
      "metadata": {
        "id": "m76C7i9Ebx5o"
      },
      "execution_count": null,
      "outputs": []
    },
    {
      "cell_type": "code",
      "source": [
        "# Checking the shape after feature dropped\n",
        "df_removed_var.shape"
      ],
      "metadata": {
        "id": "2037ugSmblqz"
      },
      "execution_count": null,
      "outputs": []
    },
    {
      "cell_type": "code",
      "source": [
        "# Getting important column names\n",
        "dataset_columns_required=dataset.columns.to_list()[1:-1]\n",
        "dataset_columns_required.extend(['Days_1call_duration','intern_1call_duration','evening_1call_duration','night_1call_duration','international_rate_per_min','day_rate_per_min','eve_rate_per_min','night_rate_per_min'])"
      ],
      "metadata": {
        "id": "KRz_X9jPUDe8"
      },
      "execution_count": null,
      "outputs": []
    },
    {
      "cell_type": "code",
      "source": [
        "# Correlation Heatmap visualization code\n",
        "corr = df_removed_var.corr()\n",
        "cmap = cmap=sns.diverging_palette(5, 250, as_cmap=True)\n",
        "\n",
        "def magnify():\n",
        "    return [dict(selector=\"th\",\n",
        "                 props=[(\"font-size\", \"7pt\")]),\n",
        "            dict(selector=\"td\",\n",
        "                 props=[('padding', \"0em 0em\")]),\n",
        "            dict(selector=\"th:hover\",\n",
        "                 props=[(\"font-size\", \"12pt\")]),\n",
        "            dict(selector=\"tr:hover td:hover\",\n",
        "                 props=[('max-width', '200px'),\n",
        "                        ('font-size', '12pt')])\n",
        "]\n",
        "\n",
        "corr.style.background_gradient(cmap, axis=1)\\\n",
        "    .set_properties(**{'max-width': '80px', 'font-size': '10pt'})\\\n",
        "    .set_caption(\"Hover to magify\")\\\n",
        "    .set_precision(2)\\\n",
        "    .set_table_styles(magnify())"
      ],
      "metadata": {
        "id": "mesGLFbqTV-3"
      },
      "execution_count": null,
      "outputs": []
    },
    {
      "cell_type": "code",
      "source": [
        "# Checking Variable Inflation Factor\n",
        "# the independent variables set\n",
        "X = df_removed_var.copy()\n",
        "\n",
        "# VIF dataframe\n",
        "vif_data = pd.DataFrame()\n",
        "vif_data[\"feature\"] = X.columns\n",
        "\n",
        "# calculating VIF for each feature\n",
        "vif_data[\"VIF\"] = [variance_inflation_factor(X.values, i)\n",
        "                          for i in range(len(X.columns))]\n",
        "\n",
        "for i in range(len(vif_data)):\n",
        "  vif_data.loc[i,\"VIF\"]=vif_data.loc[i,\"VIF\"].round(2)\n",
        "  if vif_data.loc[i,\"VIF\"]>=8:\n",
        "    print(vif_data.loc[i,\"feature\"])\n"
      ],
      "metadata": {
        "id": "s6ekJylYVViu"
      },
      "execution_count": null,
      "outputs": []
    },
    {
      "cell_type": "code",
      "source": [
        "# Check Feature Correlation and finding multicolinearity\n",
        "def correlation(df,threshold):\n",
        "  col_corr=set()\n",
        "  corr_matrix= df.corr()\n",
        "  for i in range (len(corr_matrix.columns)):\n",
        "    for j in range(i):\n",
        "      if abs (corr_matrix.iloc[i,j])>threshold:\n",
        "        colname=corr_matrix.columns[i]\n",
        "        col_corr.add(colname)\n",
        "  return list(col_corr)\n",
        "\n"
      ],
      "metadata": {
        "id": "_RD2Mq1SAZM_"
      },
      "execution_count": null,
      "outputs": []
    },
    {
      "cell_type": "code",
      "source": [
        "# Getting multicolinear columns and dropping them\n",
        "highly_correlated_columns=correlation(df_removed_var,0.5)\n",
        "\n",
        "if \"Churn\" in highly_correlated_columns:\n",
        "  highly_correlated_columns.remove(\"Churn\")\n",
        "else:\n",
        "  pass\n",
        "\n",
        "df_removed=df_removed_var.drop(highly_correlated_columns,axis=1)\n",
        "df_removed.shape"
      ],
      "metadata": {
        "id": "f2HYgia8TCCa"
      },
      "execution_count": null,
      "outputs": []
    },
    {
      "cell_type": "code",
      "source": [
        "# Correlation after dropping the required columns\n",
        "# Correlation Heatmap visualization code\n",
        "corr = df_removed.corr()\n",
        "cmap = cmap=sns.diverging_palette(5, 250, as_cmap=True)\n",
        "\n",
        "def magnify():\n",
        "    return [dict(selector=\"th\",\n",
        "                 props=[(\"font-size\", \"7pt\")]),\n",
        "            dict(selector=\"td\",\n",
        "                 props=[('padding', \"0em 0em\")]),\n",
        "            dict(selector=\"th:hover\",\n",
        "                 props=[(\"font-size\", \"12pt\")]),\n",
        "            dict(selector=\"tr:hover td:hover\",\n",
        "                 props=[('max-width', '200px'),\n",
        "                        ('font-size', '12pt')])\n",
        "]\n",
        "\n",
        "corr.style.background_gradient(cmap, axis=1)\\\n",
        "    .set_properties(**{'max-width': '80px', 'font-size': '10pt'})\\\n",
        "    .set_caption(\"Hover to magify\")\\\n",
        "    .set_precision(2)\\\n",
        "    .set_table_styles(magnify())"
      ],
      "metadata": {
        "id": "Lq_eSM7Ldbsd"
      },
      "execution_count": null,
      "outputs": []
    },
    {
      "cell_type": "code",
      "source": [
        "# Manipulate Features to minimize feature correlation and create new features\n",
        "# Creating call duration column for customers with no international plan\n",
        "df_removed['Days_1call_duration']=df_removed['Total day minutes']/df_removed['Total day calls']\n",
        "df_removed['intern_1call_duration']=df_removed['Total intl minutes']/df_removed['Total intl calls']\n",
        "\n",
        "df_removed['evening_1call_duration']=df_removed['Total eve minutes']/df_removed['Total eve calls']\n",
        "df_removed['night_1call_duration']=df_removed['Total night minutes']/df_removed['Total night calls']\n",
        "\n",
        "df_removed.drop(['Total day minutes','Total day calls','Total intl minutes','Total intl calls','Total eve minutes','Total eve calls','Total night minutes','Total night calls'],axis=1,inplace=True)"
      ],
      "metadata": {
        "id": "Us3TDB5id5k1"
      },
      "execution_count": null,
      "outputs": []
    },
    {
      "cell_type": "code",
      "source": [
        "# Replacing Infinite and null values\n",
        "np.isinf(df_removed).values.sum()\n",
        "df_removed.replace([np.inf, -np.inf], 0, inplace=True)"
      ],
      "metadata": {
        "id": "Zp5xGaZUeiK0"
      },
      "execution_count": null,
      "outputs": []
    },
    {
      "cell_type": "code",
      "source": [
        "# Checking correlation between new manipulated features\n",
        "# Correlation Heatmap visualization code\n",
        "corr = df_removed.corr()\n",
        "cmap = cmap=sns.diverging_palette(5, 250, as_cmap=True)\n",
        "\n",
        "def magnify():\n",
        "    return [dict(selector=\"th\",\n",
        "                 props=[(\"font-size\", \"7pt\")]),\n",
        "            dict(selector=\"td\",\n",
        "                 props=[('padding', \"0em 0em\")]),\n",
        "            dict(selector=\"th:hover\",\n",
        "                 props=[(\"font-size\", \"12pt\")]),\n",
        "            dict(selector=\"tr:hover td:hover\",\n",
        "                 props=[('max-width', '200px'),\n",
        "                        ('font-size', '12pt')])\n",
        "]\n",
        "\n",
        "corr.style.background_gradient(cmap, axis=1)\\\n",
        "    .set_properties(**{'max-width': '80px', 'font-size': '10pt'})\\\n",
        "    .set_caption(\"Hover to magify\")\\\n",
        "    .set_precision(2)\\\n",
        "    .set_table_styles(magnify())"
      ],
      "metadata": {
        "id": "a8fR1IYge4Mc"
      },
      "execution_count": null,
      "outputs": []
    },
    {
      "cell_type": "code",
      "source": [
        "# Again checking VIF post-dropped features\n",
        "# the independent variables set\n",
        "X = df_removed.copy()\n",
        "\n",
        "# VIF dataframe\n",
        "vif_data = pd.DataFrame()\n",
        "vif_data[\"feature\"] = X.columns\n",
        "\n",
        "# calculating VIF for each feature\n",
        "vif_data[\"VIF\"] = [variance_inflation_factor(X.values, i)\n",
        "                          for i in range(len(X.columns))]\n",
        "\n",
        "for i in range(len(vif_data)):\n",
        "  vif_data.loc[i,\"VIF\"]=vif_data.loc[i,\"VIF\"].round(2)\n",
        "  if vif_data.loc[i,\"VIF\"]>=8:\n",
        "    print(vif_data.loc[i,\"feature\"])\n"
      ],
      "metadata": {
        "id": "KvzzTWXbe3QS"
      },
      "execution_count": null,
      "outputs": []
    },
    {
      "cell_type": "code",
      "source": [
        "# After Feature Selection checking the shape left with\n",
        "df_removed.shape"
      ],
      "metadata": {
        "id": "T7_-rO-0fi9D"
      },
      "execution_count": null,
      "outputs": []
    },
    {
      "cell_type": "markdown",
      "source": [
        "##### What all feature selection methods have you used  and why?"
      ],
      "metadata": {
        "id": "pEMng2IbBLp7"
      }
    },
    {
      "cell_type": "markdown",
      "source": [
        "I used Dropping Constant Feature, Dropping columns having multicolinearity and validate through VIF.\n",
        "\n",
        "Feature Selector that removes all low variance features. This feature selection algorithm looks only at the features(X), not the desired outputs(Y), and can be used for unsupported learning.\n",
        "\n",
        "A Pearson correlation is a number between -1 and 1 that indicates the extent to which two variables are linearly related. The Pearson correlation is also known as the “product moment correlation coefficient” (PMCC) or simply “correlation”\n",
        "\n",
        "Pearson correlations are suitable only for metric variables The correlation coefficient has values between -1 to 1\n",
        "\n",
        "• A value closer to 0 implies weaker correlation (exact 0 implying no correlation)\n",
        "\n",
        "• A value closer to 1 implies stronger positive correlation\n",
        "\n",
        "• A value closer to -1 implies stronger negative correlation\n",
        "\n",
        "Collinearity is the state where two variables are highly correlated and contain similar information about the variance within a given dataset. To detect collinearity among variables, simply create a correlation matrix and find variables with large absolute values.\n",
        "\n",
        "Steps for Implementing VIF\n",
        "\n",
        "• Calculate the VIF factors.\n",
        "\n",
        "• Inspect the factors for each predictor variable, if the VIF is between 5–10, multicollinearity is likely present and you should consider dropping the variable.\n",
        "\n",
        "In VIF method, we pick each feature and regress it against all of the other features. For each regression, the factor is calculated as :\n",
        "\n",
        "VIF=\\frac{1}{1-R^2}\n",
        "\n",
        "Where, R-squared is the coefficient of determination in linear regression. Its value lies between 0 and 1.\n",
        "\n",
        "1st I dropped columns having constant or quasi constant variance. Then using pearson corelation I removed the columns having multicolinearity and again validate the VIFs for each feauture and found some features having VIF of more than 5-10 and I considered it to be 8 and again manipulated some features and again dropped multicolinear columns to make the VIF less than 8. The features got decreased from 77 to 10."
      ],
      "metadata": {
        "id": "8_syLORmZO_j"
      }
    },
    {
      "cell_type": "markdown",
      "source": [
        "##### Which all features you found important and why?"
      ],
      "metadata": {
        "id": "rAdphbQ9Bhjc"
      }
    },
    {
      "cell_type": "code",
      "source": [
        "df_removed.columns"
      ],
      "metadata": {
        "id": "_nCJUmznaUNv"
      },
      "execution_count": null,
      "outputs": []
    },
    {
      "cell_type": "code",
      "source": [
        "# Embedded Method of validating the feature importances of selected features\n",
        "def randomforest_embedded(x,y):\n",
        "  # Create the random forest eith hyperparameters\n",
        "  model= RandomForestClassifier(n_estimators=550)\n",
        "  # Fit the mmodel\n",
        "  model.fit(x,y)\n",
        "  # get the importance of thr resulting features\n",
        "  importances= model.feature_importances_\n",
        "  # Create a data frame for visualization\n",
        "  final_df= pd.DataFrame({\"Features\": pd.DataFrame(x).columns, \"Importances\": importances})\n",
        "  final_df.set_index('Importances')\n",
        "  # Sort in ascending order to better visualization\n",
        "  final_df= final_df.sort_values('Importances')\n",
        "  # Plot the feature importances in bars\n",
        "  # final_df.plot.bar(color='teal')\n",
        "  return final_df"
      ],
      "metadata": {
        "id": "NVL6Ha0lfyRk"
      },
      "execution_count": null,
      "outputs": []
    },
    {
      "cell_type": "code",
      "source": [
        "# Getting feature importance of selected features\n",
        "randomforest_embedded(x=df_removed.drop([\"Churn\"],axis=1),y=df[\"Churn\"])"
      ],
      "metadata": {
        "id": "7Kh30ZnTf0e_"
      },
      "execution_count": null,
      "outputs": []
    },
    {
      "cell_type": "markdown",
      "source": [
        "Finally I found out 9 indepenedent features which are important and valdate their importances through Embedded method using random forest classifier feature importance. All the features which i left with having some importances and none of them are 0. So, It validates the features make sense and heading towards the right direction."
      ],
      "metadata": {
        "id": "2zBQh2_8awan"
      }
    },
    {
      "cell_type": "markdown",
      "source": [
        "### 5. Data Transformation"
      ],
      "metadata": {
        "id": "TNVZ9zx19K6k"
      }
    },
    {
      "cell_type": "code",
      "source": [
        "# Getting symmetric and skew symmetric features from the cplumns\n",
        "symmetric_feature=[]\n",
        "non_symmetric_feature=[]\n",
        "for i in df_removed.describe().columns:\n",
        "  if abs(df_removed[i].mean()-df_removed[i].median())<0.1:\n",
        "    symmetric_feature.append(i)\n",
        "  else:\n",
        "    non_symmetric_feature.append(i)\n",
        "\n",
        "# Getting Symmetric Distributed Features\n",
        "print(\"Symmetric Distributed Features : -\",symmetric_feature)\n",
        "# Removing Customer Service Calls column from the list as it's an important factor\n",
        "# which can't be treated as outliers here will is already leading to higher churn as we have seen furing analysis.\n",
        "non_symmetric_feature.remove('Churn')\n",
        "non_symmetric_feature.remove('Customer service calls')\n",
        "non_symmetric_feature.remove('Voice mail plan')\n",
        "# Getting Skew Symmetric Distributed Features\n",
        "print(\"Skew Symmetric Distributed Features : -\",non_symmetric_feature)"
      ],
      "metadata": {
        "id": "YnvslXZKj5dH"
      },
      "execution_count": null,
      "outputs": []
    },
    {
      "cell_type": "markdown",
      "source": [
        "#### Do you think that your data needs to be transformed? If yes, which transformation have you used. Explain Why?"
      ],
      "metadata": {
        "id": "nqoHp30x9hH9"
      }
    },
    {
      "cell_type": "code",
      "source": [
        "# Transform Your data\n",
        "# Exponential Transforming the required column\n",
        "df_removed['intern_1call_duration']=(df_removed['intern_1call_duration'])**0.25\n",
        "df_removed['evening_1call_duration']=(df_removed['evening_1call_duration'])**0.25"
      ],
      "metadata": {
        "id": "sac3ukURl6CW"
      },
      "execution_count": null,
      "outputs": []
    },
    {
      "cell_type": "code",
      "source": [
        "# Visualizing code of hist plot for each columns to know the data distibution\n",
        "for col in df_removed.loc[:,non_symmetric_feature]:\n",
        "  fig=plt.figure(figsize=(9,6))\n",
        "  ax=fig.gca()\n",
        "  feature= (df_removed[col])\n",
        "  sns.distplot(df_removed[col])\n",
        "  ax.axvline(feature.mean(),color='magenta', linestyle='dashed', linewidth=2)\n",
        "  ax.axvline(feature.median(),color='cyan', linestyle='dashed', linewidth=2)\n",
        "  ax.set_title(col)\n",
        "plt.show()"
      ],
      "metadata": {
        "id": "zdFioDnFkscQ"
      },
      "execution_count": null,
      "outputs": []
    },
    {
      "cell_type": "markdown",
      "source": [
        "From the features, I got to know that there are 2 features which aren't symmetric so aren't following gaussian distribution and rest are having szymmetric curve. Thus, for those two columns I have used Exponential transformation to achieve gaussian distribution.\n",
        "\n",
        " I tried with other transformations and found exponetial tranformation with no infinity value and working fine. So, I am continuing with Exponentia lransformation with a power of 0.25.\n"
      ],
      "metadata": {
        "id": "u8DJwJSybwe0"
      }
    },
    {
      "cell_type": "markdown",
      "source": [
        "### 6. Data Scaling"
      ],
      "metadata": {
        "id": "rMDnDkt2B6du"
      }
    },
    {
      "cell_type": "code",
      "source": [
        "# Scaling your data\n",
        "# Checking the data\n",
        "df_removed.head()"
      ],
      "metadata": {
        "id": "dL9LWpySC6x_"
      },
      "execution_count": null,
      "outputs": []
    },
    {
      "cell_type": "code",
      "source": [
        "# Visualizing code of hist plot for each columns to know the data distibution\n",
        "\n",
        "fig=plt.figure(figsize=(9,6))\n",
        "ax=fig.gca()\n",
        "feature= (df_removed[\"Account length\"])\n",
        "sns.distplot(df_removed[\"Account length\"])\n",
        "ax.axvline(feature.mean(),color='magenta', linestyle='dashed', linewidth=2)\n",
        "ax.axvline(feature.median(),color='cyan', linestyle='dashed', linewidth=2)\n",
        "ax.set_title(\"Account length\")\n",
        "plt.show()"
      ],
      "metadata": {
        "id": "3j6IWzta9Xh4"
      },
      "execution_count": null,
      "outputs": []
    },
    {
      "cell_type": "markdown",
      "source": [
        "##### Which method have you used to scale you data and why?"
      ],
      "metadata": {
        "id": "yiiVWRdJDDil"
      }
    },
    {
      "cell_type": "code",
      "source": [
        "# Standardizing the required column\n",
        "df_removed[\"Account length\"] = StandardScaler().fit_transform(df_removed[\"Account length\"].values.reshape(-1, 1))"
      ],
      "metadata": {
        "id": "KvPL0rvG6aAO"
      },
      "execution_count": null,
      "outputs": []
    },
    {
      "cell_type": "code",
      "source": [
        "# Checking the dataset\n",
        "df_removed.head()"
      ],
      "metadata": {
        "id": "vYT_PjFl96Cl"
      },
      "execution_count": null,
      "outputs": []
    },
    {
      "cell_type": "markdown",
      "source": [
        "When you are using an algorithm that assumes your features have a similar range, you should use feature scaling.\n",
        "\n",
        "If the ranges of your features differ much then you should use feature scaling. If the range does not vary a lot like one of them is between 0 and 2 and the other one is between -1 and 0.5 then you can leave them as it's. However, you should use feature scaling if the ranges are, for example, between -2 and 2 and between -100 and 100.\n",
        "\n",
        "Use Standardization when your data follows Gaussian distribution.\n",
        "Use Normalization when your data does not follow Gaussian distribution.\n",
        "\n",
        "So, in my data only Account Length column having large data difference and following gaussian distribution. That's why, I have used standardization using atandardscaler.\n"
      ],
      "metadata": {
        "id": "-_-SaQemdYeu"
      }
    },
    {
      "cell_type": "markdown",
      "source": [
        "### 7. Dimesionality Reduction"
      ],
      "metadata": {
        "id": "1UUpS68QDMuG"
      }
    },
    {
      "cell_type": "markdown",
      "source": [
        "##### Do you think that dimensionality reduction is needed? Explain Why?"
      ],
      "metadata": {
        "id": "kexQrXU-DjzY"
      }
    },
    {
      "cell_type": "markdown",
      "source": [
        "As per my knowledge, for this dataset dimensionality reduction is not required.\n",
        "\n",
        "Essentially where high dimensions are a problem or where it is a particular point in the algorithm to dimension reduction.\n",
        "\n",
        "Hard rules are hard to state, other than “after you have tried it, did it improve matters”, which isn’t always the most useful guidance.\n",
        "\n",
        "Instead, looking at why we might want to do this we can get a bit of insight. Admittedly some of the following might blur together a bit at the edges but the aim is to give a flavour.\n",
        "\n",
        "1. Our data are too big. 4 million rows. 50,000 columns… is there a lot of redundancy there? Building a model on this could be very expensive. Even relatively simple dimension reduction techniques like PCA can capture almost all of the information in a fraction of the memory if there are strong relationships (that can be linearly approximated) in the data.\n",
        "\n",
        "2. We are over-fitting. If you build a model with tens of thousands of degrees of freedom but don’t have a lot of examples you can easily overfit. Dimension reduction is one way of handling this, though often not the the best\n",
        "\n",
        "3. We want to bring in external data. OK, this is a bit different but worth a note. In applications like word2vec we want to build a classifier using an embedding. We may want to classify some text into different categories but with only a limited number of examples. The complexity of free text is vast but a low dimension embedding is much smaller and will not overfit so badly in a classifier. Building a low dimensional embedding on external text, applying it to the text to be classified then building a classifier is using dimension reduction to bring in external data.\n",
        "\n",
        "4. We suffer from the curse of dimesnionality. Consider something like a nearest neighbour search. As the number of dimensions gets large we see some unwanted behaviour, especially if we are looking at things like euclidean distances. Projecting your data to a lower dimensional space for nearest neighbour, clustering or outlier detection can be both more robust and more meaningful.\n",
        "\n",
        "5. Some tools are all about this. Collaborative filtering through matrix factorisation is an example. Can we approximately describe behaviour as a linear combination of a smaller number of preferences/behaviours?"
      ],
      "metadata": {
        "id": "GGRlBsSGDtTQ"
      }
    },
    {
      "cell_type": "code",
      "source": [
        "# DImensionality Reduction (If needed)"
      ],
      "metadata": {
        "id": "kQfvxBBHDvCa"
      },
      "execution_count": null,
      "outputs": []
    },
    {
      "cell_type": "markdown",
      "source": [
        "##### Which dimensionality reduction technique have you used and why? (If dimensionality reduction done on dataset.)"
      ],
      "metadata": {
        "id": "T5CmagL3EC8N"
      }
    },
    {
      "cell_type": "markdown",
      "source": [
        "Answer Here."
      ],
      "metadata": {
        "id": "ZKr75IDuEM7t"
      }
    },
    {
      "cell_type": "markdown",
      "source": [
        "### 8. Data Splitting"
      ],
      "metadata": {
        "id": "BhH2vgX9EjGr"
      }
    },
    {
      "cell_type": "code",
      "source": [
        "# Split your data to train and test. Choose Splitting ratio wisely.\n",
        "# Split your data to train and test. Choose Splitting ratio wisely.\n",
        " # split into 70:30 ratio\n",
        "X_train, X_test, y_train, y_test = train_test_split(df_removed.drop(\"Churn\",axis=1),df_removed[\"Churn\"], test_size = 0.3, random_state = 0)\n",
        "\n",
        "# describes info about train and test set\n",
        "print(\"Number transactions X_train dataset: \", X_train.shape)\n",
        "print(\"Number transactions y_train dataset: \", y_train.shape)\n",
        "print(\"Number transactions X_test dataset: \", X_test.shape)\n",
        "print(\"Number transactions y_test dataset: \", y_test.shape)"
      ],
      "metadata": {
        "id": "0CTyd2UwEyNM"
      },
      "execution_count": null,
      "outputs": []
    },
    {
      "cell_type": "markdown",
      "source": [
        "##### What data splitting ratio have you used and why?"
      ],
      "metadata": {
        "id": "qjKvONjwE8ra"
      }
    },
    {
      "cell_type": "markdown",
      "source": [
        "There are two competing concerns: with less training data, your parameter estimates have greater variance. With less testing data, your performance statistic will have greater variance. Broadly speaking you should be concerned with dividing data such that neither variance is too high, which is more to do with the absolute number of instances in each category rather than the percentage.\n",
        "\n",
        "If you have a total of 100 instances, you're probably stuck with cross validation as no single split is going to give you satisfactory variance in your estimates. If you have 100,000 instances, it doesn't really matter whether you choose an 80:20 split or a 90:10 split (indeed you may choose to use less training data if your method is particularly computationally intensive).\n",
        "\n",
        "You'd be surprised to find out that 80/20 is quite a commonly occurring ratio, often referred to as the Pareto principle. It's usually a safe bet if you use that ratio.\n",
        "\n",
        "In this case the training dataset is small, that's why I have taken 70:30 ratio."
      ],
      "metadata": {
        "id": "Y2lJ8cobFDb_"
      }
    },
    {
      "cell_type": "markdown",
      "source": [
        "### 9. Handling Imbalanced Dataset"
      ],
      "metadata": {
        "id": "P1XJ9OREExlT"
      }
    },
    {
      "cell_type": "code",
      "source": [
        "# Chart - 1 visualization code\n",
        "# Dependant Column Value Counts\n",
        "print(dataset.Churn.value_counts())\n",
        "print(\" \")\n",
        "# Dependant Variable Column Visualization\n",
        "dataset['Churn'].value_counts().plot(kind='pie',\n",
        "                              figsize=(15,6),\n",
        "                               autopct=\"%1.1f%%\",\n",
        "                               startangle=90,\n",
        "                               shadow=True,\n",
        "                               labels=['Not Churn(%)','Churn(%)'],\n",
        "                               colors=['skyblue','red'],\n",
        "                               explode=[0,0]\n",
        "                              )"
      ],
      "metadata": {
        "id": "nWaf9g7F3ZRX"
      },
      "execution_count": null,
      "outputs": []
    },
    {
      "cell_type": "markdown",
      "source": [
        "##### Do you think the dataset is imbalanced? Explain Why."
      ],
      "metadata": {
        "id": "VFOzZv6IFROw"
      }
    },
    {
      "cell_type": "markdown",
      "source": [
        "Imbalanced dataset is relevant primarily in the context of supervised machine learning involving two or more classes.\n",
        "\n",
        "Imbalance means that the number of data points available for different the classes is different:\n",
        "If there are two classes, then balanced data would mean 50% points for each of the class. For most machine learning techniques, little imbalance is not a problem. So, if there are 60% points for one class and 40% for the other class, it should not cause any significant performance degradation. Only when the class imbalance is high, e.g. 90% points for one class and 10% for the other, standard optimization criteria or performance measures may not be as effective and would need modification.\n",
        "\n",
        "In our case the dataset dependent column data ratio is 85:15. So, during model creating it's obvios that there will be bias and having a great chance of predicting the majority one so frequently. SO the dataset should be balanced before it going for the model creation part."
      ],
      "metadata": {
        "id": "GeKDIv7pFgcC"
      }
    },
    {
      "cell_type": "code",
      "source": [
        "# Handling Imbalanced Dataset (If needed)\n",
        "# Handaling imbalance dataset using SMOTE\n",
        "# sm = SMOTE(random_state=42)\n",
        "# X_train, y_train = sm.fit_resample(X_train, y_train)\n",
        "\n",
        "# describes info about train and test set\n",
        "print(\"Number transactions X_train dataset: \", X_train.shape)\n",
        "print(\"Number transactions y_train dataset: \", y_train.shape)\n",
        "print(\"Number transactions X_test dataset: \", X_test.shape)\n",
        "print(\"Number transactions y_test dataset: \", y_test.shape)"
      ],
      "metadata": {
        "id": "ama_YYGnATnj"
      },
      "execution_count": null,
      "outputs": []
    },
    {
      "cell_type": "markdown",
      "source": [
        "##### What technique did you use to handle the imbalance dataset and why? (If needed to be balanced)"
      ],
      "metadata": {
        "id": "TIqpNgepFxVj"
      }
    },
    {
      "cell_type": "markdown",
      "source": [
        "I have used SMOTE (Synthetic Minority Over-sampling technique) for balanced the 85:15 dataset.\n",
        "\n",
        "SMOTE is a technique in machine learning for dealing with issues that arise when working with an unbalanced data set. In practice, unbalanced data sets are common and most ML algorithms are highly prone to unbalanced data so we need to improve their performance by using techniques like SMOTE.\n",
        "\n",
        "To address this disparity, balancing schemes that augment the data to make it more balanced before training the classifier were proposed. Oversampling the minority class by duplicating minority samples or undersampling the majority class is the simplest balancing method.\n",
        "\n",
        "The idea of incorporating synthetic minority samples into tabular data was first proposed in SMOTE, where synthetic minority samples are generated by interpolating pairs of original minority points.\n",
        "\n",
        "SMOTE is a data augmentation algorithm that creates synthetic data points from raw data. SMOTE can be thought of as a more sophisticated version of oversampling or a specific data augmentation algorithm.\n",
        "\n",
        "SMOTE has the advantage of not creating duplicate data points, but rather synthetic data points that differ slightly from the original data points. SMOTE is a superior oversampling option.\n",
        "\n",
        "That's why for lots of advantages, I have used SMOTE technique for balancinmg the dataset.\n"
      ],
      "metadata": {
        "id": "qbet1HwdGDTz"
      }
    },
    {
      "cell_type": "markdown",
      "source": [
        "## ***7. ML Model Implementation***"
      ],
      "metadata": {
        "id": "VfCC591jGiD4"
      }
    },
    {
      "cell_type": "markdown",
      "source": [
        "### ML Model - 1 - **Implementing Logistic Regression**"
      ],
      "metadata": {
        "id": "peAK6Cc_HQeo"
      }
    },
    {
      "cell_type": "code",
      "metadata": {
        "id": "xbsRRWRfEQtK"
      },
      "source": [
        "# ML Model - 1 Implementation\n",
        "clf = LogisticRegression(fit_intercept=True, max_iter=10000)\n",
        "# Fit the Algorithm\n",
        "clf.fit(X_train, y_train)"
      ],
      "execution_count": null,
      "outputs": []
    },
    {
      "cell_type": "code",
      "metadata": {
        "id": "hF36F8oQEVIp"
      },
      "source": [
        "# Checking the coefficients\n",
        "clf.coef_"
      ],
      "execution_count": null,
      "outputs": []
    },
    {
      "cell_type": "code",
      "metadata": {
        "id": "uUsxKejfytOD"
      },
      "source": [
        "# Checking the intercept value\n",
        "clf.intercept_"
      ],
      "execution_count": null,
      "outputs": []
    },
    {
      "cell_type": "code",
      "metadata": {
        "id": "H_5ATxY7EbXx"
      },
      "source": [
        "# Predict on the model\n",
        "# Get the predicted probabilities\n",
        "train_preds = clf.predict_proba(X_train)\n",
        "test_preds = clf.predict_proba(X_test)"
      ],
      "execution_count": null,
      "outputs": []
    },
    {
      "cell_type": "code",
      "metadata": {
        "id": "biUzo8zBExKg"
      },
      "source": [
        "# Get the predicted classes\n",
        "train_class_preds = clf.predict(X_train)\n",
        "test_class_preds = clf.predict(X_test)"
      ],
      "execution_count": null,
      "outputs": []
    },
    {
      "cell_type": "code",
      "metadata": {
        "id": "0r2loKjLE9KB"
      },
      "source": [
        "# Get the accuracy scores\n",
        "train_accuracy = accuracy_score(train_class_preds,y_train)\n",
        "test_accuracy = accuracy_score(test_class_preds,y_test)\n",
        "\n",
        "print(\"The accuracy on train data is \", train_accuracy)\n",
        "print(\"The accuracy on test data is \", test_accuracy)"
      ],
      "execution_count": null,
      "outputs": []
    },
    {
      "cell_type": "markdown",
      "source": [
        "#### 1. Explain the ML Model used and it's performance using Evaluation metric Score Chart."
      ],
      "metadata": {
        "id": "khncImPpHcol"
      }
    },
    {
      "cell_type": "code",
      "metadata": {
        "id": "_dUfuIPtFBi7"
      },
      "source": [
        "# Visualizing evaluation Metric Score chart\n",
        "# Get the confusion matrix for both train and test\n",
        "\n",
        "labels = ['Retained', 'Churned']\n",
        "cm = confusion_matrix(y_train, train_class_preds)\n",
        "print(cm)\n",
        "\n",
        "ax= plt.subplot()\n",
        "sns.heatmap(cm, annot=True, ax = ax) #annot=True to annotate cells\n",
        "\n",
        "# labels, title and ticks\n",
        "ax.set_xlabel('Predicted labels')\n",
        "ax.set_ylabel('True labels')\n",
        "ax.set_title('Confusion Matrix')\n",
        "ax.xaxis.set_ticklabels(labels)\n",
        "ax.yaxis.set_ticklabels(labels)"
      ],
      "execution_count": null,
      "outputs": []
    },
    {
      "cell_type": "code",
      "metadata": {
        "id": "J_O81exKFNUx"
      },
      "source": [
        "# Get the confusion matrix for both train and test\n",
        "\n",
        "labels = ['Retained', 'Churned']\n",
        "cm = confusion_matrix(y_test, test_class_preds)\n",
        "print(cm)\n",
        "\n",
        "ax= plt.subplot()\n",
        "sns.heatmap(cm, annot=True, ax = ax); #annot=True to annotate cells\n",
        "\n",
        "# labels, title and ticks\n",
        "ax.set_xlabel('Predicted labels')\n",
        "ax.set_ylabel('True labels')\n",
        "ax.set_title('Confusion Matrix')\n",
        "ax.xaxis.set_ticklabels(labels)\n",
        "ax.yaxis.set_ticklabels(labels)"
      ],
      "execution_count": null,
      "outputs": []
    },
    {
      "cell_type": "code",
      "metadata": {
        "id": "LuG-5ThU-9w5"
      },
      "source": [
        "print(metrics.classification_report(train_class_preds, y_train))\n",
        "print(\" \")\n",
        "\n",
        "print(\"roc_auc_score\")\n",
        "print(metrics.roc_auc_score(y_train, train_class_preds))"
      ],
      "execution_count": null,
      "outputs": []
    },
    {
      "cell_type": "code",
      "metadata": {
        "id": "f1py3kXS_XDw"
      },
      "source": [
        "print(metrics.classification_report(test_class_preds, y_test))\n",
        "print(\" \")\n",
        "\n",
        "print(\"roc_auc_score\")\n",
        "print(metrics.roc_auc_score(y_test, test_class_preds))"
      ],
      "execution_count": null,
      "outputs": []
    },
    {
      "cell_type": "markdown",
      "source": [
        "I used Logistic regression algorithm to create the model. As I got not so good result.\n",
        "\n",
        "For training dataset, i found precision of 98% and recall of 87% and f1-score of 92% for False Churn customer data. BUt, I am also interested to see the result for Churning cutomer result as I got precision of 18% and recall of 57% and f1-score of 27%. Accuracy is 86% and average percision, recall & f1_score are 58%, 72% and 60% respectively with a roc auc score of 57%.\n",
        "\n",
        "For testing dataset, i found precision of 98% and recall of 88% and f1-score of 93% for False Churn customer data. BUt, I am also interested to see the result for Churning cutomer result as I got precision of 17% and recall of 56% and f1-score of 27%. Accuracy is 87% and average percision, recall & f1_score are 58%, 72% and 60% respectively with a roc auc score of 57%.\n",
        "\n",
        "Next tryting to improving the score by using hyperparameter tuning technique.\n",
        "\n"
      ],
      "metadata": {
        "id": "221W-59JMa_Y"
      }
    },
    {
      "cell_type": "markdown",
      "source": [
        "#### 2. Cross- Validation & Hyperparameter Tuning"
      ],
      "metadata": {
        "id": "wTe8K5rdYGV1"
      }
    },
    {
      "cell_type": "code",
      "source": [
        "# ML Model - 1 Implementation with hyperparameter optimization techniques (i.e., GridSearch CV, RandomSearch CV, Bayesian Optimization etc.)\n",
        "model = LogisticRegression(max_iter=10000)\n",
        "solvers = ['lbfgs']\n",
        "penalty = ['10','l2','14','16','20','18']\n",
        "c_values = [1000,100, 10, 1.0, 0.1, 0.01,0.001]\n",
        "# define grid search\n",
        "grid = dict(solver=solvers,penalty=penalty,C=c_values)\n",
        "cv = RepeatedStratifiedKFold(n_splits=10, n_repeats=3, random_state=1)\n",
        "grid_search = GridSearchCV(estimator=model, param_grid=grid, n_jobs=-1, cv=cv, scoring='f1',error_score=0)\n",
        "\n",
        "# Fit the Algorithm\n",
        "grid_result=grid_search.fit(X_train, y_train)\n",
        "\n",
        "print(\"Best: %f using %s\" % (grid_result.best_score_, grid_result.best_params_))\n",
        "\n",
        "\n",
        "# Predict on the model\n",
        "# Get the predicted classes\n",
        "train_class_preds = grid_result.predict(X_train)\n",
        "test_class_preds = grid_result.predict(X_test)"
      ],
      "metadata": {
        "id": "nMfZKhyPc4_6"
      },
      "execution_count": null,
      "outputs": []
    },
    {
      "cell_type": "code",
      "source": [
        "print(metrics.classification_report(train_class_preds, y_train))\n",
        "print(\" \")\n",
        "\n",
        "print(\"roc_auc_score\")\n",
        "print(metrics.roc_auc_score(y_train, train_class_preds))"
      ],
      "metadata": {
        "id": "PT5bv9VToFzq"
      },
      "execution_count": null,
      "outputs": []
    },
    {
      "cell_type": "code",
      "source": [
        "print(metrics.classification_report(test_class_preds, y_test))\n",
        "print(\" \")\n",
        "\n",
        "print(\"roc_auc_score\")\n",
        "print(metrics.roc_auc_score(y_test, test_class_preds))"
      ],
      "metadata": {
        "id": "pZCznRPuh4yL"
      },
      "execution_count": null,
      "outputs": []
    },
    {
      "cell_type": "markdown",
      "source": [
        "##### Which hyperparameter optimization technique have you used and why?"
      ],
      "metadata": {
        "id": "yyzM232tatvC"
      }
    },
    {
      "cell_type": "markdown",
      "source": [
        "GridSearchCV which uses the Grid Search technique for finding the optimal hyperparameters to increase the model performance.\n",
        "\n",
        "our goal should be to find the best hyperparameters values to get the perfect prediction results from our model.  But the question arises, how to find these best sets of hyperparameters? One can try the Manual Search method, by using the hit and trial process and can find the best hyperparameters which would take huge time to build a single model.\n",
        "\n",
        "For this reason, methods like Random Search, GridSearch were introduced.\n",
        "Grid Search uses a different combination of all the specified hyperparameters and their values and calculates the performance for each combination and selects the best value for the hyperparameters. This makes the processing time-consuming and expensive based on the number of hyperparameters involved.\n",
        "\n",
        "In GridSearchCV, along with Grid Search, cross-validation is also performed. Cross-Validation is used while training the model.\n",
        "\n",
        "That's why I have used GridsearCV method for hyperparameter optimization."
      ],
      "metadata": {
        "id": "IQS0dR0ta8a0"
      }
    },
    {
      "cell_type": "markdown",
      "source": [
        "##### Have you seen any improvement? Note down the improvement with updates Evaluation metric Score Chart."
      ],
      "metadata": {
        "id": "OMC09DFCbrEm"
      }
    },
    {
      "cell_type": "markdown",
      "source": [
        "For training dataset, i found precision of 98% and recall of 87% and f1-score of 92% for False Churn customer data. BUt, I am also interested to see the result for Churning cutomer result as I got precision of 19% and recall of 57% and f1-score of 28%. Accuracy is 87% and average percision, recall & f1_score are 58%, 72% and 60% respectively with a roc auc score of 58%.\n",
        "\n",
        "Quite improvment seen in precsion, f1 score,accuracy and roc auc score for training dataset of 1%.\n",
        "\n",
        "For testing dataset, i found precision of 98% and recall of 88% and f1-score of 93% for False Churn customer data. BUt, I am also interested to see the result for Churning cutomer result as I got precision of 19% and recall of 55% and f1-score of 28%. Accuracy is 87% and average percision, recall & f1_score are 58%, 72% and 60% respectively with a roc auc score of 58%.\n",
        "\n",
        "Quite improvemnt seen in precsion, f1 score and roc auc of 1% but 1% decrement in recall.\n",
        "\n"
      ],
      "metadata": {
        "id": "cnhimbRXcI7d"
      }
    },
    {
      "cell_type": "markdown",
      "source": [
        "### ML Model - 2 - **Implementing Random Forest Classifier**"
      ],
      "metadata": {
        "id": "dJ2tPlVmpsJ0"
      }
    },
    {
      "cell_type": "code",
      "source": [
        "# ML Model - 2 Implementation\n",
        "# Create an instance of the RandomForestClassifier\n",
        "rf_model = RandomForestClassifier()\n",
        "\n",
        "# Fit the Algorithm\n",
        "rf_model.fit(X_train,y_train)\n",
        "\n",
        "# Predict on the model\n",
        "# Making predictions on train and test data\n",
        "train_class_preds = rf_model.predict(X_train)\n",
        "test_class_preds = rf_model.predict(X_test)"
      ],
      "metadata": {
        "id": "ULgBUAmTpsJ1"
      },
      "execution_count": null,
      "outputs": []
    },
    {
      "cell_type": "code",
      "metadata": {
        "id": "BNzv3F70d3Fb"
      },
      "source": [
        "# Calculating accuracy on train and test\n",
        "train_accuracy = accuracy_score(y_train,train_class_preds)\n",
        "test_accuracy = accuracy_score(y_test,test_class_preds)\n",
        "\n",
        "print(\"The accuracy on train dataset is\", train_accuracy)\n",
        "print(\"The accuracy on test dataset is\", test_accuracy)"
      ],
      "execution_count": null,
      "outputs": []
    },
    {
      "cell_type": "markdown",
      "source": [
        "#### 1. Explain the ML Model used and it's performance using Evaluation metric Score Chart."
      ],
      "metadata": {
        "id": "JWYfwnehpsJ1"
      }
    },
    {
      "cell_type": "code",
      "metadata": {
        "id": "aM3kaWOGd3Fe"
      },
      "source": [
        "\n",
        "# Visualizing evaluation Metric Score chart# Get the confusion matrix for both train and test\n",
        "\n",
        "labels = ['Retained', 'Churned']\n",
        "cm = confusion_matrix(y_train, train_class_preds)\n",
        "print(cm)\n",
        "\n",
        "ax= plt.subplot()\n",
        "sns.heatmap(cm, annot=True, ax = ax) #annot=True to annotate cells\n",
        "\n",
        "# labels, title and ticks\n",
        "ax.set_xlabel('Predicted labels')\n",
        "ax.set_ylabel('True labels')\n",
        "ax.set_title('Confusion Matrix')\n",
        "ax.xaxis.set_ticklabels(labels)\n",
        "ax.yaxis.set_ticklabels(labels)"
      ],
      "execution_count": null,
      "outputs": []
    },
    {
      "cell_type": "code",
      "source": [
        "# Get the confusion matrix for both train and test\n",
        "\n",
        "labels = ['Retained', 'Churned']\n",
        "cm = confusion_matrix(y_test, test_class_preds)\n",
        "print(cm)\n",
        "\n",
        "ax= plt.subplot()\n",
        "sns.heatmap(cm, annot=True, ax = ax) #annot=True to annotate cells\n",
        "\n",
        "# labels, title and ticks\n",
        "ax.set_xlabel('Predicted labels')\n",
        "ax.set_ylabel('True labels')\n",
        "ax.set_title('Confusion Matrix')\n",
        "ax.xaxis.set_ticklabels(labels)\n",
        "ax.yaxis.set_ticklabels(labels)"
      ],
      "metadata": {
        "id": "ZS4_Z8oxubyM"
      },
      "execution_count": null,
      "outputs": []
    },
    {
      "cell_type": "code",
      "source": [
        "print(metrics.classification_report(train_class_preds, y_train))\n",
        "print(\" \")\n",
        "\n",
        "print(\"roc_auc_score\")\n",
        "print(metrics.roc_auc_score(y_train, train_class_preds))"
      ],
      "metadata": {
        "id": "gkBVl6AXuHvE"
      },
      "execution_count": null,
      "outputs": []
    },
    {
      "cell_type": "code",
      "metadata": {
        "id": "KQ2sAPH9d3Fe"
      },
      "source": [
        "print(metrics.classification_report(test_class_preds, y_test))\n",
        "print(\" \")\n",
        "\n",
        "print(\"roc_auc_score\")\n",
        "print(metrics.roc_auc_score(y_test, test_class_preds))"
      ],
      "execution_count": null,
      "outputs": []
    },
    {
      "cell_type": "markdown",
      "source": [
        "Then, I used Random Forest algorithm to create the model. As I got there is overfitting seen.\n",
        "\n",
        "For training dataset, i found precision of 100% and recall of 100% and f1-score of 100% for False Churn customer data. BUt, I am also interested to see the result for Churning cutomer result as I got precision of 100% and recall of 100% and f1-score of 100%. Accuracy is 100% and average percision, recall & f1_score are 100%, 100% and 100% respectively with a roc auc score of 100%.\n",
        "\n",
        "For testing dataset, i found precision of 98% and recall of 91% and f1-score of 94% for False Churn customer data. BUt, I am also interested to see the result for Churning cutomer result as I got precision of 38% and recall of 75% and f1-score of 50%. Accuracy is 90% and average percision, recall & f1_score are 68%, 83% and 72% respectively with a roc auc score of 67%.\n",
        "\n",
        "Next tryting to improving the score by using hyperparameter tuning technique."
      ],
      "metadata": {
        "id": "ImrbALQSRWMi"
      }
    },
    {
      "cell_type": "code",
      "metadata": {
        "id": "5VYJo-3cd3Fi"
      },
      "source": [
        "importances = rf_model.feature_importances_\n",
        "\n",
        "importance_dict = {'Feature' : list(X_train.columns),\n",
        "                   'Feature Importance' : importances}\n",
        "\n",
        "importance_df = pd.DataFrame(importance_dict)\n",
        "importance_df['Feature Importance'] = round(importance_df['Feature Importance'],2)"
      ],
      "execution_count": null,
      "outputs": []
    },
    {
      "cell_type": "code",
      "metadata": {
        "id": "vbG5FRy7d3Fk"
      },
      "source": [
        "importance_df.sort_values(by=['Feature Importance'],ascending=False)"
      ],
      "execution_count": null,
      "outputs": []
    },
    {
      "cell_type": "code",
      "metadata": {
        "id": "_Ft22nvPd3Fl"
      },
      "source": [
        "features = X_train.columns\n",
        "importances = rf_model.feature_importances_\n",
        "indices = np.argsort(importances)"
      ],
      "execution_count": null,
      "outputs": []
    },
    {
      "cell_type": "code",
      "metadata": {
        "id": "N5nfbZ0td3Fl"
      },
      "source": [
        "plt.title('Feature Importance')\n",
        "plt.barh(range(len(indices)), importances[indices], color='red', align='center')\n",
        "plt.yticks(range(len(indices)), [features[i] for i in indices])\n",
        "plt.xlabel('Relative Importance')\n",
        "\n",
        "plt.show()"
      ],
      "execution_count": null,
      "outputs": []
    },
    {
      "cell_type": "markdown",
      "source": [
        "#### 2. Cross- Validation & Hyperparameter Tuning"
      ],
      "metadata": {
        "id": "-jK_YjpMpsJ2"
      }
    },
    {
      "cell_type": "code",
      "source": [
        "# ML Model - 2 Implementation with hyperparameter optimization techniques (i.e., GridSearch CV, RandomSearch CV, Bayesian Optimization etc.)\n",
        "# Number of trees\n",
        "n_estimators = [50,80,100]\n",
        "\n",
        "# Maximum depth of trees\n",
        "max_depth = [4,6,8]\n",
        "\n",
        "# Minimum number of samples required to split a node\n",
        "min_samples_split = [50,100,150]\n",
        "\n",
        "# Minimum number of samples required at each leaf node\n",
        "min_samples_leaf = [40,50]\n",
        "\n",
        "# HYperparameter Grid\n",
        "param_dict = {'n_estimators' : n_estimators,\n",
        "              'max_depth' : max_depth,\n",
        "              'min_samples_split' : min_samples_split,\n",
        "              'min_samples_leaf' : min_samples_leaf}\n",
        "\n",
        "# Create an instance of the RandomForestClassifier\n",
        "rf_model = RandomForestClassifier()\n",
        "\n",
        "# Grid search\n",
        "rf_grid = GridSearchCV(estimator=rf_model,\n",
        "                       param_grid = param_dict,\n",
        "                       cv = 5, verbose=2, scoring='f1')\n",
        "\n",
        "\n",
        "# Fit the Algorithm\n",
        "rf_grid.fit(X_train,y_train)\n",
        "\n",
        "\n",
        "\n",
        "# Predict on the model\n",
        "# Making predictions on train and test data\n",
        "train_class_preds = rf_grid.predict(X_train)\n",
        "test_class_preds = rf_grid.predict(X_test)\n"
      ],
      "metadata": {
        "id": "Dn0EOfS6psJ2"
      },
      "execution_count": null,
      "outputs": []
    },
    {
      "cell_type": "code",
      "source": [
        "print(\"Best: %f using %s\" % (rf_grid.best_score_, rf_grid.best_params_))"
      ],
      "metadata": {
        "id": "lCoLk8mFv7Fq"
      },
      "execution_count": null,
      "outputs": []
    },
    {
      "cell_type": "code",
      "metadata": {
        "id": "RM9RSG6rxNHx"
      },
      "source": [
        "\n",
        "# Visualizing evaluation Metric Score chart# Get the confusion matrix for both train and test\n",
        "\n",
        "labels = ['Retained', 'Churned']\n",
        "cm = confusion_matrix(y_train, train_class_preds)\n",
        "print(cm)\n",
        "\n",
        "ax= plt.subplot()\n",
        "sns.heatmap(cm, annot=True, ax = ax) #annot=True to annotate cells\n",
        "\n",
        "# labels, title and ticks\n",
        "ax.set_xlabel('Predicted labels')\n",
        "ax.set_ylabel('True labels')\n",
        "ax.set_title('Confusion Matrix')\n",
        "ax.xaxis.set_ticklabels(labels)\n",
        "ax.yaxis.set_ticklabels(labels)"
      ],
      "execution_count": null,
      "outputs": []
    },
    {
      "cell_type": "code",
      "source": [
        "# Get the confusion matrix for both train and test\n",
        "\n",
        "labels = ['Retained', 'Churned']\n",
        "cm = confusion_matrix(y_test, test_class_preds)\n",
        "print(cm)\n",
        "\n",
        "ax= plt.subplot()\n",
        "sns.heatmap(cm, annot=True, ax = ax) #annot=True to annotate cells\n",
        "\n",
        "# labels, title and ticks\n",
        "ax.set_xlabel('Predicted labels')\n",
        "ax.set_ylabel('True labels')\n",
        "ax.set_title('Confusion Matrix')\n",
        "ax.xaxis.set_ticklabels(labels)\n",
        "ax.yaxis.set_ticklabels(labels)"
      ],
      "metadata": {
        "id": "39qZeMeMxNHy"
      },
      "execution_count": null,
      "outputs": []
    },
    {
      "cell_type": "code",
      "source": [
        "print(metrics.classification_report(train_class_preds, y_train))\n",
        "print(\" \")\n",
        "\n",
        "print(\"roc_auc_score\")\n",
        "print(metrics.roc_auc_score(y_train, train_class_preds))"
      ],
      "metadata": {
        "id": "ZS0JiWsxxNHy"
      },
      "execution_count": null,
      "outputs": []
    },
    {
      "cell_type": "code",
      "metadata": {
        "id": "Okw5SsDoxNHy"
      },
      "source": [
        "# Hypertuned Random Forest\n",
        "print(metrics.classification_report(test_class_preds, y_test))\n",
        "print(\" \")\n",
        "\n",
        "print(\"roc_auc_score\")\n",
        "print(metrics.roc_auc_score(y_test, test_class_preds))"
      ],
      "execution_count": null,
      "outputs": []
    },
    {
      "cell_type": "markdown",
      "source": [
        "##### Which hyperparameter optimization technique have you used and why?"
      ],
      "metadata": {
        "id": "HAih1iBOpsJ2"
      }
    },
    {
      "cell_type": "markdown",
      "source": [
        "GridSearchCV which uses the Grid Search technique for finding the optimal hyperparameters to increase the model performance.\n",
        "\n",
        "our goal should be to find the best hyperparameters values to get the perfect prediction results from our model.  But the question arises, how to find these best sets of hyperparameters? One can try the Manual Search method, by using the hit and trial process and can find the best hyperparameters which would take huge time to build a single model.\n",
        "\n",
        "For this reason, methods like Random Search, GridSearch were introduced.\n",
        "Grid Search uses a different combination of all the specified hyperparameters and their values and calculates the performance for each combination and selects the best value for the hyperparameters. This makes the processing time-consuming and expensive based on the number of hyperparameters involved.\n",
        "\n",
        "In GridSearchCV, along with Grid Search, cross-validation is also performed. Cross-Validation is used while training the model.\n",
        "\n",
        "That's why I have used GridsearCV method for hyperparameter optimization."
      ],
      "metadata": {
        "id": "9kBgjYcdpsJ2"
      }
    },
    {
      "cell_type": "markdown",
      "source": [
        "##### Have you seen any improvement? Note down the improvement with updates Evaluation metric Score Chart."
      ],
      "metadata": {
        "id": "zVGeBEFhpsJ2"
      }
    },
    {
      "cell_type": "markdown",
      "source": [
        "For training dataset, i found precision of 100% and recall of 87% and f1-score of 93% for False Churn customer data. BUt, I am also interested to see the result for Churning cutomer result as I got precision of 12% and recall of 93% and f1-score of 22%. Accuracy is 88% and average percision, recall & f1_score are 56%, 90% and 57% respectively with a roc auc score of 56%.\n",
        "\n",
        "Quite improvment seen as no overfitting but the scores reduced by some percentages.\n",
        "\n",
        "For testing dataset, i found precision of 100% and recall of 88% and f1-score of 93% for False Churn customer data. BUt, I am also interested to see the result for Churning cutomer result as I got precision of 13% and recall of 90% and f1-score of 23%. Accuracy is 88% and average percision, recall & f1_score are 56%, 89% and 58% respectively with a roc auc score of 56%.\n",
        "\n",
        "Quite improvemnt seen in recall but rest scores have decreased.\n"
      ],
      "metadata": {
        "id": "74yRdG6UpsJ3"
      }
    },
    {
      "cell_type": "markdown",
      "source": [
        "### ML Model - 3 - **Implementing XgBoost Classifier**"
      ],
      "metadata": {
        "id": "Fze-IPXLpx6K"
      }
    },
    {
      "cell_type": "code",
      "source": [
        "# ML Model - 3 Implementation\n",
        "# Create an instance of the RandomForestClassifier\n",
        "xg_model = XGBClassifier()\n",
        "\n",
        "# Fit the Algorithm\n",
        "xg_models=xg_model.fit(X_train,y_train)\n",
        "\n",
        "# Predict on the model\n",
        "# Making predictions on train and test data\n",
        "\n",
        "train_class_preds = xg_models.predict(X_train)\n",
        "test_class_preds = xg_models.predict(X_test)"
      ],
      "metadata": {
        "id": "FFrSXAtrpx6M"
      },
      "execution_count": null,
      "outputs": []
    },
    {
      "cell_type": "markdown",
      "source": [
        "#### 1. Explain the ML Model used and it's performance using Evaluation metric Score Chart."
      ],
      "metadata": {
        "id": "7AN1z2sKpx6M"
      }
    },
    {
      "cell_type": "code",
      "metadata": {
        "id": "SLMHFSXSy48N"
      },
      "source": [
        "# Visualizing evaluation Metric Score chart\n",
        "# Visualizing evaluation Metric Score chart# Get the confusion matrix for both train and test\n",
        "\n",
        "labels = ['Retained', 'Churned']\n",
        "cm = confusion_matrix(y_train, train_class_preds)\n",
        "print(cm)\n",
        "\n",
        "ax= plt.subplot()\n",
        "sns.heatmap(cm, annot=True, ax = ax) #annot=True to annotate cells\n",
        "\n",
        "# labels, title and ticks\n",
        "ax.set_xlabel('Predicted labels')\n",
        "ax.set_ylabel('True labels')\n",
        "ax.set_title('Confusion Matrix')\n",
        "ax.xaxis.set_ticklabels(labels)\n",
        "ax.yaxis.set_ticklabels(labels)"
      ],
      "execution_count": null,
      "outputs": []
    },
    {
      "cell_type": "code",
      "source": [
        "# Get the confusion matrix for both train and test\n",
        "\n",
        "labels = ['Retained', 'Churned']\n",
        "cm = confusion_matrix(y_test, test_class_preds)\n",
        "print(cm)\n",
        "\n",
        "ax= plt.subplot()\n",
        "sns.heatmap(cm, annot=True, ax = ax) #annot=True to annotate cells\n",
        "\n",
        "# labels, title and ticks\n",
        "ax.set_xlabel('Predicted labels')\n",
        "ax.set_ylabel('True labels')\n",
        "ax.set_title('Confusion Matrix')\n",
        "ax.xaxis.set_ticklabels(labels)\n",
        "ax.yaxis.set_ticklabels(labels)"
      ],
      "metadata": {
        "id": "YDZwdmNqy48P"
      },
      "execution_count": null,
      "outputs": []
    },
    {
      "cell_type": "code",
      "source": [
        "print(metrics.classification_report(train_class_preds, y_train))\n",
        "print(\" \")\n",
        "\n",
        "print(\"roc_auc_score\")\n",
        "print(metrics.roc_auc_score(y_train, train_class_preds))"
      ],
      "metadata": {
        "id": "JAlBgPjdy48O"
      },
      "execution_count": null,
      "outputs": []
    },
    {
      "cell_type": "code",
      "metadata": {
        "id": "f4yEhj5ay48P"
      },
      "source": [
        "print(metrics.classification_report(test_class_preds, y_test))\n",
        "print(\" \")\n",
        "\n",
        "print(\"roc_auc_score\")\n",
        "print(metrics.roc_auc_score(y_test, test_class_preds))"
      ],
      "execution_count": null,
      "outputs": []
    },
    {
      "cell_type": "markdown",
      "source": [
        "Then, I used XGBoost algorithm to create the model. As I got there  good result.\n",
        "\n",
        "For training dataset, i found precision of 100% and recall of 91% and f1-score of 95% for False Churn customer data. BUt, I am also interested to see the result for Churning cutomer result as I got precision of 46% and recall of 95% and f1-score of 62%. Accuracy is 92% and average percision, recall & f1_score are 73%, 93% and 79% respectively with a roc auc score of 72%.\n",
        "\n",
        "For testing dataset, i found precision of 99% and recall of 90% and f1-score of 94% for False Churn customer data. BUt, I am also interested to see the result for Churning cutomer result as I got precision of 35% and recall of 80% and f1-score of 48%. Accuracy is 90% and average percision, recall & f1_score are 67%, 85% and 71% respectively with a roc auc score of 66%.\n",
        "\n",
        "Next tryting to improving the score by using hyperparameter tuning technique."
      ],
      "metadata": {
        "id": "ctnr9FepURk1"
      }
    },
    {
      "cell_type": "code",
      "metadata": {
        "id": "evtxQtoczOK4"
      },
      "source": [
        "importances = xg_model.feature_importances_\n",
        "\n",
        "importance_dict = {'Feature' : list(X_train.columns),\n",
        "                   'Feature Importance' : importances}\n",
        "\n",
        "importance_df = pd.DataFrame(importance_dict)\n",
        "importance_df['Feature Importance'] = round(importance_df['Feature Importance'],2)"
      ],
      "execution_count": null,
      "outputs": []
    },
    {
      "cell_type": "code",
      "metadata": {
        "id": "YJoQ_0sUzOK5"
      },
      "source": [
        "importance_df.sort_values(by=['Feature Importance'],ascending=False)"
      ],
      "execution_count": null,
      "outputs": []
    },
    {
      "cell_type": "code",
      "metadata": {
        "id": "TaxEFDeUzOK5"
      },
      "source": [
        "features = X_train.columns\n",
        "importances = xg_model.feature_importances_\n",
        "indices = np.argsort(importances)"
      ],
      "execution_count": null,
      "outputs": []
    },
    {
      "cell_type": "code",
      "metadata": {
        "id": "UvYA_tJ3zOK6"
      },
      "source": [
        "plt.title('Feature Importance')\n",
        "plt.barh(range(len(indices)), importances[indices], color='red', align='center')\n",
        "plt.yticks(range(len(indices)), [features[i] for i in indices])\n",
        "plt.xlabel('Relative Importance')\n",
        "\n",
        "plt.show()"
      ],
      "execution_count": null,
      "outputs": []
    },
    {
      "cell_type": "markdown",
      "source": [
        "#### 2. Cross- Validation & Hyperparameter Tuning"
      ],
      "metadata": {
        "id": "9PIHJqyupx6M"
      }
    },
    {
      "cell_type": "code",
      "source": [
        "# ML Model - 3 Implementation with hyperparameter optimization techniques (i.e., GridSearch CV, RandomSearch CV, Bayesian Optimization etc.)\n",
        "# Number of trees\n",
        "n_estimators = [50,80,100]\n",
        "\n",
        "# Maximum depth of trees\n",
        "max_depth = [4,6,8]\n",
        "\n",
        "# Minimum number of samples required to split a node\n",
        "min_samples_split = [50,100,150]\n",
        "\n",
        "# Minimum number of samples required at each leaf node\n",
        "min_samples_leaf = [40,50]\n",
        "\n",
        "# HYperparameter Grid\n",
        "param_dict = {'n_estimators' : n_estimators,\n",
        "              'max_depth' : max_depth,\n",
        "              'min_samples_split' : min_samples_split,\n",
        "              'min_samples_leaf' : min_samples_leaf}\n",
        "\n",
        "# Create an instance of the RandomForestClassifier\n",
        "xg_model = XGBClassifier()\n",
        "\n",
        "# Fit the Algorithm\n",
        "# Grid search\n",
        "xg_grid = GridSearchCV(estimator=xg_model,\n",
        "                       param_grid = param_dict,\n",
        "                       cv = 5, verbose=2, scoring='roc_auc')\n",
        "\n",
        "xg_grid1=xg_grid.fit(X_train,y_train)\n",
        "# Predict on the model\n",
        "# Making predictions on train and test data\n",
        "\n",
        "train_class_preds = xg_grid1.predict(X_train)\n",
        "test_class_preds = xg_grid1.predict(X_test)"
      ],
      "metadata": {
        "id": "eSVXuaSKpx6M"
      },
      "execution_count": null,
      "outputs": []
    },
    {
      "cell_type": "code",
      "source": [
        "print(\"Best: %f using %s\" % (xg_grid.best_score_, xg_grid.best_params_))"
      ],
      "metadata": {
        "id": "70UCwE6KzskE"
      },
      "execution_count": null,
      "outputs": []
    },
    {
      "cell_type": "code",
      "metadata": {
        "id": "wHazRuY_0RRK"
      },
      "source": [
        "# Visualizing evaluation Metric Score chart\n",
        "# Visualizing evaluation Metric Score chart# Get the confusion matrix for both train and test\n",
        "\n",
        "labels = ['Retained', 'Churned']\n",
        "cm = confusion_matrix(y_train, train_class_preds)\n",
        "print(cm)\n",
        "\n",
        "ax= plt.subplot()\n",
        "sns.heatmap(cm, annot=True, ax = ax) #annot=True to annotate cells\n",
        "\n",
        "# labels, title and ticks\n",
        "ax.set_xlabel('Predicted labels')\n",
        "ax.set_ylabel('True labels')\n",
        "ax.set_title('Confusion Matrix')\n",
        "ax.xaxis.set_ticklabels(labels)\n",
        "ax.yaxis.set_ticklabels(labels)"
      ],
      "execution_count": null,
      "outputs": []
    },
    {
      "cell_type": "code",
      "source": [
        "# Get the confusion matrix for both train and test\n",
        "\n",
        "labels = ['Retained', 'Churned']\n",
        "cm = confusion_matrix(y_test, test_class_preds)\n",
        "print(cm)\n",
        "\n",
        "ax= plt.subplot()\n",
        "sns.heatmap(cm, annot=True, ax = ax) #annot=True to annotate cells\n",
        "\n",
        "# labels, title and ticks\n",
        "ax.set_xlabel('Predicted labels')\n",
        "ax.set_ylabel('True labels')\n",
        "ax.set_title('Confusion Matrix')\n",
        "ax.xaxis.set_ticklabels(labels)\n",
        "ax.yaxis.set_ticklabels(labels)"
      ],
      "metadata": {
        "id": "t09GuUml0RRK"
      },
      "execution_count": null,
      "outputs": []
    },
    {
      "cell_type": "code",
      "source": [
        "print(metrics.classification_report(train_class_preds, y_train))\n",
        "print(\" \")\n",
        "\n",
        "print(\"roc_auc_score\")\n",
        "print(metrics.roc_auc_score(y_train, train_class_preds))"
      ],
      "metadata": {
        "id": "jbfBpu_y0RRK"
      },
      "execution_count": null,
      "outputs": []
    },
    {
      "cell_type": "code",
      "metadata": {
        "id": "Hglw0pWL0RRL"
      },
      "source": [
        "print(metrics.classification_report(test_class_preds, y_test))\n",
        "print(\" \")\n",
        "\n",
        "print(\"roc_auc_score\")\n",
        "print(metrics.roc_auc_score(y_test, test_class_preds))"
      ],
      "execution_count": null,
      "outputs": []
    },
    {
      "cell_type": "markdown",
      "source": [
        "##### Which hyperparameter optimization technique have you used and why?"
      ],
      "metadata": {
        "id": "_-qAgymDpx6N"
      }
    },
    {
      "cell_type": "markdown",
      "source": [
        "GridSearchCV which uses the Grid Search technique for finding the optimal hyperparameters to increase the model performance.\n",
        "\n",
        "our goal should be to find the best hyperparameters values to get the perfect prediction results from our model.  But the question arises, how to find these best sets of hyperparameters? One can try the Manual Search method, by using the hit and trial process and can find the best hyperparameters which would take huge time to build a single model.\n",
        "\n",
        "For this reason, methods like Random Search, GridSearch were introduced.\n",
        "Grid Search uses a different combination of all the specified hyperparameters and their values and calculates the performance for each combination and selects the best value for the hyperparameters. This makes the processing time-consuming and expensive based on the number of hyperparameters involved.\n",
        "\n",
        "In GridSearchCV, along with Grid Search, cross-validation is also performed. Cross-Validation is used while training the model.\n",
        "\n",
        "That's why I have used GridsearCV method for hyperparameter optimization."
      ],
      "metadata": {
        "id": "lQMffxkwpx6N"
      }
    },
    {
      "cell_type": "markdown",
      "source": [
        "##### Have you seen any improvement? Note down the improvement with updates Evaluation metric Score Chart."
      ],
      "metadata": {
        "id": "Z-hykwinpx6N"
      }
    },
    {
      "cell_type": "markdown",
      "source": [
        "![Screenshot 2022-06-20 at 3.06.07 PM.png](data:image/png;base64,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)"
      ],
      "metadata": {
        "id": "uwO4taJXeFXZ"
      }
    },
    {
      "cell_type": "markdown",
      "source": [
        "For training dataset, i found precision of 100% and recall of 91% and f1-score of 95% for False Churn customer data. BUt, I am also interested to see the result for Churning cutomer result as I got precision of 46% and recall of 95% and f1-score of 62%. Accuracy is 92% and average percision, recall & f1_score are 73%, 93% and 79% respectively with a roc auc score of 72%.\n",
        "\n",
        "No improvement or decreament every score is constant as earlier.\n",
        "\n",
        "For testing dataset, i found precision of 99% and recall of 90% and f1-score of 94% for False Churn customer data. BUt, I am also interested to see the result for Churning cutomer result as I got precision of 35% and recall of 81% and f1-score of 49%. Accuracy is 90% and average percision, recall & f1_score are 67%, 86% and 72% respectively with a roc auc score of 66%.\n",
        "\n",
        "Quite improvemnt in recall, f1 score as well as average recall & f1 score by 1%."
      ],
      "metadata": {
        "id": "MzVzZC6opx6N"
      }
    },
    {
      "cell_type": "markdown",
      "source": [
        "### 1. Which Evaluation metrics did you consider for a positive business impact and why?"
      ],
      "metadata": {
        "id": "h_CCil-SKHpo"
      }
    },
    {
      "cell_type": "markdown",
      "source": [
        "I would like to go with both Recall and Precision and which describes both is F1 Score.\n",
        "\n",
        "To reduce false negative recall is important and to reduce false positives precision is important. Where both are important to be minimized, f1_score is being considered. False Positive is defined as the model predicted that the customer will churn but the customer didn't churn. But according to our model it will churn so, there would be quite chance of his churning not for immediate but after some times. So, for those type of customers we can send them some beneficial modified offers to retain them. Again false negative defines as model will predict that the customer won't churn but the customer really churned. That will be an issue for us. So, for that case we have to minimize the false negative. and false positive we must improve the score of both precision as well as recall which should direclt affect the f1_score positively. So, in our case recall will stand the higher but precision can't be neglected. so, ***recall should be higher and f1_score should be moderate.***"
      ],
      "metadata": {
        "id": "6ksF5Q1LKTVm"
      }
    },
    {
      "cell_type": "markdown",
      "source": [
        "### 2. Which ML model did you choose from the above created models as your final prediction model and why?"
      ],
      "metadata": {
        "id": "cBFFvTBNJzUa"
      }
    },
    {
      "cell_type": "markdown",
      "source": [
        "I have choosen XGBoost model which is hyperparameter optimized. first of all I need accuracy for the churn prediction and time isn't a constrain here, beacuse the data is not lke swiggy or ola which booking needs to be faster. Thus, for greater accuracy we used kernel SVM, Random Forest, XgBoost kind of ensembel r=techniques. So, I tried both Random Forest and XGBoost. Here is their ealuation metrics and I would like to compare.\n",
        "\n",
        "![Screenshot 2022-06-19 at 7.56.37 PM.png](data:image/png;base64,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)"
      ],
      "metadata": {
        "id": "jHVz9hHDKFms"
      }
    },
    {
      "cell_type": "markdown",
      "source": [
        "From the above snap shot, we can clearly see that for XGBoost has a improved score of f1_score over random forest. the accuracy and roc auc score is also improved for xg boost. The recall might be high in random forest but when it comes to precision and f1_score for True Churn Data scores, it's very low and even in averge scores of precision and f1_score is too low. In case of xgboost it's higher than that of random forest.\n",
        "\n",
        "So, I have chosen XGBoost as the final prdiction model which should be deployed for real user interaction."
      ],
      "metadata": {
        "id": "h0DZUNlUa1-G"
      }
    },
    {
      "cell_type": "markdown",
      "source": [
        "### 3. Explain the model which you have used and the feature importance using any model explainability tool?"
      ],
      "metadata": {
        "id": "HvGl1hHyA_VK"
      }
    },
    {
      "cell_type": "code",
      "source": [
        "#Get shap values\n",
        "explainer = shap.Explainer(xg_models)\n",
        "shap_values = explainer(X_test)"
      ],
      "metadata": {
        "id": "HwMWtgHMcp2e"
      },
      "execution_count": null,
      "outputs": []
    },
    {
      "cell_type": "code",
      "source": [
        "# Waterfall plot for first observation\n",
        "shap.plots.waterfall(shap_values[0])"
      ],
      "metadata": {
        "id": "xsJ6cvtwdT6p"
      },
      "execution_count": null,
      "outputs": []
    },
    {
      "cell_type": "markdown",
      "source": [
        "To better understand this, let’s dive into our first SHAP plot. Above we have the code to create a waterfall plot for the first abalone in our dataset. This plot helps us visualise the SHAP values for each of the features. These tell us how much each of the features have increased or decreased the predicted number of rings for this specific abalone.\n",
        "\n",
        "Looking at the x-axis, we can see the base value is E[f(x)] = -1.94. This is the average predicted number of rings across all 2967 abalones. The ending value is f(x) = -0.396. This is the predicted churn type for this abalone. The SHAP values are all the values in between. For example, the international plan  increased the predicted class of churn type by 1.03 when compared to the Account Length.\n",
        "\n",
        "There will be a unique waterfall plot for every observation/abalone in our dataset. They can all be interpreted in the same way as above. In each case, the SHAP values tell us how much each factor contributed to the model’s prediction when compared to the mean prediction. Large positive/negative SHAP values indicate that the feature had a significant impact on the model’s prediction."
      ],
      "metadata": {
        "id": "kQZX0I3YeiQM"
      }
    },
    {
      "cell_type": "code",
      "source": [
        "# Initialize JavaScript visualizations in notebook environment\n",
        "shap.initjs()\n",
        "# Forceplot for first observation\n",
        "shap.plots.force(shap_values[0])"
      ],
      "metadata": {
        "id": "OEAwgQY5d6wJ"
      },
      "execution_count": null,
      "outputs": []
    },
    {
      "cell_type": "markdown",
      "source": [
        "Another way to visualise SHAP values is using a force plot. These give us pretty much the same information as a waterfall plot in a straight line how the geatures are contributiong and the relationship between the features. If one value value increases res will compress. you can see we start at the same base value of -1.94."
      ],
      "metadata": {
        "id": "a3J1xsxxgKO3"
      }
    },
    {
      "cell_type": "code",
      "source": [
        "# Get expected value and shap values array\n",
        "expected_value = explainer.expected_value\n",
        "shap_array = explainer.shap_values(X_test)\n",
        "\n",
        "#Descion plot for first 10 observations\n",
        "shap.decision_plot(expected_value, shap_array[0:10],feature_names=list(X_test.columns))"
      ],
      "metadata": {
        "id": "2WPLpsukeKMr"
      },
      "execution_count": null,
      "outputs": []
    },
    {
      "cell_type": "markdown",
      "source": [
        "Waterfall and force plots are great for interpreting individual predictions. To understand how our model makes predictions in general we need to aggregate the SHAP values. One way to do this is using a decision plot. Above we have the code used to output the decision plot for the first 10 abalones.\n",
        "\n",
        "we can see there are 10 lines in the plot —one for each abalone. They all start at the same base value of -1.94 and end at their final predicted number of rings. As you move up from each feature on the y-axis, the movement on the x-axis is given by the SHAP value for that feature. Ultimately, this gives you similar information to a waterfall plot except we can now see it for multiple observations.\n",
        "\n",
        "With only 10 observations, we can already see some trends. For example, some of the lines seem to zig-zag at the top of the chart. For these observations, the shucked weight increases the prediction (i.e. positive SHAP) and the shell weight and whole weight decrease the prediction (i.e. negative SHAP). In other words, these features have opposite effects on the prediction. When we look at plot 5 — beeswarm, we will see that this is the case for the model in general.\n",
        "\n",
        "An issue with this chart is that we can’t use it to visualise all the SHAP values at once. As you increase the number of observations it will become too cluttered and it will be difficult to gain any understanding of how the model works. We are limited to interpreting the SHAP values for a handful of observations."
      ],
      "metadata": {
        "id": "ZlCtCsFvgtxI"
      }
    },
    {
      "cell_type": "code",
      "source": [
        "#Mean SHAP\n",
        "shap.plots.bar(shap_values)"
      ],
      "metadata": {
        "id": "dlPe8NFNePY8"
      },
      "execution_count": null,
      "outputs": []
    },
    {
      "cell_type": "markdown",
      "source": [
        "Another way to aggregate the values is using a mean SHAP plot. For each feature, we calculate the mean of the absolute SHAP values across all observations. We take the absolute values as we do not want positive and negative values to offset each other. In the end, we have the bar plot above. There is one bar for each feature and we can see that shell weight had the largest mean SHAP out of all the features.\n",
        "\n",
        "Features that have large mean SHAP values will tend to have large positive/negative SHAP values. In other words, these are the features that have a significant impact on the model’s predictions. In this sense, this plot can be used in the same way as a feature importance plot. That is to highlight features that are important to a model’s predictions. An issue is that it does not tell us anything about the nature of the relationship between features and the target variable.\n",
        "\n"
      ],
      "metadata": {
        "id": "Tno74FAchBGd"
      }
    },
    {
      "cell_type": "code",
      "source": [
        "# Beeswarm plot\n",
        "shap.plots.beeswarm(shap_values)"
      ],
      "metadata": {
        "id": "qVYvFUBdeV2r"
      },
      "execution_count": null,
      "outputs": []
    },
    {
      "cell_type": "markdown",
      "source": [
        "Our final aggregation is the beeswarm plot. As seen in Figure, this is a plot of all the SHAP values. The values are grouped by the features on the y-axis. For each group, the colour of the points is determined by the value of the same feature (i.e. higher feature values are redder). The features are ordered by the mean SHAP values.\n",
        "\n",
        "This plot addresses some of the issues in the previous plots. Unlike the decision plot, we can plot all the observations and still have clear interpretations. Like mean SHAP, it can be used to highlight important relationships. We can also start to understand the nature of these relationships. For example, for Day_1call_duration notice how as the feature value increases the SHAP values increase.\n"
      ],
      "metadata": {
        "id": "cWCeVLZghnB-"
      }
    },
    {
      "cell_type": "markdown",
      "source": [
        "# **Data Preprocessing Blog**\n"
      ],
      "metadata": {
        "id": "eLTSyMe3_MXH"
      }
    },
    {
      "cell_type": "markdown",
      "source": [
        "https://medium.com/almabetter/data-preprocessing-ea09fac6a7f7"
      ],
      "metadata": {
        "id": "XYNmUe2H_pPX"
      }
    },
    {
      "cell_type": "markdown",
      "source": [
        "# **Conclusion**"
      ],
      "metadata": {
        "id": "gCX9965dhzqZ"
      }
    },
    {
      "cell_type": "markdown",
      "source": [
        "1. Here are some solution to Reduce Customer Churn\n",
        "\n",
        "* Modify International Plan as the charge is same as normal one.\n",
        "* Be proactive with communication.\n",
        "* Ask for feedback often.\n",
        "* Periodically throw Offers to retain customers.\n",
        "* Look at the customers facing problem in the most churning states.\n",
        "* Lean into best customers.\n",
        "* Regular Server Maintenance.\n",
        "* Solving Poor Network Connectivity Issue.\n",
        "* Define a roadmap for new customers.\n",
        "* Analyze churn when it happens.\n",
        "* Stay competitive.\n",
        "\n",
        "2. The four charge fields are linear functions of the minute fields.\n",
        "\n",
        "3. The area code field and/or the state field are anomalous, and can be omitted.\n",
        "\n",
        "4. Customers with the International Plan tend to churn more frequently.\n",
        "\n",
        "5. Customers with four or more customer service calls churn more than four times as often as do the other customers.\n",
        "\n",
        "6. Customers with high day minutes and evening minutes tend to churn at a higher rate than do the other customers.\n",
        "\n",
        "7. There is no obvious association of churn with the variables day calls, evening calls, night calls, international calls, night minutes, international minutes, account length, or voice mail messages.\n",
        "\n",
        "8. We can deploy the model with XGBoost algorithm. Because For training dataset, i found precision of 100% and recall of 91% and f1-score of 95% for False Churn customer data. BUt, I am also interested to see the result for Churning cutomer result as I got precision of 46% and recall of 95% and f1-score of 62%. Accuracy is 92% and average percision, recall & f1_score are 73%, 93% and 79% respectively with a roc auc score of 72%. For testing dataset, i found precision of 99% and recall of 90% and f1-score of 94% for False Churn customer data. BUt, I am also interested to see the result for Churning cutomer result as I got precision of 35% and recall of 81% and f1-score of 49%. Accuracy is 90% and average percision, recall & f1_score are 67%, 86% and 72% respectively with a roc auc score of 66%. It's the best performing model i found.\n",
        "\n",
        "9. No overfitting is seen.\n",
        "\n",
        "10. Due to less no. of data in the dataset, the scores are around 80%. Once we get more data we can retrain our algorithm for better performance."
      ],
      "metadata": {
        "id": "Fjb1IsQkh3yE"
      }
    },
    {
      "cell_type": "markdown",
      "source": [
        "### ***Hurrah! You have successfully completed your Machine Learning Capstone Project !!!***"
      ],
      "metadata": {
        "id": "gIfDvo9L0UH2"
      }
    }
  ]
}