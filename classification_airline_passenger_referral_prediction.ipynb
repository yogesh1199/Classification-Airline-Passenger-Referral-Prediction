{
  "nbformat": 4,
  "nbformat_minor": 0,
  "metadata": {
    "colab": {
      "private_outputs": true,
      "provenance": [],
      "collapsed_sections": [
        "bqVZBxrvPD8n",
        "mDgbUHAGgjLW"
      ],
      "include_colab_link": true
    },
    "kernelspec": {
      "name": "python3",
      "display_name": "Python 3"
    },
    "language_info": {
      "name": "python"
    }
  },
  "cells": [
    {
      "cell_type": "markdown",
      "metadata": {
        "id": "view-in-github",
        "colab_type": "text"
      },
      "source": [
        "<a href=\"https://colab.research.google.com/github/yogesh1199/Classification-Airline-Passenger-Referral-Prediction/blob/main/classification_airline_passenger_referral_prediction.ipynb\" target=\"_parent\"><img src=\"https://colab.research.google.com/assets/colab-badge.svg\" alt=\"Open In Colab\"/></a>"
      ]
    },
    {
      "cell_type": "markdown",
      "source": [
        "# **Project Name**    -  **Airline Passenger Referral Prediction**\n",
        "\n"
      ],
      "metadata": {
        "id": "ILM16xV1PD8m"
      }
    },
    {
      "cell_type": "markdown",
      "source": [
        "##### **Project Type**    - Classification\n",
        "##### **Contribution**    - Individual\n",
        "##### **Github Link**    - https://github.com/yogesh1199/Classification-Airline-Passenger-Referral-Prediction"
      ],
      "metadata": {
        "id": "bqVZBxrvPD8n"
      }
    },
    {
      "cell_type": "markdown",
      "source": [
        "# **Problem Statement**\n"
      ],
      "metadata": {
        "id": "yQaldy8SH6Dl"
      }
    },
    {
      "cell_type": "markdown",
      "source": [
        "**BUSINESS PROBLEM OVERVIEW**\n",
        "\n",
        "\n",
        "Air transport or aviation plays a very important role in the current transport infrastructure of the world and is definitely considered as the gift of the 20th century to the world. In today's fast paced world, air transport is a boon to all because of its speed. This mode of transportation is very useful for getting products quickly and safely to those who need them with short delivery times, but also allows the tourism industry in each country to grow steadily, reducing the distance between all the people living in the world.\n",
        "\n",
        "Here, I have a dataset related to customer service ratings by various airlines. The main objective of this project is to understand how passengers will recommend airlines to others. Here the dataset is very large which initially had 131895 rows and 17 columns. On checking the data information, it was found that the dataset basically had two different types of data, 7 columns of floats 64, 10 columns of data types with object types. Coming to the null values ​​and missing values ​​in the dataset, it was observed that non-null counts do not match which clearly states that a large number of missing and null values ​​are present in the dataset.\n",
        "\n",
        "The main objective is to predict whether passengers will refer the airline to them or not"
      ],
      "metadata": {
        "id": "jivUA-ONOwse"
      }
    },
    {
      "cell_type": "markdown",
      "source": [
        "# **General Guidelines** : -  "
      ],
      "metadata": {
        "id": "mDgbUHAGgjLW"
      }
    },
    {
      "cell_type": "markdown",
      "source": [
        "1.   Well-structured, formatted, and commented code is required.\n",
        "2.   Exception Handling, Production Grade Code & Deployment Ready Code will be a plus. Those students will be awarded some additional credits.\n",
        "     \n",
        "     The additional credits will have advantages over other students during Star Student selection.\n",
        "       \n",
        "             [ Note: - Deployment Ready Code is defined as, the whole .ipynb notebook should be executable in one go\n",
        "                       without a single error logged. ]\n",
        "\n",
        "3.   Each and every logic should have proper comments.\n",
        "4. You may add as many number of charts you want. Make Sure for each and every chart the following format should be answered.\n",
        "        \n",
        "\n",
        "```\n",
        "# Chart visualization code\n",
        "```\n",
        "            \n",
        "\n",
        "*   Why did you pick the specific chart?\n",
        "*   What is/are the insight(s) found from the chart?\n",
        "* Will the gained insights help creating a positive business impact?\n",
        "Are there any insights that lead to negative growth? Justify with specific reason.\n",
        "\n",
        "5. You have to create at least 15 logical & meaningful charts having important insights.\n",
        "\n",
        "\n",
        "[ Hints : - Do the Vizualization in  a structured way while following \"UBM\" Rule.\n",
        "\n",
        "U - Univariate Analysis,\n",
        "\n",
        "B - Bivariate Analysis (Numerical - Categorical, Numerical - Numerical, Categorical - Categorical)\n",
        "\n",
        "M - Multivariate Analysis\n",
        " ]\n",
        "\n",
        "\n",
        "\n",
        "\n",
        "\n",
        "6. You may add more ml algorithms for model creation. Make sure for each and every algorithm, the following format should be answered.\n",
        "\n",
        "\n",
        "*   Explain the ML Model used and it's performance using Evaluation metric Score Chart.\n",
        "\n",
        "\n",
        "*   Cross- Validation & Hyperparameter Tuning\n",
        "\n",
        "*   Have you seen any improvement? Note down the improvement with updates Evaluation metric Score Chart.\n",
        "\n",
        "*   Explain each evaluation metric's indication towards business and the business impact pf the ML model used.\n",
        "\n",
        "\n",
        "\n",
        "\n",
        "\n",
        "\n",
        "\n",
        "\n",
        "\n",
        "\n",
        "\n",
        "\n",
        "\n",
        "\n",
        "\n",
        "\n",
        "\n",
        "\n"
      ],
      "metadata": {
        "id": "ZrxVaUj-hHfC"
      }
    },
    {
      "cell_type": "markdown",
      "source": [
        "# ***Let's Begin !***"
      ],
      "metadata": {
        "id": "O_i_v8NEhb9l"
      }
    },
    {
      "cell_type": "markdown",
      "source": [
        "## ***1. Know Your Data***"
      ],
      "metadata": {
        "id": "HhfV-JJviCcP"
      }
    },
    {
      "cell_type": "markdown",
      "source": [
        "### Import Libraries"
      ],
      "metadata": {
        "id": "Y3lxredqlCYt"
      }
    },
    {
      "cell_type": "code",
      "source": [
        "# Import Libraries\n",
        "import numpy as np\n",
        "import pandas as pd\n",
        "from numpy import math\n",
        "from numpy import loadtxt\n",
        "import seaborn as sns\n",
        "import matplotlib.pyplot as plt\n",
        "\n",
        "import seaborn as sns\n",
        "from scipy.stats import *\n",
        "\n",
        "from statsmodels.stats.outliers_influence import variance_inflation_factor\n",
        "from sklearn.preprocessing import StandardScaler\n",
        "from sklearn.model_selection import train_test_split\n",
        "from imblearn.over_sampling import SMOTE\n",
        "from sklearn.linear_model import LogisticRegression\n",
        "from sklearn.ensemble import RandomForestClassifier\n",
        "from sklearn.metrics import accuracy_score, confusion_matrix\n",
        "from sklearn import metrics\n",
        "from sklearn.metrics import roc_curve\n",
        "from sklearn.model_selection import GridSearchCV\n",
        "from sklearn.model_selection import RepeatedStratifiedKFold\n",
        "from xgboost import XGBClassifier\n",
        "from xgboost import XGBRFClassifier\n",
        "from sklearn.tree import export_graphviz\n",
        "\n",
        "import warnings\n",
        "warnings.filterwarnings('ignore')"
      ],
      "metadata": {
        "id": "M8Vqi-pPk-HR"
      },
      "execution_count": null,
      "outputs": []
    },
    {
      "cell_type": "markdown",
      "source": [
        "### Dataset Loading"
      ],
      "metadata": {
        "id": "3RnN4peoiCZX"
      }
    },
    {
      "cell_type": "code",
      "source": [
        "# Load Dataset\n",
        "url = \"https://github.com/yogesh1199/Classification-Airline-Passenger-Referral-Prediction/raw/main/data_airline_reviews.xlsx\"\n",
        "\n",
        "airline_df = pd.read_excel(url)\n"
      ],
      "metadata": {
        "id": "4CkvbW_SlZ_R"
      },
      "execution_count": null,
      "outputs": []
    },
    {
      "cell_type": "code",
      "source": [],
      "metadata": {
        "id": "CEhiayUv1809"
      },
      "execution_count": null,
      "outputs": []
    },
    {
      "cell_type": "markdown",
      "source": [
        "### Dataset First View"
      ],
      "metadata": {
        "id": "x71ZqKXriCWQ"
      }
    },
    {
      "cell_type": "code",
      "source": [
        "# Dataset First\n",
        "airline_df.head()"
      ],
      "metadata": {
        "id": "LWNFOSvLl09H"
      },
      "execution_count": null,
      "outputs": []
    },
    {
      "cell_type": "code",
      "source": [
        "airline_df.tail()"
      ],
      "metadata": {
        "id": "ppMlX2UaWmeW"
      },
      "execution_count": null,
      "outputs": []
    },
    {
      "cell_type": "markdown",
      "source": [
        "### Dataset Rows & Columns count"
      ],
      "metadata": {
        "id": "7hBIi_osiCS2"
      }
    },
    {
      "cell_type": "code",
      "source": [
        "# Dataset Rows & Columns\n",
        "airline_df.shape"
      ],
      "metadata": {
        "id": "Kllu7SJgmLij"
      },
      "execution_count": null,
      "outputs": []
    },
    {
      "cell_type": "markdown",
      "source": [
        "### Dataset Information"
      ],
      "metadata": {
        "id": "JlHwYmJAmNHm"
      }
    },
    {
      "cell_type": "code",
      "source": [
        "# Dataset Info\n",
        "airline_df.info()"
      ],
      "metadata": {
        "id": "e9hRXRi6meOf"
      },
      "execution_count": null,
      "outputs": []
    },
    {
      "cell_type": "markdown",
      "source": [
        "#### Duplicate Values"
      ],
      "metadata": {
        "id": "35m5QtbWiB9F"
      }
    },
    {
      "cell_type": "code",
      "source": [
        "# Dataset Duplicate Value Count\n",
        "len(airline_df[airline_df.duplicated()])"
      ],
      "metadata": {
        "id": "1sLdpKYkmox0"
      },
      "execution_count": null,
      "outputs": []
    },
    {
      "cell_type": "code",
      "source": [
        "airline_df.drop_duplicates(inplace = True)"
      ],
      "metadata": {
        "id": "dd_P-72lYzHG"
      },
      "execution_count": null,
      "outputs": []
    },
    {
      "cell_type": "code",
      "source": [
        "len(airline_df[airline_df.duplicated()])"
      ],
      "metadata": {
        "id": "Ty3X1vLJY2Ka"
      },
      "execution_count": null,
      "outputs": []
    },
    {
      "cell_type": "markdown",
      "source": [
        "#### Missing Values/Null Values"
      ],
      "metadata": {
        "id": "PoPl-ycgm1ru"
      }
    },
    {
      "cell_type": "code",
      "source": [
        "# Missing Values/Null Values Count\n",
        "print(airline_df.isnull().sum())"
      ],
      "metadata": {
        "id": "GgHWkxvamxVg"
      },
      "execution_count": null,
      "outputs": []
    },
    {
      "cell_type": "code",
      "source": [
        "# Visualizing the missing values\n",
        "# Checking Null Value by plotting Heatmap\n",
        "###sns.heatmap(airline_df.isnull())\n",
        "\n",
        "plt.figure(figsize=(10, 6))\n",
        "plt.imshow(airline_df.isnull(), cmap='viridis', aspect='auto')\n",
        "plt.xticks(range(len(airline_df.columns)), airline_df.columns, rotation=90)\n",
        "plt.colorbar(label='Missing Values')\n",
        "plt.title('Missing Value Heatmap')\n",
        "\n",
        "plt.show()"
      ],
      "metadata": {
        "id": "3q5wnI3om9sJ"
      },
      "execution_count": null,
      "outputs": []
    },
    {
      "cell_type": "markdown",
      "source": [
        "## ***2. Understanding Your Variables***"
      ],
      "metadata": {
        "id": "nA9Y7ga8ng1Z"
      }
    },
    {
      "cell_type": "code",
      "source": [
        "# Dataset Columns\n",
        "airline_df.columns"
      ],
      "metadata": {
        "id": "n87BaXA_42-R"
      },
      "execution_count": null,
      "outputs": []
    },
    {
      "cell_type": "code",
      "source": [
        "# Dataset Describe\n",
        "airline_df.describe(include='all')"
      ],
      "metadata": {
        "id": "DnOaZdaE5Q5t"
      },
      "execution_count": null,
      "outputs": []
    },
    {
      "cell_type": "markdown",
      "source": [
        "### Variables Description"
      ],
      "metadata": {
        "id": "PBTbrJXOngz2"
      }
    },
    {
      "cell_type": "markdown",
      "source": [
        "**airline**: The name of the airline being reviewed.\n",
        "\n",
        "**overall**: The overall rating given by the customer, representing their overall satisfaction with the airline experience.\n",
        "\n",
        "**author**: The author or person who wrote the customer review.\n",
        "\n",
        "**review_date**: The date when the review was posted by the customer.\n",
        "\n",
        "**customer_review**: The actual text of the customer**s review expressing their opinions and feedback about the airline.\n",
        "\n",
        "**aircraft**: The type or model of the aircraft used for the flight.\n",
        "\n",
        "**traveller_type**: The type of traveler, indicating whether the customer is a business traveler, leisure traveler, etc.\n",
        "\n",
        "**cabin**: The cabin class in which the customer traveled (e.g., economy, business, first class).\n",
        "\n",
        "**route**: The route or flight path taken by the airline for the reviewed journey.\n",
        "\n",
        "**date_flown**: The date when the flight was taken by the customer.\n",
        "\n",
        "**seat_comfort**: The rating given by the customer for the comfort of the seat during the flight.\n",
        "\n",
        "**cabin_service**: The rating given by the customer for the service provided in the cabin.\n",
        "\n",
        "**food_bev**: The rating given by the customer for the quality of food and beverages provided during the flight.\n",
        "\n",
        "**entertainment**: The rating given by the customer for the in-flight entertainment options.\n",
        "\n",
        "**ground_service**: The rating given by the customer for the overall ground services (e.g., check-in, baggage handling).\n",
        "\n",
        "**value_for_money**: The rating given by the customer for the perceived value for money in relation to the overall experience.\n",
        "\n",
        "**recommended**: A binary indicator (1 or 0) indicating whether the customer would recommend the airline based on their experience."
      ],
      "metadata": {
        "id": "aJV4KIxSnxay"
      }
    },
    {
      "cell_type": "markdown",
      "source": [
        "### Check Unique Values for each variable."
      ],
      "metadata": {
        "id": "u3PMJOP6ngxN"
      }
    },
    {
      "cell_type": "code",
      "source": [
        "# Check Unique Values for each variable.\n",
        "for i in airline_df.columns.tolist():\n",
        "  print(\"No. of unique values in \",i,\"is\",airline_df[i].nunique(),\".\")\n",
        "\n",
        "airline_df['overall'].unique()\n"
      ],
      "metadata": {
        "id": "zms12Yq5n-jE"
      },
      "execution_count": null,
      "outputs": []
    },
    {
      "cell_type": "markdown",
      "source": [
        "## ***3. Data Vizualization, Storytelling & Experimenting with charts : Understand the relationships between variables***"
      ],
      "metadata": {
        "id": "GF8Ens_Soomf"
      }
    },
    {
      "cell_type": "markdown",
      "source": [
        "# Chart - 1 - Distributuion of ratings\n",
        "\n",
        "### Q1. What is the distribution of overall ratings given by customers?\n",
        "### Q2. Are there more positive or negative reviews?"
      ],
      "metadata": {
        "id": "0wOQAZs5pc--"
      }
    },
    {
      "cell_type": "code",
      "source": [
        "####What is the distribution of overall ratings given by customers?\n",
        "plt.figure(figsize=(8,6))\n",
        "sns.histplot(airline_df['overall'],bins=10)\n",
        "plt.title('Distribution of Overall Ratings')\n",
        "plt.xlabel('Overall Rating')\n",
        "plt.ylabel('Frequency')\n",
        "plt.show()\n",
        "\n",
        "positive_reviews = airline_df[airline_df['overall'] >= 4]['overall'].count()\n",
        "negative_reviews = airline_df[airline_df['overall'] <= 2]['overall'].count()\n",
        "\n"
      ],
      "metadata": {
        "id": "7v_ESjsspbW7"
      },
      "execution_count": null,
      "outputs": []
    },
    {
      "cell_type": "markdown",
      "source": [
        "*   The chart shows that the most common rating is a 1, with over 14,000 customers giving this rating.\n",
        "\n",
        "*   The least common rating is 4 and 6 and less then 3000 customers giving that rating"
      ],
      "metadata": {
        "id": "XESiWehPqBRc"
      }
    },
    {
      "cell_type": "code",
      "source": [
        "### Q2. Are there more positive or negative reviews?\n",
        "airline_df['review_category'] = pd.cut(airline_df['overall'], bins=[0, 4, 6, 10], labels=['Negative', 'Neutral', 'Positive'], include_lowest=True)\n",
        "\n",
        "# Plot count of positive vs. negative reviews\n",
        "plt.figure(figsize=(8, 5))\n",
        "sns.countplot(x='review_category', data=airline_df, palette='viridis')\n",
        "plt.title('Distribution of Reviews (Positive vs.Neutral vs. Negative)')\n",
        "plt.xlabel('Review Category')\n",
        "plt.ylabel('Count')\n",
        "plt.show()"
      ],
      "metadata": {
        "id": "ba6HycEXz2Xh"
      },
      "execution_count": null,
      "outputs": []
    },
    {
      "cell_type": "markdown",
      "source": [
        "if we divide ratings as 0-4 (negitive) , 5-6 (Neutral), 7-10 (positive) So as per above graph it is clearly visible that in dataset there are more negitive reviews as compare to positive reviews"
      ],
      "metadata": {
        "id": "jW12N13R1KkS"
      }
    },
    {
      "cell_type": "markdown",
      "source": [
        "## Chart - 2 - Airline Performance:\n",
        "\n",
        "###Q1.Which airlines have the highest and lowest average overall ratings?\n",
        "###Q2.How does the overall rating vary across different airlines?"
      ],
      "metadata": {
        "id": "xJivPyE8q_2k"
      }
    },
    {
      "cell_type": "code",
      "source": [
        "avg_ratings = airline_df.groupby('airline')['overall'].mean().sort_values(ascending=False)\n",
        "\n",
        "# Plot the bar plot\n",
        "plt.figure(figsize=(15,25))\n",
        "sns.barplot(x=avg_ratings.values, y=avg_ratings.index, palette='viridis')\n",
        "plt.title('Average Overall Ratings by Airline')\n",
        "plt.xlabel('Average Overall Rating')\n",
        "plt.ylabel('Airline')\n",
        "plt.show()"
      ],
      "metadata": {
        "id": "NTkxmIkWq_20"
      },
      "execution_count": null,
      "outputs": []
    },
    {
      "cell_type": "markdown",
      "source": [
        "According to the graph we can visualise\n",
        "\n",
        "*   Garuda Indonasia has the highest average overall rating\n",
        "*   Frontier Airlines has the lowest average overall rating"
      ],
      "metadata": {
        "id": "lUIVwA4a4V32"
      }
    },
    {
      "cell_type": "markdown",
      "source": [
        "#### Chart - 3 Review Trends:\n",
        "\n",
        "####Q1 How does the number of customer reviews change over time?\n"
      ],
      "metadata": {
        "id": "Of3PJYNbrGff"
      }
    },
    {
      "cell_type": "code",
      "source": [
        "airline_df['review_date'] = pd.to_datetime(airline_df['review_date'])\n",
        "\n",
        "# Extract year from 'review_date' for grouping\n",
        "airline_df['year'] = airline_df['review_date'].dt.year\n",
        "\n",
        "# Group by year and calculate the count of reviews\n",
        "review_trends_yearly = airline_df.groupby('year').size()\n",
        "\n",
        "# Plotting the time series plot for each year\n",
        "plt.figure(figsize=(12, 6))\n",
        "sns.lineplot(x=review_trends_yearly.index, y=review_trends_yearly.values, marker='o', color='blue')\n",
        "plt.title('Number of Customer Reviews Over Years')\n",
        "plt.xlabel('Year')\n",
        "plt.ylabel('Number of Reviews')\n",
        "plt.xticks(rotation=45)\n",
        "plt.show()"
      ],
      "metadata": {
        "id": "tnFltgWlrGfg"
      },
      "execution_count": null,
      "outputs": []
    },
    {
      "cell_type": "markdown",
      "source": [
        "The number of customer reviews appears to have increased over the years according to the graph.\n",
        "\n",
        "it appears the number of reviews may have increased more rapidly in the earlier years (between 2002 and 2010) as the slope of the line appears steeper in that section."
      ],
      "metadata": {
        "id": "F-0TS6hM675U"
      }
    },
    {
      "cell_type": "markdown",
      "source": [
        "### Chart - 4 Customer Types:\n",
        "\n",
        "#####Q1  What types of travelers (traveller_type) contribute the most reviews?\n",
        "#####Q2  How do overall ratings differ among different traveller types?"
      ],
      "metadata": {
        "id": "riLp7y9brHca"
      }
    },
    {
      "cell_type": "code",
      "source": [
        "#### Q1  What types of travelers (traveller_type) contribute the most reviews?\n",
        "plt.figure(figsize=(12, 6))\n",
        "sns.countplot(x='traveller_type', data=airline_df, palette='viridis')\n",
        "plt.title('Number of Reviews by Traveler Type')\n",
        "plt.xlabel('Traveler Type')\n",
        "plt.ylabel('Number of Reviews')\n",
        "plt.show()"
      ],
      "metadata": {
        "id": "QQ-DWHW5rHca"
      },
      "execution_count": null,
      "outputs": []
    },
    {
      "cell_type": "markdown",
      "source": [
        "From the above graph it is clearly visible that:\n",
        "\n",
        "*   Solo Leisure traveler type has more reviews i.e. over 12,000  \n",
        "*   Business traveler type has lowest reviws followed by family Leisure and Couple Leisure\n",
        "\n"
      ],
      "metadata": {
        "id": "mllwP_zt76FZ"
      }
    },
    {
      "cell_type": "code",
      "source": [
        "#####Q2  How do overall ratings differ among different traveller types?\n",
        "plt.figure(figsize=(12, 6))\n",
        "sns.boxplot(x='traveller_type', y='overall', data=airline_df, palette='viridis')\n",
        "plt.title('Overall Ratings by Traveler Type')\n",
        "plt.xlabel('Traveler Type')\n",
        "plt.ylabel('Overall Rating')\n",
        "plt.show()"
      ],
      "metadata": {
        "id": "Fdz8HrS44VH8"
      },
      "execution_count": null,
      "outputs": []
    },
    {
      "cell_type": "markdown",
      "source": [
        "As per the above Box Plot it is clearly visible that Solo Leisure has more overall rating as compare to other traveller types"
      ],
      "metadata": {
        "id": "yhUbhgMN9O6i"
      }
    },
    {
      "cell_type": "markdown",
      "source": [
        "### Chart - 5 - Cabin Analysis:\n",
        "\n",
        "#### Q1. What is the distribution of ratings for different cabin classes?\n",
        "#### Q2. Are certain cabin classes associated with higher overall ratings?"
      ],
      "metadata": {
        "id": "xnMZvg2orIPt"
      }
    },
    {
      "cell_type": "code",
      "source": [
        "plt.figure(figsize=(12, 6))\n",
        "sns.histplot(data=airline_df, x='seat_comfort', hue='cabin', bins=range(1,6), palette='viridis', multiple='stack')\n",
        "plt.title('Distribution of Seat Comfort Ratings by Cabin Class')\n",
        "plt.xlabel('Seat Comfort Rating')\n",
        "plt.ylabel('Frequency')\n",
        "plt.show()"
      ],
      "metadata": {
        "id": "BIKEKoqErIPu"
      },
      "execution_count": null,
      "outputs": []
    },
    {
      "cell_type": "markdown",
      "source": [
        "The chart shows that:\n",
        "\n",
        "*   Economy class has the most customers who gave a rating of 2.0.\n",
        "*   Business class and Premium economy class have the most customers who gave a rating of 4.0.\n",
        "*   First class has the most customers who gave a rating of 4.5.\n",
        "\n",
        "\n",
        "\n",
        "\n",
        "\n",
        "\n"
      ],
      "metadata": {
        "id": "zVvchsJVA1-P"
      }
    },
    {
      "cell_type": "code",
      "source": [
        "plt.figure(figsize=(12, 6))\n",
        "sns.boxplot(x='cabin', y='overall', data=airline_df, palette='viridis')\n",
        "plt.title('Overall Ratings by Cabin Class')\n",
        "plt.xlabel('Cabin Class')\n",
        "plt.ylabel('Overall Rating')\n",
        "plt.show()"
      ],
      "metadata": {
        "id": "d7qDp535KTt2"
      },
      "execution_count": null,
      "outputs": []
    },
    {
      "cell_type": "markdown",
      "source": [
        "The box plots show the distribution of overall ratings for different cabin classes. The higher the box in the plot, the higher the overall rating for that cabin class.\n",
        "\n",
        "*   First class cabins are typically associated with higher overall ratings than other classes. The box for first class is higher than the boxes for all other classes.\n",
        "*   Business class and premium economy cabins are typically associated with mid-range overall ratings. The boxes for business class and premium economy are lower than the box for first class and higher than the box for economy class.\n",
        "*   Economy class cabins are typically associated with lower overall ratings. The box for economy class is the lowest of all the cabin classes."
      ],
      "metadata": {
        "id": "gN6FT-joBYEY"
      }
    },
    {
      "cell_type": "markdown",
      "source": [
        "### Chart - 6 - Food & Beverage, Entertainment:\n",
        "\n",
        "#### Q1 what is the average ratings of Food_bev and entertainment given by passenger?"
      ],
      "metadata": {
        "id": "XGShqbS2HSAY"
      }
    },
    {
      "cell_type": "code",
      "source": [
        "cabin_df=airline_df.groupby('cabin')[['food_bev','entertainment']].mean().reset_index()\n",
        "cabin_df"
      ],
      "metadata": {
        "id": "-6GTfuViHSAY"
      },
      "execution_count": null,
      "outputs": []
    },
    {
      "cell_type": "code",
      "source": [
        "ratings_df = cabin_df[['cabin', 'food_bev', 'entertainment']]\n",
        "\n",
        "# Melt the DataFrame to have a single 'Rating Type' column\n",
        "melted_ratings = pd.melt(ratings_df, id_vars=['cabin'], var_name='Rating Type', value_name='Overall Rating')\n",
        "\n",
        "# Plot the barplot\n",
        "plt.figure(figsize=(12, 6))\n",
        "sns.barplot(x='cabin', y='Overall Rating', hue='Rating Type', data=melted_ratings, palette='viridis')\n",
        "plt.title('Overall Ratings by Food & Beverage and Entertainment')\n",
        "plt.xlabel('Cabin Class')\n",
        "plt.ylabel('Overall Rating')\n",
        "plt.show()"
      ],
      "metadata": {
        "id": "o88lF0aHPUYw"
      },
      "execution_count": null,
      "outputs": []
    },
    {
      "cell_type": "markdown",
      "source": [
        "### Chart 7 - Word Cloud\n",
        "### Q1.What are the most common words or phrases used in customer reviews?"
      ],
      "metadata": {
        "id": "oQ-pHCWMHO92"
      }
    },
    {
      "cell_type": "code",
      "source": [
        "from wordcloud import WordCloud\n",
        "text_data = ' '.join(airline_df['customer_review'].dropna().astype(str))\n",
        "wordcloud = WordCloud(width=800, height=400, background_color='white').generate(text_data)\n",
        "\n",
        "plt.figure(figsize=(10, 5))\n",
        "plt.imshow(wordcloud, interpolation='bilinear')\n",
        "plt.title('Word Cloud of Customer Reviews')\n",
        "plt.axis('off')  # Turn off the axis labels\n",
        "plt.show()"
      ],
      "metadata": {
        "id": "Eb_s6DRSHO92"
      },
      "execution_count": null,
      "outputs": []
    },
    {
      "cell_type": "markdown",
      "source": [
        "#### Chart - 8 - Comparison of all independent variable"
      ],
      "metadata": {
        "id": "NC_X3p0fY2L0"
      }
    },
    {
      "cell_type": "code",
      "source": [
        "airline_df.hist(bins=50, figsize=(20,15),color = 'blue')\n",
        "plt.show()"
      ],
      "metadata": {
        "id": "xyC9zolEZNRQ"
      },
      "execution_count": null,
      "outputs": []
    },
    {
      "cell_type": "markdown",
      "source": [
        "From above plot\n",
        "\n",
        "              The overall feature ratings of 1 to 2 occur more frequently. From Seat comfort feature, We can say that rating of 1 is highest and rating of 4 is the second highest.\n",
        "\n",
        "              From cabin service feature, We can say that rating of 5 is highest and rating of 1 is the second highest.\n",
        "\n",
        "              The food bev feature ratings of 2,4 and 5 are varies equally.Which means their frequency are approximately equal.\n",
        "\n",
        "              The features of both the entertainment & ground service, We can say that ratings of 3 is highest and ratings of 1 is the second highest.\n",
        "\n",
        "              From value for money feature, It clearly shows that most of the passenger gives ratings of 1 as highest. From this we can say that most of the airline does not provide good service to passenger.\n",
        "\n"
      ],
      "metadata": {
        "id": "ptZzTCzPThTY"
      }
    },
    {
      "cell_type": "markdown",
      "source": [
        "#### Chart - 9 - Correlation plot"
      ],
      "metadata": {
        "id": "q29F0dvdveiT"
      }
    },
    {
      "cell_type": "code",
      "source": [
        "numerical_columns = ['overall', 'seat_comfort','cabin_service', 'food_bev', 'entertainment', 'ground_service', 'value_for_money', 'recommended']\n",
        "numerical_df = airline_df[numerical_columns]\n",
        "\n",
        "# Calculate the correlation matrix\n",
        "correlation_matrix = numerical_df.corr()\n",
        "\n",
        "# Plot a heatmap\n",
        "plt.figure(figsize=(12, 10))\n",
        "sns.heatmap(correlation_matrix, annot=True, cmap='coolwarm', fmt=\".2f\", linewidths=.5)\n",
        "plt.title('Correlation Matrix for Numerical Variables')\n",
        "plt.show()"
      ],
      "metadata": {
        "id": "o58-TEIhveiU"
      },
      "execution_count": null,
      "outputs": []
    }
  ]
}